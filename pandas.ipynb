{
 "cells": [
  {
   "cell_type": "markdown",
   "metadata": {},
   "source": [
    "# IMPORTANT LIBRARIES \n",
    "## NUMPY\n",
    "## PANDAS\n",
    "## SCIKIT(MACHINE LEARNING LIBRARY)\n",
    "## KERAS(DEEP LEARNING)"
   ]
  },
  {
   "cell_type": "markdown",
   "metadata": {},
   "source": []
  },
  {
   "cell_type": "markdown",
   "metadata": {},
   "source": [
    "# VISUALIZATION LIBRARIES\n",
    "## MATH.PLOTLIB\n",
    "## SEABORN\n",
    "## PLOTLY"
   ]
  },
  {
   "cell_type": "markdown",
   "metadata": {},
   "source": []
  },
  {
   "cell_type": "markdown",
   "metadata": {},
   "source": [
    "# PANDAS"
   ]
  },
  {
   "cell_type": "code",
   "execution_count": 1,
   "metadata": {},
   "outputs": [
    {
     "name": "stdout",
     "output_type": "stream",
     "text": [
      "Requirement already satisfied: pandas in c:\\users\\satish\\anaconda3\\lib\\site-packages (1.1.3)\n",
      "Requirement already satisfied: python-dateutil>=2.7.3 in c:\\users\\satish\\anaconda3\\lib\\site-packages (from pandas) (2.8.1)\n",
      "Requirement already satisfied: pytz>=2017.2 in c:\\users\\satish\\anaconda3\\lib\\site-packages (from pandas) (2020.1)\n",
      "Requirement already satisfied: numpy>=1.15.4 in c:\\users\\satish\\anaconda3\\lib\\site-packages (from pandas) (1.19.2)\n",
      "Requirement already satisfied: six>=1.5 in c:\\users\\satish\\anaconda3\\lib\\site-packages (from python-dateutil>=2.7.3->pandas) (1.15.0)\n"
     ]
    }
   ],
   "source": [
    "!pip install pandas"
   ]
  },
  {
   "cell_type": "code",
   "execution_count": 2,
   "metadata": {},
   "outputs": [
    {
     "name": "stdout",
     "output_type": "stream",
     "text": [
      "Requirement already satisfied: jupyter_contrib_nbextensions in c:\\users\\satish\\anaconda3\\lib\\site-packages (0.5.1)\n",
      "Requirement already satisfied: jupyter-contrib-core>=0.3.3 in c:\\users\\satish\\anaconda3\\lib\\site-packages (from jupyter_contrib_nbextensions) (0.3.3)\n",
      "Requirement already satisfied: nbconvert>=4.2 in c:\\users\\satish\\anaconda3\\lib\\site-packages (from jupyter_contrib_nbextensions) (6.0.7)\n",
      "Requirement already satisfied: jupyter-highlight-selected-word>=0.1.1 in c:\\users\\satish\\anaconda3\\lib\\site-packages (from jupyter_contrib_nbextensions) (0.2.0)\n",
      "Requirement already satisfied: ipython-genutils in c:\\users\\satish\\anaconda3\\lib\\site-packages (from jupyter_contrib_nbextensions) (0.2.0)\n",
      "Requirement already satisfied: traitlets>=4.1 in c:\\users\\satish\\anaconda3\\lib\\site-packages (from jupyter_contrib_nbextensions) (5.0.5)\n",
      "Requirement already satisfied: lxml in c:\\users\\satish\\anaconda3\\lib\\site-packages (from jupyter_contrib_nbextensions) (4.6.1)\n",
      "Requirement already satisfied: jupyter-latex-envs>=1.3.8 in c:\\users\\satish\\anaconda3\\lib\\site-packages (from jupyter_contrib_nbextensions) (1.4.6)\n",
      "Requirement already satisfied: tornado in c:\\users\\satish\\anaconda3\\lib\\site-packages (from jupyter_contrib_nbextensions) (6.0.4)\n",
      "Requirement already satisfied: jupyter-core in c:\\users\\satish\\anaconda3\\lib\\site-packages (from jupyter_contrib_nbextensions) (4.6.3)\n",
      "Requirement already satisfied: pyyaml in c:\\users\\satish\\anaconda3\\lib\\site-packages (from jupyter_contrib_nbextensions) (5.3.1)\n",
      "Requirement already satisfied: jupyter-nbextensions-configurator>=0.4.0 in c:\\users\\satish\\anaconda3\\lib\\site-packages (from jupyter_contrib_nbextensions) (0.4.1)\n",
      "Requirement already satisfied: notebook>=4.0 in c:\\users\\satish\\anaconda3\\lib\\site-packages (from jupyter_contrib_nbextensions) (6.1.4)\n",
      "Requirement already satisfied: setuptools in c:\\users\\satish\\anaconda3\\lib\\site-packages (from jupyter-contrib-core>=0.3.3->jupyter_contrib_nbextensions) (50.3.1.post20201107)\n",
      "Requirement already satisfied: pygments>=2.4.1 in c:\\users\\satish\\anaconda3\\lib\\site-packages (from nbconvert>=4.2->jupyter_contrib_nbextensions) (2.7.2)\n",
      "Requirement already satisfied: pandocfilters>=1.4.1 in c:\\users\\satish\\anaconda3\\lib\\site-packages (from nbconvert>=4.2->jupyter_contrib_nbextensions) (1.4.3)\n",
      "Requirement already satisfied: entrypoints>=0.2.2 in c:\\users\\satish\\anaconda3\\lib\\site-packages (from nbconvert>=4.2->jupyter_contrib_nbextensions) (0.3)\n",
      "Requirement already satisfied: defusedxml in c:\\users\\satish\\anaconda3\\lib\\site-packages (from nbconvert>=4.2->jupyter_contrib_nbextensions) (0.6.0)\n",
      "Requirement already satisfied: bleach in c:\\users\\satish\\anaconda3\\lib\\site-packages (from nbconvert>=4.2->jupyter_contrib_nbextensions) (3.2.1)\n",
      "Requirement already satisfied: testpath in c:\\users\\satish\\anaconda3\\lib\\site-packages (from nbconvert>=4.2->jupyter_contrib_nbextensions) (0.4.4)\n",
      "Requirement already satisfied: nbclient<0.6.0,>=0.5.0 in c:\\users\\satish\\anaconda3\\lib\\site-packages (from nbconvert>=4.2->jupyter_contrib_nbextensions) (0.5.1)\n",
      "Requirement already satisfied: nbformat>=4.4 in c:\\users\\satish\\anaconda3\\lib\\site-packages (from nbconvert>=4.2->jupyter_contrib_nbextensions) (5.0.8)\n",
      "Requirement already satisfied: jinja2>=2.4 in c:\\users\\satish\\anaconda3\\lib\\site-packages (from nbconvert>=4.2->jupyter_contrib_nbextensions) (2.11.2)\n",
      "Requirement already satisfied: mistune<2,>=0.8.1 in c:\\users\\satish\\anaconda3\\lib\\site-packages (from nbconvert>=4.2->jupyter_contrib_nbextensions) (0.8.4)\n",
      "Requirement already satisfied: jupyterlab-pygments in c:\\users\\satish\\anaconda3\\lib\\site-packages (from nbconvert>=4.2->jupyter_contrib_nbextensions) (0.1.2)\n",
      "Requirement already satisfied: ipython in c:\\users\\satish\\anaconda3\\lib\\site-packages (from jupyter-latex-envs>=1.3.8->jupyter_contrib_nbextensions) (7.19.0)\n",
      "Requirement already satisfied: pywin32>=1.0; sys_platform == \"win32\" in c:\\users\\satish\\anaconda3\\lib\\site-packages (from jupyter-core->jupyter_contrib_nbextensions) (227)\n",
      "Requirement already satisfied: Send2Trash in c:\\users\\satish\\anaconda3\\lib\\site-packages (from notebook>=4.0->jupyter_contrib_nbextensions) (1.5.0)\n",
      "Requirement already satisfied: pyzmq>=17 in c:\\users\\satish\\anaconda3\\lib\\site-packages (from notebook>=4.0->jupyter_contrib_nbextensions) (19.0.2)\n",
      "Requirement already satisfied: prometheus-client in c:\\users\\satish\\anaconda3\\lib\\site-packages (from notebook>=4.0->jupyter_contrib_nbextensions) (0.8.0)\n",
      "Requirement already satisfied: ipykernel in c:\\users\\satish\\anaconda3\\lib\\site-packages (from notebook>=4.0->jupyter_contrib_nbextensions) (5.3.4)\n",
      "Requirement already satisfied: terminado>=0.8.3 in c:\\users\\satish\\anaconda3\\lib\\site-packages (from notebook>=4.0->jupyter_contrib_nbextensions) (0.9.1)\n",
      "Requirement already satisfied: jupyter-client>=5.3.4 in c:\\users\\satish\\anaconda3\\lib\\site-packages (from notebook>=4.0->jupyter_contrib_nbextensions) (6.1.7)\n",
      "Requirement already satisfied: argon2-cffi in c:\\users\\satish\\anaconda3\\lib\\site-packages (from notebook>=4.0->jupyter_contrib_nbextensions) (20.1.0)\n",
      "Requirement already satisfied: packaging in c:\\users\\satish\\anaconda3\\lib\\site-packages (from bleach->nbconvert>=4.2->jupyter_contrib_nbextensions) (20.4)\n",
      "Requirement already satisfied: webencodings in c:\\users\\satish\\anaconda3\\lib\\site-packages (from bleach->nbconvert>=4.2->jupyter_contrib_nbextensions) (0.5.1)\n",
      "Requirement already satisfied: six>=1.9.0 in c:\\users\\satish\\anaconda3\\lib\\site-packages (from bleach->nbconvert>=4.2->jupyter_contrib_nbextensions) (1.15.0)\n",
      "Requirement already satisfied: nest-asyncio in c:\\users\\satish\\anaconda3\\lib\\site-packages (from nbclient<0.6.0,>=0.5.0->nbconvert>=4.2->jupyter_contrib_nbextensions) (1.4.2)\n",
      "Requirement already satisfied: async-generator in c:\\users\\satish\\anaconda3\\lib\\site-packages (from nbclient<0.6.0,>=0.5.0->nbconvert>=4.2->jupyter_contrib_nbextensions) (1.10)\n",
      "Requirement already satisfied: jsonschema!=2.5.0,>=2.4 in c:\\users\\satish\\anaconda3\\lib\\site-packages (from nbformat>=4.4->nbconvert>=4.2->jupyter_contrib_nbextensions) (3.2.0)\n",
      "Requirement already satisfied: MarkupSafe>=0.23 in c:\\users\\satish\\anaconda3\\lib\\site-packages (from jinja2>=2.4->nbconvert>=4.2->jupyter_contrib_nbextensions) (1.1.1)\n",
      "Requirement already satisfied: colorama; sys_platform == \"win32\" in c:\\users\\satish\\anaconda3\\lib\\site-packages (from ipython->jupyter-latex-envs>=1.3.8->jupyter_contrib_nbextensions) (0.4.4)\n",
      "Requirement already satisfied: backcall in c:\\users\\satish\\anaconda3\\lib\\site-packages (from ipython->jupyter-latex-envs>=1.3.8->jupyter_contrib_nbextensions) (0.2.0)\n",
      "Requirement already satisfied: jedi>=0.10 in c:\\users\\satish\\anaconda3\\lib\\site-packages (from ipython->jupyter-latex-envs>=1.3.8->jupyter_contrib_nbextensions) (0.17.1)\n",
      "Requirement already satisfied: pickleshare in c:\\users\\satish\\anaconda3\\lib\\site-packages (from ipython->jupyter-latex-envs>=1.3.8->jupyter_contrib_nbextensions) (0.7.5)\n",
      "Requirement already satisfied: decorator in c:\\users\\satish\\anaconda3\\lib\\site-packages (from ipython->jupyter-latex-envs>=1.3.8->jupyter_contrib_nbextensions) (4.4.2)\n",
      "Requirement already satisfied: prompt-toolkit!=3.0.0,!=3.0.1,<3.1.0,>=2.0.0 in c:\\users\\satish\\anaconda3\\lib\\site-packages (from ipython->jupyter-latex-envs>=1.3.8->jupyter_contrib_nbextensions) (3.0.8)\n",
      "Requirement already satisfied: pywinpty>=0.5 in c:\\users\\satish\\anaconda3\\lib\\site-packages (from terminado>=0.8.3->notebook>=4.0->jupyter_contrib_nbextensions) (0.5.7)\n",
      "Requirement already satisfied: python-dateutil>=2.1 in c:\\users\\satish\\anaconda3\\lib\\site-packages (from jupyter-client>=5.3.4->notebook>=4.0->jupyter_contrib_nbextensions) (2.8.1)\n",
      "Requirement already satisfied: cffi>=1.0.0 in c:\\users\\satish\\anaconda3\\lib\\site-packages (from argon2-cffi->notebook>=4.0->jupyter_contrib_nbextensions) (1.14.3)\n",
      "Requirement already satisfied: pyparsing>=2.0.2 in c:\\users\\satish\\anaconda3\\lib\\site-packages (from packaging->bleach->nbconvert>=4.2->jupyter_contrib_nbextensions) (2.4.7)\n",
      "Requirement already satisfied: pyrsistent>=0.14.0 in c:\\users\\satish\\anaconda3\\lib\\site-packages (from jsonschema!=2.5.0,>=2.4->nbformat>=4.4->nbconvert>=4.2->jupyter_contrib_nbextensions) (0.17.3)\n",
      "Requirement already satisfied: attrs>=17.4.0 in c:\\users\\satish\\anaconda3\\lib\\site-packages (from jsonschema!=2.5.0,>=2.4->nbformat>=4.4->nbconvert>=4.2->jupyter_contrib_nbextensions) (20.3.0)\n",
      "Requirement already satisfied: parso<0.8.0,>=0.7.0 in c:\\users\\satish\\anaconda3\\lib\\site-packages (from jedi>=0.10->ipython->jupyter-latex-envs>=1.3.8->jupyter_contrib_nbextensions) (0.7.0)\n",
      "Requirement already satisfied: wcwidth in c:\\users\\satish\\anaconda3\\lib\\site-packages (from prompt-toolkit!=3.0.0,!=3.0.1,<3.1.0,>=2.0.0->ipython->jupyter-latex-envs>=1.3.8->jupyter_contrib_nbextensions) (0.2.5)\n",
      "Requirement already satisfied: pycparser in c:\\users\\satish\\anaconda3\\lib\\site-packages (from cffi>=1.0.0->argon2-cffi->notebook>=4.0->jupyter_contrib_nbextensions) (2.20)\n"
     ]
    }
   ],
   "source": [
    "!pip install jupyter_contrib_nbextensions"
   ]
  },
  {
   "cell_type": "code",
   "execution_count": 4,
   "metadata": {},
   "outputs": [
    {
     "name": "stderr",
     "output_type": "stream",
     "text": [
      "[I 12:11:22 InstallContribNbextensionsApp] jupyter contrib nbextension install --user\n",
      "[I 12:11:22 InstallContribNbextensionsApp] Installing jupyter_contrib_nbextensions nbextension files to jupyter data directory\n",
      "[I 12:11:22 InstallContribNbextensionsApp] Installing c:\\users\\satish\\anaconda3\\lib\\site-packages\\jupyter_contrib_nbextensions\\nbextensions\\addbefore -> addbefore\n",
      "[I 12:11:22 InstallContribNbextensionsApp] Up to date: C:\\Users\\satish\\AppData\\Roaming\\jupyter\\nbextensions\\addbefore\\addbefore.yaml\n",
      "[I 12:11:22 InstallContribNbextensionsApp] Up to date: C:\\Users\\satish\\AppData\\Roaming\\jupyter\\nbextensions\\addbefore\\icon.png\n",
      "[I 12:11:22 InstallContribNbextensionsApp] Up to date: C:\\Users\\satish\\AppData\\Roaming\\jupyter\\nbextensions\\addbefore\\main.js\n",
      "[I 12:11:22 InstallContribNbextensionsApp] Up to date: C:\\Users\\satish\\AppData\\Roaming\\jupyter\\nbextensions\\addbefore\\readme.md\n",
      "[I 12:11:22 InstallContribNbextensionsApp] - Validating: ok\n",
      "[I 12:11:22 InstallContribNbextensionsApp] Installing c:\\users\\satish\\anaconda3\\lib\\site-packages\\jupyter_contrib_nbextensions\\nbextensions\\autosavetime -> autosavetime\n",
      "[I 12:11:22 InstallContribNbextensionsApp] Up to date: C:\\Users\\satish\\AppData\\Roaming\\jupyter\\nbextensions\\autosavetime\\autosavetime.yaml\n",
      "[I 12:11:22 InstallContribNbextensionsApp] Up to date: C:\\Users\\satish\\AppData\\Roaming\\jupyter\\nbextensions\\autosavetime\\icon.png\n",
      "[I 12:11:22 InstallContribNbextensionsApp] Up to date: C:\\Users\\satish\\AppData\\Roaming\\jupyter\\nbextensions\\autosavetime\\main.js\n",
      "[I 12:11:22 InstallContribNbextensionsApp] Up to date: C:\\Users\\satish\\AppData\\Roaming\\jupyter\\nbextensions\\autosavetime\\README.md\n",
      "[I 12:11:22 InstallContribNbextensionsApp] - Validating: ok\n",
      "[I 12:11:22 InstallContribNbextensionsApp] Installing c:\\users\\satish\\anaconda3\\lib\\site-packages\\jupyter_contrib_nbextensions\\nbextensions\\autoscroll -> autoscroll\n",
      "[I 12:11:22 InstallContribNbextensionsApp] Up to date: C:\\Users\\satish\\AppData\\Roaming\\jupyter\\nbextensions\\autoscroll\\autoscroll.yaml\n",
      "[I 12:11:22 InstallContribNbextensionsApp] Up to date: C:\\Users\\satish\\AppData\\Roaming\\jupyter\\nbextensions\\autoscroll\\icon.png\n",
      "[I 12:11:22 InstallContribNbextensionsApp] Up to date: C:\\Users\\satish\\AppData\\Roaming\\jupyter\\nbextensions\\autoscroll\\main.js\n",
      "[I 12:11:22 InstallContribNbextensionsApp] Up to date: C:\\Users\\satish\\AppData\\Roaming\\jupyter\\nbextensions\\autoscroll\\README.md\n",
      "[I 12:11:22 InstallContribNbextensionsApp] - Validating: ok\n",
      "[I 12:11:22 InstallContribNbextensionsApp] Installing c:\\users\\satish\\anaconda3\\lib\\site-packages\\jupyter_contrib_nbextensions\\nbextensions\\cell_filter -> cell_filter\n",
      "[I 12:11:22 InstallContribNbextensionsApp] Up to date: C:\\Users\\satish\\AppData\\Roaming\\jupyter\\nbextensions\\cell_filter\\cell_filter.js\n",
      "[I 12:11:22 InstallContribNbextensionsApp] Up to date: C:\\Users\\satish\\AppData\\Roaming\\jupyter\\nbextensions\\cell_filter\\cell_filter.yml\n",
      "[I 12:11:22 InstallContribNbextensionsApp] Up to date: C:\\Users\\satish\\AppData\\Roaming\\jupyter\\nbextensions\\cell_filter\\README.md\n",
      "[I 12:11:22 InstallContribNbextensionsApp] - Validating: ok\n",
      "[I 12:11:22 InstallContribNbextensionsApp] Installing c:\\users\\satish\\anaconda3\\lib\\site-packages\\jupyter_contrib_nbextensions\\nbextensions\\codefolding -> codefolding\n",
      "[I 12:11:22 InstallContribNbextensionsApp] Up to date: C:\\Users\\satish\\AppData\\Roaming\\jupyter\\nbextensions\\codefolding\\codefolding.yaml\n",
      "[I 12:11:22 InstallContribNbextensionsApp] Up to date: C:\\Users\\satish\\AppData\\Roaming\\jupyter\\nbextensions\\codefolding\\codefolding_editor.png\n",
      "[I 12:11:22 InstallContribNbextensionsApp] Up to date: C:\\Users\\satish\\AppData\\Roaming\\jupyter\\nbextensions\\codefolding\\codefolding_editor.yaml\n",
      "[I 12:11:22 InstallContribNbextensionsApp] Up to date: C:\\Users\\satish\\AppData\\Roaming\\jupyter\\nbextensions\\codefolding\\codefolding_firstline_folded.png\n",
      "[I 12:11:22 InstallContribNbextensionsApp] Up to date: C:\\Users\\satish\\AppData\\Roaming\\jupyter\\nbextensions\\codefolding\\codefolding_firstline_unfolded.png\n",
      "[I 12:11:22 InstallContribNbextensionsApp] Up to date: C:\\Users\\satish\\AppData\\Roaming\\jupyter\\nbextensions\\codefolding\\codefolding_indent_folded_1.png\n",
      "[I 12:11:22 InstallContribNbextensionsApp] Up to date: C:\\Users\\satish\\AppData\\Roaming\\jupyter\\nbextensions\\codefolding\\codefolding_indent_folded_2.png\n",
      "[I 12:11:22 InstallContribNbextensionsApp] Up to date: C:\\Users\\satish\\AppData\\Roaming\\jupyter\\nbextensions\\codefolding\\codefolding_indent_unfolded.png\n",
      "[I 12:11:22 InstallContribNbextensionsApp] Up to date: C:\\Users\\satish\\AppData\\Roaming\\jupyter\\nbextensions\\codefolding\\edit.js\n",
      "[I 12:11:22 InstallContribNbextensionsApp] Up to date: C:\\Users\\satish\\AppData\\Roaming\\jupyter\\nbextensions\\codefolding\\firstline-fold.js\n",
      "[I 12:11:22 InstallContribNbextensionsApp] Up to date: C:\\Users\\satish\\AppData\\Roaming\\jupyter\\nbextensions\\codefolding\\foldgutter.css\n",
      "[I 12:11:22 InstallContribNbextensionsApp] Up to date: C:\\Users\\satish\\AppData\\Roaming\\jupyter\\nbextensions\\codefolding\\icon.png\n",
      "[I 12:11:22 InstallContribNbextensionsApp] Up to date: C:\\Users\\satish\\AppData\\Roaming\\jupyter\\nbextensions\\codefolding\\magic-fold.js\n",
      "[I 12:11:22 InstallContribNbextensionsApp] Up to date: C:\\Users\\satish\\AppData\\Roaming\\jupyter\\nbextensions\\codefolding\\magic-folded.png\n",
      "[I 12:11:22 InstallContribNbextensionsApp] Up to date: C:\\Users\\satish\\AppData\\Roaming\\jupyter\\nbextensions\\codefolding\\magic-unfolded.png\n",
      "[I 12:11:22 InstallContribNbextensionsApp] Up to date: C:\\Users\\satish\\AppData\\Roaming\\jupyter\\nbextensions\\codefolding\\main.js\n",
      "[I 12:11:22 InstallContribNbextensionsApp] Up to date: C:\\Users\\satish\\AppData\\Roaming\\jupyter\\nbextensions\\codefolding\\readme.md\n",
      "[I 12:11:22 InstallContribNbextensionsApp] - Validating: ok\n",
      "[I 12:11:22 InstallContribNbextensionsApp] Installing c:\\users\\satish\\anaconda3\\lib\\site-packages\\jupyter_contrib_nbextensions\\nbextensions\\codefolding -> codefolding\n",
      "[I 12:11:22 InstallContribNbextensionsApp] Up to date: C:\\Users\\satish\\AppData\\Roaming\\jupyter\\nbextensions\\codefolding\\codefolding.yaml\n",
      "[I 12:11:22 InstallContribNbextensionsApp] Up to date: C:\\Users\\satish\\AppData\\Roaming\\jupyter\\nbextensions\\codefolding\\codefolding_editor.png\n",
      "[I 12:11:22 InstallContribNbextensionsApp] Up to date: C:\\Users\\satish\\AppData\\Roaming\\jupyter\\nbextensions\\codefolding\\codefolding_editor.yaml\n",
      "[I 12:11:22 InstallContribNbextensionsApp] Up to date: C:\\Users\\satish\\AppData\\Roaming\\jupyter\\nbextensions\\codefolding\\codefolding_firstline_folded.png\n",
      "[I 12:11:22 InstallContribNbextensionsApp] Up to date: C:\\Users\\satish\\AppData\\Roaming\\jupyter\\nbextensions\\codefolding\\codefolding_firstline_unfolded.png\n",
      "[I 12:11:22 InstallContribNbextensionsApp] Up to date: C:\\Users\\satish\\AppData\\Roaming\\jupyter\\nbextensions\\codefolding\\codefolding_indent_folded_1.png\n",
      "[I 12:11:22 InstallContribNbextensionsApp] Up to date: C:\\Users\\satish\\AppData\\Roaming\\jupyter\\nbextensions\\codefolding\\codefolding_indent_folded_2.png\n",
      "[I 12:11:22 InstallContribNbextensionsApp] Up to date: C:\\Users\\satish\\AppData\\Roaming\\jupyter\\nbextensions\\codefolding\\codefolding_indent_unfolded.png\n",
      "[I 12:11:22 InstallContribNbextensionsApp] Up to date: C:\\Users\\satish\\AppData\\Roaming\\jupyter\\nbextensions\\codefolding\\edit.js\n",
      "[I 12:11:22 InstallContribNbextensionsApp] Up to date: C:\\Users\\satish\\AppData\\Roaming\\jupyter\\nbextensions\\codefolding\\firstline-fold.js\n",
      "[I 12:11:22 InstallContribNbextensionsApp] Up to date: C:\\Users\\satish\\AppData\\Roaming\\jupyter\\nbextensions\\codefolding\\foldgutter.css\n",
      "[I 12:11:22 InstallContribNbextensionsApp] Up to date: C:\\Users\\satish\\AppData\\Roaming\\jupyter\\nbextensions\\codefolding\\icon.png\n",
      "[I 12:11:22 InstallContribNbextensionsApp] Up to date: C:\\Users\\satish\\AppData\\Roaming\\jupyter\\nbextensions\\codefolding\\magic-fold.js\n",
      "[I 12:11:22 InstallContribNbextensionsApp] Up to date: C:\\Users\\satish\\AppData\\Roaming\\jupyter\\nbextensions\\codefolding\\magic-folded.png\n",
      "[I 12:11:22 InstallContribNbextensionsApp] Up to date: C:\\Users\\satish\\AppData\\Roaming\\jupyter\\nbextensions\\codefolding\\magic-unfolded.png\n",
      "[I 12:11:22 InstallContribNbextensionsApp] Up to date: C:\\Users\\satish\\AppData\\Roaming\\jupyter\\nbextensions\\codefolding\\main.js\n",
      "[I 12:11:22 InstallContribNbextensionsApp] Up to date: C:\\Users\\satish\\AppData\\Roaming\\jupyter\\nbextensions\\codefolding\\readme.md\n",
      "[I 12:11:22 InstallContribNbextensionsApp] - Validating: ok\n",
      "[I 12:11:22 InstallContribNbextensionsApp] Installing c:\\users\\satish\\anaconda3\\lib\\site-packages\\jupyter_contrib_nbextensions\\nbextensions\\codemirror_mode_extensions -> codemirror_mode_extensions\n",
      "[I 12:11:22 InstallContribNbextensionsApp] Up to date: C:\\Users\\satish\\AppData\\Roaming\\jupyter\\nbextensions\\codemirror_mode_extensions\\codemirror_mode_extensions.yaml\n",
      "[I 12:11:22 InstallContribNbextensionsApp] Up to date: C:\\Users\\satish\\AppData\\Roaming\\jupyter\\nbextensions\\codemirror_mode_extensions\\main.js\n",
      "[I 12:11:22 InstallContribNbextensionsApp] - Validating: ok\n",
      "[I 12:11:22 InstallContribNbextensionsApp] Installing c:\\users\\satish\\anaconda3\\lib\\site-packages\\jupyter_contrib_nbextensions\\nbextensions\\code_font_size -> code_font_size\n",
      "[I 12:11:22 InstallContribNbextensionsApp] Up to date: C:\\Users\\satish\\AppData\\Roaming\\jupyter\\nbextensions\\code_font_size\\code_font_size.js\n",
      "[I 12:11:22 InstallContribNbextensionsApp] Up to date: C:\\Users\\satish\\AppData\\Roaming\\jupyter\\nbextensions\\code_font_size\\code_font_size.yaml\n",
      "[I 12:11:22 InstallContribNbextensionsApp] Up to date: C:\\Users\\satish\\AppData\\Roaming\\jupyter\\nbextensions\\code_font_size\\README.md\n",
      "[I 12:11:22 InstallContribNbextensionsApp] - Validating: ok\n",
      "[I 12:11:22 InstallContribNbextensionsApp] Installing c:\\users\\satish\\anaconda3\\lib\\site-packages\\jupyter_contrib_nbextensions\\nbextensions\\code_prettify -> code_prettify\n",
      "[I 12:11:22 InstallContribNbextensionsApp] Up to date: C:\\Users\\satish\\AppData\\Roaming\\jupyter\\nbextensions\\code_prettify\\2to3.js\n",
      "[I 12:11:22 InstallContribNbextensionsApp] Up to date: C:\\Users\\satish\\AppData\\Roaming\\jupyter\\nbextensions\\code_prettify\\2to3.yaml\n",
      "[I 12:11:22 InstallContribNbextensionsApp] Up to date: C:\\Users\\satish\\AppData\\Roaming\\jupyter\\nbextensions\\code_prettify\\autopep8.js\n",
      "[I 12:11:22 InstallContribNbextensionsApp] Up to date: C:\\Users\\satish\\AppData\\Roaming\\jupyter\\nbextensions\\code_prettify\\autopep8.yaml\n",
      "[I 12:11:22 InstallContribNbextensionsApp] Up to date: C:\\Users\\satish\\AppData\\Roaming\\jupyter\\nbextensions\\code_prettify\\code_prettify.js\n",
      "[I 12:11:22 InstallContribNbextensionsApp] Up to date: C:\\Users\\satish\\AppData\\Roaming\\jupyter\\nbextensions\\code_prettify\\code_prettify.yaml\n",
      "[I 12:11:22 InstallContribNbextensionsApp] Up to date: C:\\Users\\satish\\AppData\\Roaming\\jupyter\\nbextensions\\code_prettify\\demo-jv.gif\n",
      "[I 12:11:22 InstallContribNbextensionsApp] Up to date: C:\\Users\\satish\\AppData\\Roaming\\jupyter\\nbextensions\\code_prettify\\demo-py.gif\n",
      "[I 12:11:22 InstallContribNbextensionsApp] Up to date: C:\\Users\\satish\\AppData\\Roaming\\jupyter\\nbextensions\\code_prettify\\demo-R.gif\n",
      "[I 12:11:22 InstallContribNbextensionsApp] Up to date: C:\\Users\\satish\\AppData\\Roaming\\jupyter\\nbextensions\\code_prettify\\demo_2to3.gif\n",
      "[I 12:11:22 InstallContribNbextensionsApp] Up to date: C:\\Users\\satish\\AppData\\Roaming\\jupyter\\nbextensions\\code_prettify\\isort.js\n",
      "[I 12:11:22 InstallContribNbextensionsApp] Up to date: C:\\Users\\satish\\AppData\\Roaming\\jupyter\\nbextensions\\code_prettify\\isort.yaml\n",
      "[I 12:11:22 InstallContribNbextensionsApp] Up to date: C:\\Users\\satish\\AppData\\Roaming\\jupyter\\nbextensions\\code_prettify\\kernel_exec_on_cell.js\n",
      "[I 12:11:22 InstallContribNbextensionsApp] Up to date: C:\\Users\\satish\\AppData\\Roaming\\jupyter\\nbextensions\\code_prettify\\README.md\n",
      "[I 12:11:22 InstallContribNbextensionsApp] Up to date: C:\\Users\\satish\\AppData\\Roaming\\jupyter\\nbextensions\\code_prettify\\README_2to3.md\n",
      "[I 12:11:22 InstallContribNbextensionsApp] Up to date: C:\\Users\\satish\\AppData\\Roaming\\jupyter\\nbextensions\\code_prettify\\README_autopep8.md\n",
      "[I 12:11:22 InstallContribNbextensionsApp] Up to date: C:\\Users\\satish\\AppData\\Roaming\\jupyter\\nbextensions\\code_prettify\\README_code_prettify.md\n",
      "[I 12:11:22 InstallContribNbextensionsApp] Up to date: C:\\Users\\satish\\AppData\\Roaming\\jupyter\\nbextensions\\code_prettify\\README_isort.md\n",
      "[I 12:11:22 InstallContribNbextensionsApp] - Validating: ok\n",
      "[I 12:11:22 InstallContribNbextensionsApp] Installing c:\\users\\satish\\anaconda3\\lib\\site-packages\\jupyter_contrib_nbextensions\\nbextensions\\code_prettify -> code_prettify\n",
      "[I 12:11:22 InstallContribNbextensionsApp] Up to date: C:\\Users\\satish\\AppData\\Roaming\\jupyter\\nbextensions\\code_prettify\\2to3.js\n",
      "[I 12:11:22 InstallContribNbextensionsApp] Up to date: C:\\Users\\satish\\AppData\\Roaming\\jupyter\\nbextensions\\code_prettify\\2to3.yaml\n",
      "[I 12:11:22 InstallContribNbextensionsApp] Up to date: C:\\Users\\satish\\AppData\\Roaming\\jupyter\\nbextensions\\code_prettify\\autopep8.js\n",
      "[I 12:11:22 InstallContribNbextensionsApp] Up to date: C:\\Users\\satish\\AppData\\Roaming\\jupyter\\nbextensions\\code_prettify\\autopep8.yaml\n",
      "[I 12:11:22 InstallContribNbextensionsApp] Up to date: C:\\Users\\satish\\AppData\\Roaming\\jupyter\\nbextensions\\code_prettify\\code_prettify.js\n",
      "[I 12:11:22 InstallContribNbextensionsApp] Up to date: C:\\Users\\satish\\AppData\\Roaming\\jupyter\\nbextensions\\code_prettify\\code_prettify.yaml\n",
      "[I 12:11:22 InstallContribNbextensionsApp] Up to date: C:\\Users\\satish\\AppData\\Roaming\\jupyter\\nbextensions\\code_prettify\\demo-jv.gif\n",
      "[I 12:11:22 InstallContribNbextensionsApp] Up to date: C:\\Users\\satish\\AppData\\Roaming\\jupyter\\nbextensions\\code_prettify\\demo-py.gif\n",
      "[I 12:11:22 InstallContribNbextensionsApp] Up to date: C:\\Users\\satish\\AppData\\Roaming\\jupyter\\nbextensions\\code_prettify\\demo-R.gif\n",
      "[I 12:11:22 InstallContribNbextensionsApp] Up to date: C:\\Users\\satish\\AppData\\Roaming\\jupyter\\nbextensions\\code_prettify\\demo_2to3.gif\n",
      "[I 12:11:22 InstallContribNbextensionsApp] Up to date: C:\\Users\\satish\\AppData\\Roaming\\jupyter\\nbextensions\\code_prettify\\isort.js\n",
      "[I 12:11:22 InstallContribNbextensionsApp] Up to date: C:\\Users\\satish\\AppData\\Roaming\\jupyter\\nbextensions\\code_prettify\\isort.yaml\n",
      "[I 12:11:22 InstallContribNbextensionsApp] Up to date: C:\\Users\\satish\\AppData\\Roaming\\jupyter\\nbextensions\\code_prettify\\kernel_exec_on_cell.js\n",
      "[I 12:11:22 InstallContribNbextensionsApp] Up to date: C:\\Users\\satish\\AppData\\Roaming\\jupyter\\nbextensions\\code_prettify\\README.md\n",
      "[I 12:11:22 InstallContribNbextensionsApp] Up to date: C:\\Users\\satish\\AppData\\Roaming\\jupyter\\nbextensions\\code_prettify\\README_2to3.md\n",
      "[I 12:11:22 InstallContribNbextensionsApp] Up to date: C:\\Users\\satish\\AppData\\Roaming\\jupyter\\nbextensions\\code_prettify\\README_autopep8.md\n",
      "[I 12:11:22 InstallContribNbextensionsApp] Up to date: C:\\Users\\satish\\AppData\\Roaming\\jupyter\\nbextensions\\code_prettify\\README_code_prettify.md\n",
      "[I 12:11:22 InstallContribNbextensionsApp] Up to date: C:\\Users\\satish\\AppData\\Roaming\\jupyter\\nbextensions\\code_prettify\\README_isort.md\n",
      "[I 12:11:22 InstallContribNbextensionsApp] - Validating: ok\n",
      "[I 12:11:22 InstallContribNbextensionsApp] Installing c:\\users\\satish\\anaconda3\\lib\\site-packages\\jupyter_contrib_nbextensions\\nbextensions\\code_prettify -> code_prettify\n",
      "[I 12:11:22 InstallContribNbextensionsApp] Up to date: C:\\Users\\satish\\AppData\\Roaming\\jupyter\\nbextensions\\code_prettify\\2to3.js\n",
      "[I 12:11:22 InstallContribNbextensionsApp] Up to date: C:\\Users\\satish\\AppData\\Roaming\\jupyter\\nbextensions\\code_prettify\\2to3.yaml\n",
      "[I 12:11:22 InstallContribNbextensionsApp] Up to date: C:\\Users\\satish\\AppData\\Roaming\\jupyter\\nbextensions\\code_prettify\\autopep8.js\n",
      "[I 12:11:22 InstallContribNbextensionsApp] Up to date: C:\\Users\\satish\\AppData\\Roaming\\jupyter\\nbextensions\\code_prettify\\autopep8.yaml\n",
      "[I 12:11:22 InstallContribNbextensionsApp] Up to date: C:\\Users\\satish\\AppData\\Roaming\\jupyter\\nbextensions\\code_prettify\\code_prettify.js\n",
      "[I 12:11:22 InstallContribNbextensionsApp] Up to date: C:\\Users\\satish\\AppData\\Roaming\\jupyter\\nbextensions\\code_prettify\\code_prettify.yaml\n",
      "[I 12:11:22 InstallContribNbextensionsApp] Up to date: C:\\Users\\satish\\AppData\\Roaming\\jupyter\\nbextensions\\code_prettify\\demo-jv.gif\n",
      "[I 12:11:22 InstallContribNbextensionsApp] Up to date: C:\\Users\\satish\\AppData\\Roaming\\jupyter\\nbextensions\\code_prettify\\demo-py.gif\n",
      "[I 12:11:22 InstallContribNbextensionsApp] Up to date: C:\\Users\\satish\\AppData\\Roaming\\jupyter\\nbextensions\\code_prettify\\demo-R.gif\n",
      "[I 12:11:22 InstallContribNbextensionsApp] Up to date: C:\\Users\\satish\\AppData\\Roaming\\jupyter\\nbextensions\\code_prettify\\demo_2to3.gif\n",
      "[I 12:11:22 InstallContribNbextensionsApp] Up to date: C:\\Users\\satish\\AppData\\Roaming\\jupyter\\nbextensions\\code_prettify\\isort.js\n",
      "[I 12:11:22 InstallContribNbextensionsApp] Up to date: C:\\Users\\satish\\AppData\\Roaming\\jupyter\\nbextensions\\code_prettify\\isort.yaml\n",
      "[I 12:11:22 InstallContribNbextensionsApp] Up to date: C:\\Users\\satish\\AppData\\Roaming\\jupyter\\nbextensions\\code_prettify\\kernel_exec_on_cell.js\n",
      "[I 12:11:22 InstallContribNbextensionsApp] Up to date: C:\\Users\\satish\\AppData\\Roaming\\jupyter\\nbextensions\\code_prettify\\README.md\n",
      "[I 12:11:22 InstallContribNbextensionsApp] Up to date: C:\\Users\\satish\\AppData\\Roaming\\jupyter\\nbextensions\\code_prettify\\README_2to3.md\n",
      "[I 12:11:22 InstallContribNbextensionsApp] Up to date: C:\\Users\\satish\\AppData\\Roaming\\jupyter\\nbextensions\\code_prettify\\README_autopep8.md\n",
      "[I 12:11:22 InstallContribNbextensionsApp] Up to date: C:\\Users\\satish\\AppData\\Roaming\\jupyter\\nbextensions\\code_prettify\\README_code_prettify.md\n",
      "[I 12:11:22 InstallContribNbextensionsApp] Up to date: C:\\Users\\satish\\AppData\\Roaming\\jupyter\\nbextensions\\code_prettify\\README_isort.md\n",
      "[I 12:11:22 InstallContribNbextensionsApp] - Validating: ok\n",
      "[I 12:11:22 InstallContribNbextensionsApp] Installing c:\\users\\satish\\anaconda3\\lib\\site-packages\\jupyter_contrib_nbextensions\\nbextensions\\code_prettify -> code_prettify\n",
      "[I 12:11:22 InstallContribNbextensionsApp] Up to date: C:\\Users\\satish\\AppData\\Roaming\\jupyter\\nbextensions\\code_prettify\\2to3.js\n",
      "[I 12:11:22 InstallContribNbextensionsApp] Up to date: C:\\Users\\satish\\AppData\\Roaming\\jupyter\\nbextensions\\code_prettify\\2to3.yaml\n",
      "[I 12:11:22 InstallContribNbextensionsApp] Up to date: C:\\Users\\satish\\AppData\\Roaming\\jupyter\\nbextensions\\code_prettify\\autopep8.js\n",
      "[I 12:11:22 InstallContribNbextensionsApp] Up to date: C:\\Users\\satish\\AppData\\Roaming\\jupyter\\nbextensions\\code_prettify\\autopep8.yaml\n",
      "[I 12:11:22 InstallContribNbextensionsApp] Up to date: C:\\Users\\satish\\AppData\\Roaming\\jupyter\\nbextensions\\code_prettify\\code_prettify.js\n",
      "[I 12:11:22 InstallContribNbextensionsApp] Up to date: C:\\Users\\satish\\AppData\\Roaming\\jupyter\\nbextensions\\code_prettify\\code_prettify.yaml\n",
      "[I 12:11:22 InstallContribNbextensionsApp] Up to date: C:\\Users\\satish\\AppData\\Roaming\\jupyter\\nbextensions\\code_prettify\\demo-jv.gif\n",
      "[I 12:11:22 InstallContribNbextensionsApp] Up to date: C:\\Users\\satish\\AppData\\Roaming\\jupyter\\nbextensions\\code_prettify\\demo-py.gif\n",
      "[I 12:11:22 InstallContribNbextensionsApp] Up to date: C:\\Users\\satish\\AppData\\Roaming\\jupyter\\nbextensions\\code_prettify\\demo-R.gif\n",
      "[I 12:11:22 InstallContribNbextensionsApp] Up to date: C:\\Users\\satish\\AppData\\Roaming\\jupyter\\nbextensions\\code_prettify\\demo_2to3.gif\n",
      "[I 12:11:22 InstallContribNbextensionsApp] Up to date: C:\\Users\\satish\\AppData\\Roaming\\jupyter\\nbextensions\\code_prettify\\isort.js\n",
      "[I 12:11:22 InstallContribNbextensionsApp] Up to date: C:\\Users\\satish\\AppData\\Roaming\\jupyter\\nbextensions\\code_prettify\\isort.yaml\n",
      "[I 12:11:22 InstallContribNbextensionsApp] Up to date: C:\\Users\\satish\\AppData\\Roaming\\jupyter\\nbextensions\\code_prettify\\kernel_exec_on_cell.js\n",
      "[I 12:11:22 InstallContribNbextensionsApp] Up to date: C:\\Users\\satish\\AppData\\Roaming\\jupyter\\nbextensions\\code_prettify\\README.md\n",
      "[I 12:11:22 InstallContribNbextensionsApp] Up to date: C:\\Users\\satish\\AppData\\Roaming\\jupyter\\nbextensions\\code_prettify\\README_2to3.md\n",
      "[I 12:11:22 InstallContribNbextensionsApp] Up to date: C:\\Users\\satish\\AppData\\Roaming\\jupyter\\nbextensions\\code_prettify\\README_autopep8.md\n",
      "[I 12:11:22 InstallContribNbextensionsApp] Up to date: C:\\Users\\satish\\AppData\\Roaming\\jupyter\\nbextensions\\code_prettify\\README_code_prettify.md\n",
      "[I 12:11:22 InstallContribNbextensionsApp] Up to date: C:\\Users\\satish\\AppData\\Roaming\\jupyter\\nbextensions\\code_prettify\\README_isort.md\n",
      "[I 12:11:22 InstallContribNbextensionsApp] - Validating: ok\n",
      "[I 12:11:22 InstallContribNbextensionsApp] Installing c:\\users\\satish\\anaconda3\\lib\\site-packages\\jupyter_contrib_nbextensions\\nbextensions\\collapsible_headings -> collapsible_headings\n",
      "[I 12:11:22 InstallContribNbextensionsApp] Up to date: C:\\Users\\satish\\AppData\\Roaming\\jupyter\\nbextensions\\collapsible_headings\\collapsible_headings.yaml\n",
      "[I 12:11:22 InstallContribNbextensionsApp] Up to date: C:\\Users\\satish\\AppData\\Roaming\\jupyter\\nbextensions\\collapsible_headings\\icon.png\n",
      "[I 12:11:22 InstallContribNbextensionsApp] Up to date: C:\\Users\\satish\\AppData\\Roaming\\jupyter\\nbextensions\\collapsible_headings\\main.css\n",
      "[I 12:11:22 InstallContribNbextensionsApp] Up to date: C:\\Users\\satish\\AppData\\Roaming\\jupyter\\nbextensions\\collapsible_headings\\main.js\n",
      "[I 12:11:22 InstallContribNbextensionsApp] Up to date: C:\\Users\\satish\\AppData\\Roaming\\jupyter\\nbextensions\\collapsible_headings\\readme.md\n",
      "[I 12:11:22 InstallContribNbextensionsApp] Up to date: C:\\Users\\satish\\AppData\\Roaming\\jupyter\\nbextensions\\collapsible_headings\\screenshot.png\n",
      "[I 12:11:22 InstallContribNbextensionsApp] - Validating: ok\n",
      "[I 12:11:22 InstallContribNbextensionsApp] Installing c:\\users\\satish\\anaconda3\\lib\\site-packages\\jupyter_contrib_nbextensions\\nbextensions\\comment-uncomment -> comment-uncomment\n",
      "[I 12:11:22 InstallContribNbextensionsApp] Up to date: C:\\Users\\satish\\AppData\\Roaming\\jupyter\\nbextensions\\comment-uncomment\\comment-uncomment.yaml\n",
      "[I 12:11:22 InstallContribNbextensionsApp] Up to date: C:\\Users\\satish\\AppData\\Roaming\\jupyter\\nbextensions\\comment-uncomment\\icon.png\n",
      "[I 12:11:22 InstallContribNbextensionsApp] Up to date: C:\\Users\\satish\\AppData\\Roaming\\jupyter\\nbextensions\\comment-uncomment\\main.js\n",
      "[I 12:11:22 InstallContribNbextensionsApp] Up to date: C:\\Users\\satish\\AppData\\Roaming\\jupyter\\nbextensions\\comment-uncomment\\readme.md\n",
      "[I 12:11:22 InstallContribNbextensionsApp] - Validating: ok\n",
      "[I 12:11:22 InstallContribNbextensionsApp] Installing c:\\users\\satish\\anaconda3\\lib\\site-packages\\jupyter_contrib_nbextensions\\nbextensions\\contrib_nbextensions_help_item -> contrib_nbextensions_help_item\n",
      "[I 12:11:22 InstallContribNbextensionsApp] Up to date: C:\\Users\\satish\\AppData\\Roaming\\jupyter\\nbextensions\\contrib_nbextensions_help_item\\contrib_nbextensions_help_item.yaml\n",
      "[I 12:11:22 InstallContribNbextensionsApp] Up to date: C:\\Users\\satish\\AppData\\Roaming\\jupyter\\nbextensions\\contrib_nbextensions_help_item\\main.js\n",
      "[I 12:11:22 InstallContribNbextensionsApp] Up to date: C:\\Users\\satish\\AppData\\Roaming\\jupyter\\nbextensions\\contrib_nbextensions_help_item\\README.md\n",
      "[I 12:11:22 InstallContribNbextensionsApp] - Validating: ok\n",
      "[I 12:11:22 InstallContribNbextensionsApp] Installing c:\\users\\satish\\anaconda3\\lib\\site-packages\\jupyter_contrib_nbextensions\\nbextensions\\datestamper -> datestamper\n",
      "[I 12:11:22 InstallContribNbextensionsApp] Up to date: C:\\Users\\satish\\AppData\\Roaming\\jupyter\\nbextensions\\datestamper\\icon.png\n",
      "[I 12:11:22 InstallContribNbextensionsApp] Up to date: C:\\Users\\satish\\AppData\\Roaming\\jupyter\\nbextensions\\datestamper\\main.js\n",
      "[I 12:11:22 InstallContribNbextensionsApp] Up to date: C:\\Users\\satish\\AppData\\Roaming\\jupyter\\nbextensions\\datestamper\\main.yaml\n",
      "[I 12:11:22 InstallContribNbextensionsApp] Up to date: C:\\Users\\satish\\AppData\\Roaming\\jupyter\\nbextensions\\datestamper\\readme.md\n",
      "[I 12:11:22 InstallContribNbextensionsApp] - Validating: ok\n",
      "[I 12:11:22 InstallContribNbextensionsApp] Installing c:\\users\\satish\\anaconda3\\lib\\site-packages\\jupyter_contrib_nbextensions\\nbextensions\\equation-numbering -> equation-numbering\n",
      "[I 12:11:22 InstallContribNbextensionsApp] Up to date: C:\\Users\\satish\\AppData\\Roaming\\jupyter\\nbextensions\\equation-numbering\\button.png\n",
      "[I 12:11:22 InstallContribNbextensionsApp] Up to date: C:\\Users\\satish\\AppData\\Roaming\\jupyter\\nbextensions\\equation-numbering\\icon.png\n"
     ]
    },
    {
     "name": "stderr",
     "output_type": "stream",
     "text": [
      "[I 12:11:22 InstallContribNbextensionsApp] Up to date: C:\\Users\\satish\\AppData\\Roaming\\jupyter\\nbextensions\\equation-numbering\\info.yaml\n",
      "[I 12:11:22 InstallContribNbextensionsApp] Up to date: C:\\Users\\satish\\AppData\\Roaming\\jupyter\\nbextensions\\equation-numbering\\main.js\n",
      "[I 12:11:22 InstallContribNbextensionsApp] Up to date: C:\\Users\\satish\\AppData\\Roaming\\jupyter\\nbextensions\\equation-numbering\\readme.md\n",
      "[I 12:11:22 InstallContribNbextensionsApp] - Validating: ok\n",
      "[I 12:11:22 InstallContribNbextensionsApp] Installing c:\\users\\satish\\anaconda3\\lib\\site-packages\\jupyter_contrib_nbextensions\\nbextensions\\execute_time -> execute_time\n",
      "[I 12:11:22 InstallContribNbextensionsApp] Up to date: C:\\Users\\satish\\AppData\\Roaming\\jupyter\\nbextensions\\execute_time\\ExecuteTime.css\n",
      "[I 12:11:22 InstallContribNbextensionsApp] Up to date: C:\\Users\\satish\\AppData\\Roaming\\jupyter\\nbextensions\\execute_time\\ExecuteTime.js\n",
      "[I 12:11:22 InstallContribNbextensionsApp] Up to date: C:\\Users\\satish\\AppData\\Roaming\\jupyter\\nbextensions\\execute_time\\ExecuteTime.yaml\n",
      "[I 12:11:22 InstallContribNbextensionsApp] Up to date: C:\\Users\\satish\\AppData\\Roaming\\jupyter\\nbextensions\\execute_time\\execution-timings-box.png\n",
      "[I 12:11:22 InstallContribNbextensionsApp] Up to date: C:\\Users\\satish\\AppData\\Roaming\\jupyter\\nbextensions\\execute_time\\execution-timings-menu.png\n",
      "[I 12:11:22 InstallContribNbextensionsApp] Up to date: C:\\Users\\satish\\AppData\\Roaming\\jupyter\\nbextensions\\execute_time\\icon.png\n",
      "[I 12:11:22 InstallContribNbextensionsApp] Up to date: C:\\Users\\satish\\AppData\\Roaming\\jupyter\\nbextensions\\execute_time\\readme.md\n",
      "[I 12:11:22 InstallContribNbextensionsApp] - Validating: ok\n",
      "[I 12:11:22 InstallContribNbextensionsApp] Installing c:\\users\\satish\\anaconda3\\lib\\site-packages\\jupyter_contrib_nbextensions\\nbextensions\\execution_dependencies -> execution_dependencies\n",
      "[I 12:11:22 InstallContribNbextensionsApp] Up to date: C:\\Users\\satish\\AppData\\Roaming\\jupyter\\nbextensions\\execution_dependencies\\execution_dependencies.js\n",
      "[I 12:11:22 InstallContribNbextensionsApp] Up to date: C:\\Users\\satish\\AppData\\Roaming\\jupyter\\nbextensions\\execution_dependencies\\execution_dependencies.yml\n",
      "[I 12:11:22 InstallContribNbextensionsApp] Up to date: C:\\Users\\satish\\AppData\\Roaming\\jupyter\\nbextensions\\execution_dependencies\\README.md\n",
      "[I 12:11:22 InstallContribNbextensionsApp] - Validating: ok\n",
      "[I 12:11:22 InstallContribNbextensionsApp] Installing c:\\users\\satish\\anaconda3\\lib\\site-packages\\jupyter_contrib_nbextensions\\nbextensions\\exercise -> exercise\n",
      "[I 12:11:22 InstallContribNbextensionsApp] Up to date: C:\\Users\\satish\\AppData\\Roaming\\jupyter\\nbextensions\\exercise\\exercise.yaml\n",
      "[I 12:11:22 InstallContribNbextensionsApp] Up to date: C:\\Users\\satish\\AppData\\Roaming\\jupyter\\nbextensions\\exercise\\history.md\n",
      "[I 12:11:22 InstallContribNbextensionsApp] Up to date: C:\\Users\\satish\\AppData\\Roaming\\jupyter\\nbextensions\\exercise\\icon.png\n",
      "[I 12:11:22 InstallContribNbextensionsApp] Up to date: C:\\Users\\satish\\AppData\\Roaming\\jupyter\\nbextensions\\exercise\\image.gif\n",
      "[I 12:11:22 InstallContribNbextensionsApp] Up to date: C:\\Users\\satish\\AppData\\Roaming\\jupyter\\nbextensions\\exercise\\main.css\n",
      "[I 12:11:22 InstallContribNbextensionsApp] Up to date: C:\\Users\\satish\\AppData\\Roaming\\jupyter\\nbextensions\\exercise\\main.js\n",
      "[I 12:11:22 InstallContribNbextensionsApp] Up to date: C:\\Users\\satish\\AppData\\Roaming\\jupyter\\nbextensions\\exercise\\readme.md\n",
      "[I 12:11:22 InstallContribNbextensionsApp] - Validating: ok\n",
      "[I 12:11:22 InstallContribNbextensionsApp] Installing c:\\users\\satish\\anaconda3\\lib\\site-packages\\jupyter_contrib_nbextensions\\nbextensions\\exercise2 -> exercise2\n",
      "[I 12:11:22 InstallContribNbextensionsApp] Up to date: C:\\Users\\satish\\AppData\\Roaming\\jupyter\\nbextensions\\exercise2\\exercise2.yaml\n",
      "[I 12:11:22 InstallContribNbextensionsApp] Up to date: C:\\Users\\satish\\AppData\\Roaming\\jupyter\\nbextensions\\exercise2\\icon.png\n",
      "[I 12:11:22 InstallContribNbextensionsApp] Up to date: C:\\Users\\satish\\AppData\\Roaming\\jupyter\\nbextensions\\exercise2\\image.gif\n",
      "[I 12:11:22 InstallContribNbextensionsApp] Up to date: C:\\Users\\satish\\AppData\\Roaming\\jupyter\\nbextensions\\exercise2\\main.css\n",
      "[I 12:11:22 InstallContribNbextensionsApp] Up to date: C:\\Users\\satish\\AppData\\Roaming\\jupyter\\nbextensions\\exercise2\\main.js\n",
      "[I 12:11:22 InstallContribNbextensionsApp] Up to date: C:\\Users\\satish\\AppData\\Roaming\\jupyter\\nbextensions\\exercise2\\readme.md\n",
      "[I 12:11:22 InstallContribNbextensionsApp] - Validating: ok\n",
      "[I 12:11:22 InstallContribNbextensionsApp] Installing c:\\users\\satish\\anaconda3\\lib\\site-packages\\jupyter_contrib_nbextensions\\nbextensions\\export_embedded -> export_embedded\n",
      "[I 12:11:22 InstallContribNbextensionsApp] Up to date: C:\\Users\\satish\\AppData\\Roaming\\jupyter\\nbextensions\\export_embedded\\export_embedded.yaml\n",
      "[I 12:11:22 InstallContribNbextensionsApp] Up to date: C:\\Users\\satish\\AppData\\Roaming\\jupyter\\nbextensions\\export_embedded\\icon.png\n",
      "[I 12:11:22 InstallContribNbextensionsApp] Up to date: C:\\Users\\satish\\AppData\\Roaming\\jupyter\\nbextensions\\export_embedded\\main.js\n",
      "[I 12:11:22 InstallContribNbextensionsApp] Up to date: C:\\Users\\satish\\AppData\\Roaming\\jupyter\\nbextensions\\export_embedded\\readme.md\n",
      "[I 12:11:22 InstallContribNbextensionsApp] - Validating: ok\n",
      "[I 12:11:22 InstallContribNbextensionsApp] Installing c:\\users\\satish\\anaconda3\\lib\\site-packages\\jupyter_contrib_nbextensions\\nbextensions\\freeze -> freeze\n",
      "[I 12:11:22 InstallContribNbextensionsApp] Up to date: C:\\Users\\satish\\AppData\\Roaming\\jupyter\\nbextensions\\freeze\\config.yaml\n",
      "[I 12:11:22 InstallContribNbextensionsApp] Up to date: C:\\Users\\satish\\AppData\\Roaming\\jupyter\\nbextensions\\freeze\\icon.png\n",
      "[I 12:11:22 InstallContribNbextensionsApp] Up to date: C:\\Users\\satish\\AppData\\Roaming\\jupyter\\nbextensions\\freeze\\main.js\n",
      "[I 12:11:22 InstallContribNbextensionsApp] Up to date: C:\\Users\\satish\\AppData\\Roaming\\jupyter\\nbextensions\\freeze\\readme.md\n",
      "[I 12:11:22 InstallContribNbextensionsApp] - Validating: ok\n",
      "[I 12:11:22 InstallContribNbextensionsApp] Installing c:\\users\\satish\\anaconda3\\lib\\site-packages\\jupyter_contrib_nbextensions\\nbextensions\\gist_it -> gist_it\n",
      "[I 12:11:22 InstallContribNbextensionsApp] Up to date: C:\\Users\\satish\\AppData\\Roaming\\jupyter\\nbextensions\\gist_it\\gist_it.yaml\n",
      "[I 12:11:22 InstallContribNbextensionsApp] Up to date: C:\\Users\\satish\\AppData\\Roaming\\jupyter\\nbextensions\\gist_it\\icon.png\n",
      "[I 12:11:22 InstallContribNbextensionsApp] Up to date: C:\\Users\\satish\\AppData\\Roaming\\jupyter\\nbextensions\\gist_it\\main.js\n",
      "[I 12:11:22 InstallContribNbextensionsApp] Up to date: C:\\Users\\satish\\AppData\\Roaming\\jupyter\\nbextensions\\gist_it\\readme.md\n",
      "[I 12:11:22 InstallContribNbextensionsApp] - Validating: ok\n",
      "[I 12:11:22 InstallContribNbextensionsApp] Installing c:\\users\\satish\\anaconda3\\lib\\site-packages\\jupyter_contrib_nbextensions\\nbextensions\\help_panel -> help_panel\n",
      "[I 12:11:22 InstallContribNbextensionsApp] Up to date: C:\\Users\\satish\\AppData\\Roaming\\jupyter\\nbextensions\\help_panel\\help_panel.css\n",
      "[I 12:11:22 InstallContribNbextensionsApp] Up to date: C:\\Users\\satish\\AppData\\Roaming\\jupyter\\nbextensions\\help_panel\\help_panel.js\n",
      "[I 12:11:22 InstallContribNbextensionsApp] Up to date: C:\\Users\\satish\\AppData\\Roaming\\jupyter\\nbextensions\\help_panel\\help_panel.yaml\n",
      "[I 12:11:22 InstallContribNbextensionsApp] Up to date: C:\\Users\\satish\\AppData\\Roaming\\jupyter\\nbextensions\\help_panel\\help_panel_ext.png\n",
      "[I 12:11:22 InstallContribNbextensionsApp] Up to date: C:\\Users\\satish\\AppData\\Roaming\\jupyter\\nbextensions\\help_panel\\help_panel_ext_fullscreen.png\n",
      "[I 12:11:22 InstallContribNbextensionsApp] Up to date: C:\\Users\\satish\\AppData\\Roaming\\jupyter\\nbextensions\\help_panel\\icon.png\n",
      "[I 12:11:22 InstallContribNbextensionsApp] Up to date: C:\\Users\\satish\\AppData\\Roaming\\jupyter\\nbextensions\\help_panel\\readme.md\n",
      "[I 12:11:22 InstallContribNbextensionsApp] Up to date: C:\\Users\\satish\\AppData\\Roaming\\jupyter\\nbextensions\\help_panel\\img\\handle-v.png\n",
      "[I 12:11:22 InstallContribNbextensionsApp] - Validating: ok\n",
      "[I 12:11:22 InstallContribNbextensionsApp] Installing c:\\users\\satish\\anaconda3\\lib\\site-packages\\jupyter_contrib_nbextensions\\nbextensions\\hide_header -> hide_header\n",
      "[I 12:11:22 InstallContribNbextensionsApp] Up to date: C:\\Users\\satish\\AppData\\Roaming\\jupyter\\nbextensions\\hide_header\\hide_header.yaml\n",
      "[I 12:11:22 InstallContribNbextensionsApp] Up to date: C:\\Users\\satish\\AppData\\Roaming\\jupyter\\nbextensions\\hide_header\\main.js\n",
      "[I 12:11:22 InstallContribNbextensionsApp] Up to date: C:\\Users\\satish\\AppData\\Roaming\\jupyter\\nbextensions\\hide_header\\README.md\n",
      "[I 12:11:22 InstallContribNbextensionsApp] - Validating: ok\n",
      "[I 12:11:22 InstallContribNbextensionsApp] Installing c:\\users\\satish\\anaconda3\\lib\\site-packages\\jupyter_contrib_nbextensions\\nbextensions\\hide_input -> hide_input\n",
      "[I 12:11:22 InstallContribNbextensionsApp] Up to date: C:\\Users\\satish\\AppData\\Roaming\\jupyter\\nbextensions\\hide_input\\hide-input.yaml\n",
      "[I 12:11:22 InstallContribNbextensionsApp] Up to date: C:\\Users\\satish\\AppData\\Roaming\\jupyter\\nbextensions\\hide_input\\icon.png\n",
      "[I 12:11:22 InstallContribNbextensionsApp] Up to date: C:\\Users\\satish\\AppData\\Roaming\\jupyter\\nbextensions\\hide_input\\main.js\n",
      "[I 12:11:22 InstallContribNbextensionsApp] Up to date: C:\\Users\\satish\\AppData\\Roaming\\jupyter\\nbextensions\\hide_input\\readme.md\n",
      "[I 12:11:22 InstallContribNbextensionsApp] - Validating: ok\n",
      "[I 12:11:22 InstallContribNbextensionsApp] Installing c:\\users\\satish\\anaconda3\\lib\\site-packages\\jupyter_contrib_nbextensions\\nbextensions\\hide_input_all -> hide_input_all\n",
      "[I 12:11:22 InstallContribNbextensionsApp] Up to date: C:\\Users\\satish\\AppData\\Roaming\\jupyter\\nbextensions\\hide_input_all\\hide_input_all.yaml\n",
      "[I 12:11:22 InstallContribNbextensionsApp] Up to date: C:\\Users\\satish\\AppData\\Roaming\\jupyter\\nbextensions\\hide_input_all\\hide_input_all_hide.png\n",
      "[I 12:11:22 InstallContribNbextensionsApp] Up to date: C:\\Users\\satish\\AppData\\Roaming\\jupyter\\nbextensions\\hide_input_all\\hide_input_all_show.png\n",
      "[I 12:11:22 InstallContribNbextensionsApp] Up to date: C:\\Users\\satish\\AppData\\Roaming\\jupyter\\nbextensions\\hide_input_all\\icon.png\n",
      "[I 12:11:22 InstallContribNbextensionsApp] Up to date: C:\\Users\\satish\\AppData\\Roaming\\jupyter\\nbextensions\\hide_input_all\\main.js\n",
      "[I 12:11:22 InstallContribNbextensionsApp] Up to date: C:\\Users\\satish\\AppData\\Roaming\\jupyter\\nbextensions\\hide_input_all\\readme.md\n",
      "[I 12:11:22 InstallContribNbextensionsApp] - Validating: ok\n",
      "[I 12:11:22 InstallContribNbextensionsApp] Installing c:\\users\\satish\\anaconda3\\lib\\site-packages\\jupyter_contrib_nbextensions\\nbextensions\\highlighter -> highlighter\n",
      "[I 12:11:22 InstallContribNbextensionsApp] Up to date: C:\\Users\\satish\\AppData\\Roaming\\jupyter\\nbextensions\\highlighter\\demo_highlighter.html\n",
      "[I 12:11:22 InstallContribNbextensionsApp] Up to date: C:\\Users\\satish\\AppData\\Roaming\\jupyter\\nbextensions\\highlighter\\demo_highlighter.ipynb\n",
      "[I 12:11:22 InstallContribNbextensionsApp] Up to date: C:\\Users\\satish\\AppData\\Roaming\\jupyter\\nbextensions\\highlighter\\export_highlights.html\n",
      "[I 12:11:22 InstallContribNbextensionsApp] Up to date: C:\\Users\\satish\\AppData\\Roaming\\jupyter\\nbextensions\\highlighter\\export_highlights.ipynb\n",
      "[I 12:11:22 InstallContribNbextensionsApp] Up to date: C:\\Users\\satish\\AppData\\Roaming\\jupyter\\nbextensions\\highlighter\\export_highlights.pdf\n",
      "[I 12:11:22 InstallContribNbextensionsApp] Up to date: C:\\Users\\satish\\AppData\\Roaming\\jupyter\\nbextensions\\highlighter\\export_highlights.tex\n",
      "[I 12:11:22 InstallContribNbextensionsApp] Up to date: C:\\Users\\satish\\AppData\\Roaming\\jupyter\\nbextensions\\highlighter\\highlighter.css\n",
      "[I 12:11:22 InstallContribNbextensionsApp] Up to date: C:\\Users\\satish\\AppData\\Roaming\\jupyter\\nbextensions\\highlighter\\highlighter.js\n",
      "[I 12:11:22 InstallContribNbextensionsApp] Up to date: C:\\Users\\satish\\AppData\\Roaming\\jupyter\\nbextensions\\highlighter\\highlighter.yaml\n",
      "[I 12:11:22 InstallContribNbextensionsApp] Up to date: C:\\Users\\satish\\AppData\\Roaming\\jupyter\\nbextensions\\highlighter\\icon.png\n",
      "[I 12:11:22 InstallContribNbextensionsApp] Up to date: C:\\Users\\satish\\AppData\\Roaming\\jupyter\\nbextensions\\highlighter\\image.gif\n",
      "[I 12:11:22 InstallContribNbextensionsApp] Up to date: C:\\Users\\satish\\AppData\\Roaming\\jupyter\\nbextensions\\highlighter\\readme.md\n",
      "[I 12:11:22 InstallContribNbextensionsApp] Up to date: C:\\Users\\satish\\AppData\\Roaming\\jupyter\\nbextensions\\highlighter\\tst_highlights.html\n",
      "[I 12:11:22 InstallContribNbextensionsApp] Up to date: C:\\Users\\satish\\AppData\\Roaming\\jupyter\\nbextensions\\highlighter\\tst_highlights.ipynb\n",
      "[I 12:11:22 InstallContribNbextensionsApp] Up to date: C:\\Users\\satish\\AppData\\Roaming\\jupyter\\nbextensions\\highlighter\\tst_highlights.pdf\n",
      "[I 12:11:22 InstallContribNbextensionsApp] Up to date: C:\\Users\\satish\\AppData\\Roaming\\jupyter\\nbextensions\\highlighter\\tst_highlights.tex\n",
      "[I 12:11:22 InstallContribNbextensionsApp] - Validating: ok\n",
      "[I 12:11:22 InstallContribNbextensionsApp] Installing c:\\users\\satish\\anaconda3\\lib\\site-packages\\jupyter_contrib_nbextensions\\nbextensions\\hinterland -> hinterland\n",
      "[I 12:11:22 InstallContribNbextensionsApp] Up to date: C:\\Users\\satish\\AppData\\Roaming\\jupyter\\nbextensions\\hinterland\\hinterland.js\n",
      "[I 12:11:22 InstallContribNbextensionsApp] Up to date: C:\\Users\\satish\\AppData\\Roaming\\jupyter\\nbextensions\\hinterland\\hinterland.yaml\n",
      "[I 12:11:22 InstallContribNbextensionsApp] Up to date: C:\\Users\\satish\\AppData\\Roaming\\jupyter\\nbextensions\\hinterland\\README.md\n",
      "[I 12:11:22 InstallContribNbextensionsApp] - Validating: ok\n",
      "[I 12:11:22 InstallContribNbextensionsApp] Installing c:\\users\\satish\\anaconda3\\lib\\site-packages\\jupyter_contrib_nbextensions\\nbextensions\\init_cell -> init_cell\n",
      "[I 12:11:22 InstallContribNbextensionsApp] Up to date: C:\\Users\\satish\\AppData\\Roaming\\jupyter\\nbextensions\\init_cell\\cell_toolbar_menu.png\n",
      "[I 12:11:22 InstallContribNbextensionsApp] Up to date: C:\\Users\\satish\\AppData\\Roaming\\jupyter\\nbextensions\\init_cell\\icon.png\n",
      "[I 12:11:22 InstallContribNbextensionsApp] Up to date: C:\\Users\\satish\\AppData\\Roaming\\jupyter\\nbextensions\\init_cell\\init_cell.yaml\n",
      "[I 12:11:22 InstallContribNbextensionsApp] Up to date: C:\\Users\\satish\\AppData\\Roaming\\jupyter\\nbextensions\\init_cell\\main.js\n",
      "[I 12:11:22 InstallContribNbextensionsApp] Up to date: C:\\Users\\satish\\AppData\\Roaming\\jupyter\\nbextensions\\init_cell\\README.md\n",
      "[I 12:11:22 InstallContribNbextensionsApp] - Validating: ok\n",
      "[I 12:11:22 InstallContribNbextensionsApp] Installing c:\\users\\satish\\anaconda3\\lib\\site-packages\\jupyter_contrib_nbextensions\\nbextensions\\keyboard_shortcut_editor -> keyboard_shortcut_editor\n",
      "[I 12:11:22 InstallContribNbextensionsApp] Up to date: C:\\Users\\satish\\AppData\\Roaming\\jupyter\\nbextensions\\keyboard_shortcut_editor\\icon.png\n",
      "[I 12:11:22 InstallContribNbextensionsApp] Up to date: C:\\Users\\satish\\AppData\\Roaming\\jupyter\\nbextensions\\keyboard_shortcut_editor\\keyboard_shortcut_editor.yaml\n",
      "[I 12:11:22 InstallContribNbextensionsApp] Up to date: C:\\Users\\satish\\AppData\\Roaming\\jupyter\\nbextensions\\keyboard_shortcut_editor\\kse_components.js\n",
      "[I 12:11:22 InstallContribNbextensionsApp] Up to date: C:\\Users\\satish\\AppData\\Roaming\\jupyter\\nbextensions\\keyboard_shortcut_editor\\main.css\n",
      "[I 12:11:22 InstallContribNbextensionsApp] Up to date: C:\\Users\\satish\\AppData\\Roaming\\jupyter\\nbextensions\\keyboard_shortcut_editor\\main.js\n",
      "[I 12:11:22 InstallContribNbextensionsApp] Up to date: C:\\Users\\satish\\AppData\\Roaming\\jupyter\\nbextensions\\keyboard_shortcut_editor\\quickhelp_shim.js\n",
      "[I 12:11:22 InstallContribNbextensionsApp] Up to date: C:\\Users\\satish\\AppData\\Roaming\\jupyter\\nbextensions\\keyboard_shortcut_editor\\README.md\n",
      "[I 12:11:22 InstallContribNbextensionsApp] Up to date: C:\\Users\\satish\\AppData\\Roaming\\jupyter\\nbextensions\\keyboard_shortcut_editor\\readme_add_new_link.png\n",
      "[I 12:11:22 InstallContribNbextensionsApp] Up to date: C:\\Users\\satish\\AppData\\Roaming\\jupyter\\nbextensions\\keyboard_shortcut_editor\\readme_add_new_select_action.png\n",
      "[I 12:11:22 InstallContribNbextensionsApp] Up to date: C:\\Users\\satish\\AppData\\Roaming\\jupyter\\nbextensions\\keyboard_shortcut_editor\\readme_comma.png\n",
      "[I 12:11:22 InstallContribNbextensionsApp] Up to date: C:\\Users\\satish\\AppData\\Roaming\\jupyter\\nbextensions\\keyboard_shortcut_editor\\readme_conflict.png\n",
      "[I 12:11:22 InstallContribNbextensionsApp] Up to date: C:\\Users\\satish\\AppData\\Roaming\\jupyter\\nbextensions\\keyboard_shortcut_editor\\readme_dropdown.png\n",
      "[I 12:11:22 InstallContribNbextensionsApp] Up to date: C:\\Users\\satish\\AppData\\Roaming\\jupyter\\nbextensions\\keyboard_shortcut_editor\\readme_menu_item.png\n",
      "[I 12:11:22 InstallContribNbextensionsApp] Up to date: C:\\Users\\satish\\AppData\\Roaming\\jupyter\\nbextensions\\keyboard_shortcut_editor\\readme_reset_disabled.png\n",
      "[I 12:11:22 InstallContribNbextensionsApp] Up to date: C:\\Users\\satish\\AppData\\Roaming\\jupyter\\nbextensions\\keyboard_shortcut_editor\\readme_shortcut_editor_blank.png\n",
      "[I 12:11:22 InstallContribNbextensionsApp] Up to date: C:\\Users\\satish\\AppData\\Roaming\\jupyter\\nbextensions\\keyboard_shortcut_editor\\readme_shortcut_editor_success.png\n",
      "[I 12:11:22 InstallContribNbextensionsApp] Up to date: C:\\Users\\satish\\AppData\\Roaming\\jupyter\\nbextensions\\keyboard_shortcut_editor\\readme_undefined_key.png\n",
      "[I 12:11:22 InstallContribNbextensionsApp] - Validating: ok\n",
      "[I 12:11:22 InstallContribNbextensionsApp] Installing c:\\users\\satish\\anaconda3\\lib\\site-packages\\jupyter_contrib_nbextensions\\nbextensions\\limit_output -> limit_output\n",
      "[I 12:11:22 InstallContribNbextensionsApp] Up to date: C:\\Users\\satish\\AppData\\Roaming\\jupyter\\nbextensions\\limit_output\\icon.png\n",
      "[I 12:11:22 InstallContribNbextensionsApp] Up to date: C:\\Users\\satish\\AppData\\Roaming\\jupyter\\nbextensions\\limit_output\\limit-output.yaml\n",
      "[I 12:11:22 InstallContribNbextensionsApp] Up to date: C:\\Users\\satish\\AppData\\Roaming\\jupyter\\nbextensions\\limit_output\\main.js\n",
      "[I 12:11:22 InstallContribNbextensionsApp] Up to date: C:\\Users\\satish\\AppData\\Roaming\\jupyter\\nbextensions\\limit_output\\readme.md\n",
      "[I 12:11:22 InstallContribNbextensionsApp] - Validating: ok\n",
      "[I 12:11:22 InstallContribNbextensionsApp] Installing c:\\users\\satish\\anaconda3\\lib\\site-packages\\jupyter_contrib_nbextensions\\nbextensions\\livemdpreview -> livemdpreview\n",
      "[I 12:11:22 InstallContribNbextensionsApp] Up to date: C:\\Users\\satish\\AppData\\Roaming\\jupyter\\nbextensions\\livemdpreview\\livemdpreview.js\n",
      "[I 12:11:22 InstallContribNbextensionsApp] Up to date: C:\\Users\\satish\\AppData\\Roaming\\jupyter\\nbextensions\\livemdpreview\\livemdpreview.yml\n",
      "[I 12:11:22 InstallContribNbextensionsApp] - Validating: ok\n",
      "[I 12:11:22 InstallContribNbextensionsApp] Installing c:\\users\\satish\\anaconda3\\lib\\site-packages\\jupyter_contrib_nbextensions\\nbextensions\\load_tex_macros -> load_tex_macros\n",
      "[I 12:11:22 InstallContribNbextensionsApp] Up to date: C:\\Users\\satish\\AppData\\Roaming\\jupyter\\nbextensions\\load_tex_macros\\icon.png\n",
      "[I 12:11:22 InstallContribNbextensionsApp] Up to date: C:\\Users\\satish\\AppData\\Roaming\\jupyter\\nbextensions\\load_tex_macros\\load_tex_macros.yaml\n",
      "[I 12:11:22 InstallContribNbextensionsApp] Up to date: C:\\Users\\satish\\AppData\\Roaming\\jupyter\\nbextensions\\load_tex_macros\\main.js\n",
      "[I 12:11:22 InstallContribNbextensionsApp] Up to date: C:\\Users\\satish\\AppData\\Roaming\\jupyter\\nbextensions\\load_tex_macros\\readme.md\n",
      "[I 12:11:22 InstallContribNbextensionsApp] - Validating: ok\n",
      "[I 12:11:22 InstallContribNbextensionsApp] Installing c:\\users\\satish\\anaconda3\\lib\\site-packages\\jupyter_contrib_nbextensions\\nbextensions\\move_selected_cells -> move_selected_cells\n",
      "[I 12:11:22 InstallContribNbextensionsApp] Up to date: C:\\Users\\satish\\AppData\\Roaming\\jupyter\\nbextensions\\move_selected_cells\\main.js\n",
      "[I 12:11:22 InstallContribNbextensionsApp] Up to date: C:\\Users\\satish\\AppData\\Roaming\\jupyter\\nbextensions\\move_selected_cells\\move_selected_cells.yaml\n",
      "[I 12:11:22 InstallContribNbextensionsApp] Up to date: C:\\Users\\satish\\AppData\\Roaming\\jupyter\\nbextensions\\move_selected_cells\\README.md\n",
      "[I 12:11:22 InstallContribNbextensionsApp] - Validating: ok\n",
      "[I 12:11:22 InstallContribNbextensionsApp] Installing c:\\users\\satish\\anaconda3\\lib\\site-packages\\jupyter_contrib_nbextensions\\nbextensions\\navigation-hotkeys -> navigation-hotkeys\n",
      "[I 12:11:22 InstallContribNbextensionsApp] Up to date: C:\\Users\\satish\\AppData\\Roaming\\jupyter\\nbextensions\\navigation-hotkeys\\hotkeys.yaml\n",
      "[I 12:11:22 InstallContribNbextensionsApp] Up to date: C:\\Users\\satish\\AppData\\Roaming\\jupyter\\nbextensions\\navigation-hotkeys\\icon.png\n",
      "[I 12:11:22 InstallContribNbextensionsApp] Up to date: C:\\Users\\satish\\AppData\\Roaming\\jupyter\\nbextensions\\navigation-hotkeys\\main.js\n",
      "[I 12:11:22 InstallContribNbextensionsApp] Up to date: C:\\Users\\satish\\AppData\\Roaming\\jupyter\\nbextensions\\navigation-hotkeys\\readme.md\n",
      "[I 12:11:22 InstallContribNbextensionsApp] - Validating: ok\n",
      "[I 12:11:22 InstallContribNbextensionsApp] Installing c:\\users\\satish\\anaconda3\\lib\\site-packages\\jupyter_contrib_nbextensions\\nbextensions\\nbTranslate -> nbTranslate\n",
      "[I 12:11:23 InstallContribNbextensionsApp] Up to date: C:\\Users\\satish\\AppData\\Roaming\\jupyter\\nbextensions\\nbTranslate\\demo1.gif\n",
      "[I 12:11:23 InstallContribNbextensionsApp] Up to date: C:\\Users\\satish\\AppData\\Roaming\\jupyter\\nbextensions\\nbTranslate\\demo2.gif\n",
      "[I 12:11:23 InstallContribNbextensionsApp] Up to date: C:\\Users\\satish\\AppData\\Roaming\\jupyter\\nbextensions\\nbTranslate\\languages.js\n",
      "[I 12:11:23 InstallContribNbextensionsApp] Up to date: C:\\Users\\satish\\AppData\\Roaming\\jupyter\\nbextensions\\nbTranslate\\main.js\n",
      "[I 12:11:23 InstallContribNbextensionsApp] Up to date: C:\\Users\\satish\\AppData\\Roaming\\jupyter\\nbextensions\\nbTranslate\\mutils.js\n",
      "[I 12:11:23 InstallContribNbextensionsApp] Up to date: C:\\Users\\satish\\AppData\\Roaming\\jupyter\\nbextensions\\nbTranslate\\nbTranslate.js\n",
      "[I 12:11:23 InstallContribNbextensionsApp] Up to date: C:\\Users\\satish\\AppData\\Roaming\\jupyter\\nbextensions\\nbTranslate\\nbTranslate.yaml\n",
      "[I 12:11:23 InstallContribNbextensionsApp] Up to date: C:\\Users\\satish\\AppData\\Roaming\\jupyter\\nbextensions\\nbTranslate\\README.md\n",
      "[I 12:11:23 InstallContribNbextensionsApp] - Validating: ok\n",
      "[I 12:11:23 InstallContribNbextensionsApp] Installing c:\\users\\satish\\anaconda3\\lib\\site-packages\\jupyter_contrib_nbextensions\\nbextensions\\notify -> notify\n",
      "[I 12:11:23 InstallContribNbextensionsApp] Up to date: C:\\Users\\satish\\AppData\\Roaming\\jupyter\\nbextensions\\notify\\notification.png\n",
      "[I 12:11:23 InstallContribNbextensionsApp] Up to date: C:\\Users\\satish\\AppData\\Roaming\\jupyter\\nbextensions\\notify\\notify.js\n",
      "[I 12:11:23 InstallContribNbextensionsApp] Up to date: C:\\Users\\satish\\AppData\\Roaming\\jupyter\\nbextensions\\notify\\notify.mp3\n",
      "[I 12:11:23 InstallContribNbextensionsApp] Up to date: C:\\Users\\satish\\AppData\\Roaming\\jupyter\\nbextensions\\notify\\notify.yaml\n",
      "[I 12:11:23 InstallContribNbextensionsApp] Up to date: C:\\Users\\satish\\AppData\\Roaming\\jupyter\\nbextensions\\notify\\readme.md\n",
      "[I 12:11:23 InstallContribNbextensionsApp] - Validating: ok\n",
      "[I 12:11:23 InstallContribNbextensionsApp] Installing c:\\users\\satish\\anaconda3\\lib\\site-packages\\jupyter_contrib_nbextensions\\nbextensions\\printview -> printview\n",
      "[I 12:11:23 InstallContribNbextensionsApp] Up to date: C:\\Users\\satish\\AppData\\Roaming\\jupyter\\nbextensions\\printview\\icon.png\n",
      "[I 12:11:23 InstallContribNbextensionsApp] Up to date: C:\\Users\\satish\\AppData\\Roaming\\jupyter\\nbextensions\\printview\\main.js\n",
      "[I 12:11:23 InstallContribNbextensionsApp] Up to date: C:\\Users\\satish\\AppData\\Roaming\\jupyter\\nbextensions\\printview\\printview-button.png\n",
      "[I 12:11:23 InstallContribNbextensionsApp] Up to date: C:\\Users\\satish\\AppData\\Roaming\\jupyter\\nbextensions\\printview\\printview.yaml\n",
      "[I 12:11:23 InstallContribNbextensionsApp] Up to date: C:\\Users\\satish\\AppData\\Roaming\\jupyter\\nbextensions\\printview\\readme.md\n",
      "[I 12:11:23 InstallContribNbextensionsApp] - Validating: ok\n",
      "[I 12:11:23 InstallContribNbextensionsApp] Installing c:\\users\\satish\\anaconda3\\lib\\site-packages\\jupyter_contrib_nbextensions\\nbextensions\\python-markdown -> python-markdown\n",
      "[I 12:11:23 InstallContribNbextensionsApp] Up to date: C:\\Users\\satish\\AppData\\Roaming\\jupyter\\nbextensions\\python-markdown\\main.css\n",
      "[I 12:11:23 InstallContribNbextensionsApp] Up to date: C:\\Users\\satish\\AppData\\Roaming\\jupyter\\nbextensions\\python-markdown\\main.js\n",
      "[I 12:11:23 InstallContribNbextensionsApp] Up to date: C:\\Users\\satish\\AppData\\Roaming\\jupyter\\nbextensions\\python-markdown\\python-markdown-post.png\n",
      "[I 12:11:23 InstallContribNbextensionsApp] Up to date: C:\\Users\\satish\\AppData\\Roaming\\jupyter\\nbextensions\\python-markdown\\python-markdown-pre.png\n",
      "[I 12:11:23 InstallContribNbextensionsApp] Up to date: C:\\Users\\satish\\AppData\\Roaming\\jupyter\\nbextensions\\python-markdown\\python-markdown.png\n",
      "[I 12:11:23 InstallContribNbextensionsApp] Up to date: C:\\Users\\satish\\AppData\\Roaming\\jupyter\\nbextensions\\python-markdown\\python-markdown.yaml\n",
      "[I 12:11:23 InstallContribNbextensionsApp] Up to date: C:\\Users\\satish\\AppData\\Roaming\\jupyter\\nbextensions\\python-markdown\\readme.md\n",
      "[I 12:11:23 InstallContribNbextensionsApp] Up to date: C:\\Users\\satish\\AppData\\Roaming\\jupyter\\nbextensions\\python-markdown\\trusted.png\n",
      "[I 12:11:23 InstallContribNbextensionsApp] Up to date: C:\\Users\\satish\\AppData\\Roaming\\jupyter\\nbextensions\\python-markdown\\untrusted.png\n",
      "[I 12:11:23 InstallContribNbextensionsApp] - Validating: ok\n",
      "[I 12:11:23 InstallContribNbextensionsApp] Installing c:\\users\\satish\\anaconda3\\lib\\site-packages\\jupyter_contrib_nbextensions\\nbextensions\\qtconsole -> qtconsole\n",
      "[I 12:11:23 InstallContribNbextensionsApp] Up to date: C:\\Users\\satish\\AppData\\Roaming\\jupyter\\nbextensions\\qtconsole\\qtconsole.js\n",
      "[I 12:11:23 InstallContribNbextensionsApp] Up to date: C:\\Users\\satish\\AppData\\Roaming\\jupyter\\nbextensions\\qtconsole\\qtconsole.yaml\n",
      "[I 12:11:23 InstallContribNbextensionsApp] Up to date: C:\\Users\\satish\\AppData\\Roaming\\jupyter\\nbextensions\\qtconsole\\README.md\n",
      "[I 12:11:23 InstallContribNbextensionsApp] - Validating: ok\n",
      "[I 12:11:23 InstallContribNbextensionsApp] Installing c:\\users\\satish\\anaconda3\\lib\\site-packages\\jupyter_contrib_nbextensions\\nbextensions\\rubberband -> rubberband\n",
      "[I 12:11:23 InstallContribNbextensionsApp] Up to date: C:\\Users\\satish\\AppData\\Roaming\\jupyter\\nbextensions\\rubberband\\icon.png\n",
      "[I 12:11:23 InstallContribNbextensionsApp] Up to date: C:\\Users\\satish\\AppData\\Roaming\\jupyter\\nbextensions\\rubberband\\main.css\n",
      "[I 12:11:23 InstallContribNbextensionsApp] Up to date: C:\\Users\\satish\\AppData\\Roaming\\jupyter\\nbextensions\\rubberband\\main.js\n",
      "[I 12:11:23 InstallContribNbextensionsApp] Up to date: C:\\Users\\satish\\AppData\\Roaming\\jupyter\\nbextensions\\rubberband\\readme.md\n",
      "[I 12:11:23 InstallContribNbextensionsApp] Up to date: C:\\Users\\satish\\AppData\\Roaming\\jupyter\\nbextensions\\rubberband\\rubberband.yaml\n",
      "[I 12:11:23 InstallContribNbextensionsApp] - Validating: ok\n",
      "[I 12:11:23 InstallContribNbextensionsApp] Installing c:\\users\\satish\\anaconda3\\lib\\site-packages\\jupyter_contrib_nbextensions\\nbextensions\\ruler -> ruler\n",
      "[I 12:11:23 InstallContribNbextensionsApp] Up to date: C:\\Users\\satish\\AppData\\Roaming\\jupyter\\nbextensions\\ruler\\edit.js\n",
      "[I 12:11:23 InstallContribNbextensionsApp] Up to date: C:\\Users\\satish\\AppData\\Roaming\\jupyter\\nbextensions\\ruler\\icon.png\n",
      "[I 12:11:23 InstallContribNbextensionsApp] Up to date: C:\\Users\\satish\\AppData\\Roaming\\jupyter\\nbextensions\\ruler\\main.js\n",
      "[I 12:11:23 InstallContribNbextensionsApp] Up to date: C:\\Users\\satish\\AppData\\Roaming\\jupyter\\nbextensions\\ruler\\readme.md\n",
      "[I 12:11:23 InstallContribNbextensionsApp] Up to date: C:\\Users\\satish\\AppData\\Roaming\\jupyter\\nbextensions\\ruler\\ruler.yaml\n",
      "[I 12:11:23 InstallContribNbextensionsApp] Up to date: C:\\Users\\satish\\AppData\\Roaming\\jupyter\\nbextensions\\ruler\\ruler_editor.yaml\n",
      "[I 12:11:23 InstallContribNbextensionsApp] - Validating: ok\n",
      "[I 12:11:23 InstallContribNbextensionsApp] Installing c:\\users\\satish\\anaconda3\\lib\\site-packages\\jupyter_contrib_nbextensions\\nbextensions\\ruler -> ruler\n",
      "[I 12:11:23 InstallContribNbextensionsApp] Up to date: C:\\Users\\satish\\AppData\\Roaming\\jupyter\\nbextensions\\ruler\\edit.js\n",
      "[I 12:11:23 InstallContribNbextensionsApp] Up to date: C:\\Users\\satish\\AppData\\Roaming\\jupyter\\nbextensions\\ruler\\icon.png\n",
      "[I 12:11:23 InstallContribNbextensionsApp] Up to date: C:\\Users\\satish\\AppData\\Roaming\\jupyter\\nbextensions\\ruler\\main.js\n",
      "[I 12:11:23 InstallContribNbextensionsApp] Up to date: C:\\Users\\satish\\AppData\\Roaming\\jupyter\\nbextensions\\ruler\\readme.md\n",
      "[I 12:11:23 InstallContribNbextensionsApp] Up to date: C:\\Users\\satish\\AppData\\Roaming\\jupyter\\nbextensions\\ruler\\ruler.yaml\n",
      "[I 12:11:23 InstallContribNbextensionsApp] Up to date: C:\\Users\\satish\\AppData\\Roaming\\jupyter\\nbextensions\\ruler\\ruler_editor.yaml\n",
      "[I 12:11:23 InstallContribNbextensionsApp] - Validating: ok\n",
      "[I 12:11:23 InstallContribNbextensionsApp] Installing c:\\users\\satish\\anaconda3\\lib\\site-packages\\jupyter_contrib_nbextensions\\nbextensions\\runtools -> runtools\n",
      "[I 12:11:23 InstallContribNbextensionsApp] Up to date: C:\\Users\\satish\\AppData\\Roaming\\jupyter\\nbextensions\\runtools\\annotations.odg\n",
      "[I 12:11:23 InstallContribNbextensionsApp] Up to date: C:\\Users\\satish\\AppData\\Roaming\\jupyter\\nbextensions\\runtools\\cellstate.js\n",
      "[I 12:11:23 InstallContribNbextensionsApp] Up to date: C:\\Users\\satish\\AppData\\Roaming\\jupyter\\nbextensions\\runtools\\demo.gif\n",
      "[I 12:11:23 InstallContribNbextensionsApp] Up to date: C:\\Users\\satish\\AppData\\Roaming\\jupyter\\nbextensions\\runtools\\gutter.css\n",
      "[I 12:11:23 InstallContribNbextensionsApp] Up to date: C:\\Users\\satish\\AppData\\Roaming\\jupyter\\nbextensions\\runtools\\icon.png\n",
      "[I 12:11:23 InstallContribNbextensionsApp] Up to date: C:\\Users\\satish\\AppData\\Roaming\\jupyter\\nbextensions\\runtools\\main.css\n",
      "[I 12:11:23 InstallContribNbextensionsApp] Up to date: C:\\Users\\satish\\AppData\\Roaming\\jupyter\\nbextensions\\runtools\\main.js\n",
      "[I 12:11:23 InstallContribNbextensionsApp] Up to date: C:\\Users\\satish\\AppData\\Roaming\\jupyter\\nbextensions\\runtools\\readme.md\n",
      "[I 12:11:23 InstallContribNbextensionsApp] Up to date: C:\\Users\\satish\\AppData\\Roaming\\jupyter\\nbextensions\\runtools\\runtools.yaml\n",
      "[I 12:11:23 InstallContribNbextensionsApp] Up to date: C:\\Users\\satish\\AppData\\Roaming\\jupyter\\nbextensions\\runtools\\runtools_execute.png\n",
      "[I 12:11:23 InstallContribNbextensionsApp] Up to date: C:\\Users\\satish\\AppData\\Roaming\\jupyter\\nbextensions\\runtools\\runtools_lock.png\n",
      "[I 12:11:23 InstallContribNbextensionsApp] Up to date: C:\\Users\\satish\\AppData\\Roaming\\jupyter\\nbextensions\\runtools\\runtools_marker.png\n",
      "[I 12:11:23 InstallContribNbextensionsApp] Up to date: C:\\Users\\satish\\AppData\\Roaming\\jupyter\\nbextensions\\runtools\\runtools_nb.png\n",
      "[I 12:11:23 InstallContribNbextensionsApp] Up to date: C:\\Users\\satish\\AppData\\Roaming\\jupyter\\nbextensions\\runtools\\runtools_show_hide.png\n",
      "[I 12:11:23 InstallContribNbextensionsApp] - Validating: ok\n",
      "[I 12:11:23 InstallContribNbextensionsApp] Installing c:\\users\\satish\\anaconda3\\lib\\site-packages\\jupyter_contrib_nbextensions\\nbextensions\\scratchpad -> scratchpad\n",
      "[I 12:11:23 InstallContribNbextensionsApp] Up to date: C:\\Users\\satish\\AppData\\Roaming\\jupyter\\nbextensions\\scratchpad\\demo.gif\n",
      "[I 12:11:23 InstallContribNbextensionsApp] Up to date: C:\\Users\\satish\\AppData\\Roaming\\jupyter\\nbextensions\\scratchpad\\LICENSE\n",
      "[I 12:11:23 InstallContribNbextensionsApp] Up to date: C:\\Users\\satish\\AppData\\Roaming\\jupyter\\nbextensions\\scratchpad\\main.js\n",
      "[I 12:11:23 InstallContribNbextensionsApp] Up to date: C:\\Users\\satish\\AppData\\Roaming\\jupyter\\nbextensions\\scratchpad\\README.md\n",
      "[I 12:11:23 InstallContribNbextensionsApp] Up to date: C:\\Users\\satish\\AppData\\Roaming\\jupyter\\nbextensions\\scratchpad\\scratchpad.css\n",
      "[I 12:11:23 InstallContribNbextensionsApp] Up to date: C:\\Users\\satish\\AppData\\Roaming\\jupyter\\nbextensions\\scratchpad\\scratchpad.yaml\n",
      "[I 12:11:23 InstallContribNbextensionsApp] - Validating: ok\n",
      "[I 12:11:23 InstallContribNbextensionsApp] Installing c:\\users\\satish\\anaconda3\\lib\\site-packages\\jupyter_contrib_nbextensions\\nbextensions\\scroll_down -> scroll_down\n",
      "[I 12:11:23 InstallContribNbextensionsApp] Up to date: C:\\Users\\satish\\AppData\\Roaming\\jupyter\\nbextensions\\scroll_down\\config.yaml\n",
      "[I 12:11:23 InstallContribNbextensionsApp] Up to date: C:\\Users\\satish\\AppData\\Roaming\\jupyter\\nbextensions\\scroll_down\\icon.png\n",
      "[I 12:11:23 InstallContribNbextensionsApp] Up to date: C:\\Users\\satish\\AppData\\Roaming\\jupyter\\nbextensions\\scroll_down\\main.js\n",
      "[I 12:11:23 InstallContribNbextensionsApp] Up to date: C:\\Users\\satish\\AppData\\Roaming\\jupyter\\nbextensions\\scroll_down\\readme.md\n",
      "[I 12:11:23 InstallContribNbextensionsApp] - Validating: ok\n",
      "[I 12:11:23 InstallContribNbextensionsApp] Installing c:\\users\\satish\\anaconda3\\lib\\site-packages\\jupyter_contrib_nbextensions\\nbextensions\\select_keymap -> select_keymap\n",
      "[I 12:11:23 InstallContribNbextensionsApp] Up to date: C:\\Users\\satish\\AppData\\Roaming\\jupyter\\nbextensions\\select_keymap\\main.js\n",
      "[I 12:11:23 InstallContribNbextensionsApp] Up to date: C:\\Users\\satish\\AppData\\Roaming\\jupyter\\nbextensions\\select_keymap\\README.md\n",
      "[I 12:11:23 InstallContribNbextensionsApp] Up to date: C:\\Users\\satish\\AppData\\Roaming\\jupyter\\nbextensions\\select_keymap\\select_keymap.png\n",
      "[I 12:11:23 InstallContribNbextensionsApp] Up to date: C:\\Users\\satish\\AppData\\Roaming\\jupyter\\nbextensions\\select_keymap\\select_keymap.yaml\n",
      "[I 12:11:23 InstallContribNbextensionsApp] - Validating: ok\n",
      "[I 12:11:23 InstallContribNbextensionsApp] Installing c:\\users\\satish\\anaconda3\\lib\\site-packages\\jupyter_contrib_nbextensions\\nbextensions\\skill -> skill\n",
      "[I 12:11:23 InstallContribNbextensionsApp] Up to date: C:\\Users\\satish\\AppData\\Roaming\\jupyter\\nbextensions\\skill\\main.js\n",
      "[I 12:11:23 InstallContribNbextensionsApp] Up to date: C:\\Users\\satish\\AppData\\Roaming\\jupyter\\nbextensions\\skill\\README.md\n",
      "[I 12:11:23 InstallContribNbextensionsApp] Up to date: C:\\Users\\satish\\AppData\\Roaming\\jupyter\\nbextensions\\skill\\skill.js\n",
      "[I 12:11:23 InstallContribNbextensionsApp] Up to date: C:\\Users\\satish\\AppData\\Roaming\\jupyter\\nbextensions\\skill\\skill.yaml\n",
      "[I 12:11:23 InstallContribNbextensionsApp] - Validating: ok\n",
      "[I 12:11:23 InstallContribNbextensionsApp] Installing c:\\users\\satish\\anaconda3\\lib\\site-packages\\jupyter_contrib_nbextensions\\nbextensions\\skip-traceback -> skip-traceback\n",
      "[I 12:11:23 InstallContribNbextensionsApp] Up to date: C:\\Users\\satish\\AppData\\Roaming\\jupyter\\nbextensions\\skip-traceback\\icon.png\n",
      "[I 12:11:23 InstallContribNbextensionsApp] Up to date: C:\\Users\\satish\\AppData\\Roaming\\jupyter\\nbextensions\\skip-traceback\\main.js\n",
      "[I 12:11:23 InstallContribNbextensionsApp] Up to date: C:\\Users\\satish\\AppData\\Roaming\\jupyter\\nbextensions\\skip-traceback\\readme.md\n",
      "[I 12:11:23 InstallContribNbextensionsApp] Up to date: C:\\Users\\satish\\AppData\\Roaming\\jupyter\\nbextensions\\skip-traceback\\skip-traceback.png\n",
      "[I 12:11:23 InstallContribNbextensionsApp] Up to date: C:\\Users\\satish\\AppData\\Roaming\\jupyter\\nbextensions\\skip-traceback\\skip-traceback.yaml\n",
      "[I 12:11:23 InstallContribNbextensionsApp] Up to date: C:\\Users\\satish\\AppData\\Roaming\\jupyter\\nbextensions\\skip-traceback\\traceback.png\n",
      "[I 12:11:23 InstallContribNbextensionsApp] - Validating: ok\n",
      "[I 12:11:23 InstallContribNbextensionsApp] Installing c:\\users\\satish\\anaconda3\\lib\\site-packages\\jupyter_contrib_nbextensions\\nbextensions\\snippets -> snippets\n",
      "[I 12:11:23 InstallContribNbextensionsApp] Up to date: C:\\Users\\satish\\AppData\\Roaming\\jupyter\\nbextensions\\snippets\\main.js\n",
      "[I 12:11:23 InstallContribNbextensionsApp] Up to date: C:\\Users\\satish\\AppData\\Roaming\\jupyter\\nbextensions\\snippets\\README.md\n",
      "[I 12:11:23 InstallContribNbextensionsApp] Up to date: C:\\Users\\satish\\AppData\\Roaming\\jupyter\\nbextensions\\snippets\\snippets-demo.gif\n",
      "[I 12:11:23 InstallContribNbextensionsApp] Up to date: C:\\Users\\satish\\AppData\\Roaming\\jupyter\\nbextensions\\snippets\\snippets.json\n",
      "[I 12:11:23 InstallContribNbextensionsApp] Up to date: C:\\Users\\satish\\AppData\\Roaming\\jupyter\\nbextensions\\snippets\\snippets.yaml\n",
      "[I 12:11:23 InstallContribNbextensionsApp] - Validating: ok\n",
      "[I 12:11:23 InstallContribNbextensionsApp] Installing c:\\users\\satish\\anaconda3\\lib\\site-packages\\jupyter_contrib_nbextensions\\nbextensions\\snippets_menu -> snippets_menu\n",
      "[I 12:11:23 InstallContribNbextensionsApp] Up to date: C:\\Users\\satish\\AppData\\Roaming\\jupyter\\nbextensions\\snippets_menu\\config.yaml\n",
      "[I 12:11:23 InstallContribNbextensionsApp] Up to date: C:\\Users\\satish\\AppData\\Roaming\\jupyter\\nbextensions\\snippets_menu\\examples_for_custom.js\n",
      "[I 12:11:23 InstallContribNbextensionsApp] Up to date: C:\\Users\\satish\\AppData\\Roaming\\jupyter\\nbextensions\\snippets_menu\\main.js\n",
      "[I 12:11:23 InstallContribNbextensionsApp] Up to date: C:\\Users\\satish\\AppData\\Roaming\\jupyter\\nbextensions\\snippets_menu\\readme.md\n",
      "[I 12:11:23 InstallContribNbextensionsApp] Up to date: C:\\Users\\satish\\AppData\\Roaming\\jupyter\\nbextensions\\snippets_menu\\screenshot1.png\n",
      "[I 12:11:23 InstallContribNbextensionsApp] Up to date: C:\\Users\\satish\\AppData\\Roaming\\jupyter\\nbextensions\\snippets_menu\\screenshot2.png\n",
      "[I 12:11:23 InstallContribNbextensionsApp] Up to date: C:\\Users\\satish\\AppData\\Roaming\\jupyter\\nbextensions\\snippets_menu\\screenshot3.png\n",
      "[I 12:11:23 InstallContribNbextensionsApp] Up to date: C:\\Users\\satish\\AppData\\Roaming\\jupyter\\nbextensions\\snippets_menu\\snippets_menu.css\n",
      "[I 12:11:23 InstallContribNbextensionsApp] Up to date: C:\\Users\\satish\\AppData\\Roaming\\jupyter\\nbextensions\\snippets_menu\\snippets_submenu_markdown.js\n",
      "[I 12:11:23 InstallContribNbextensionsApp] Up to date: C:\\Users\\satish\\AppData\\Roaming\\jupyter\\nbextensions\\snippets_menu\\snippets_submenu_python.js\n",
      "[I 12:11:23 InstallContribNbextensionsApp] Up to date: C:\\Users\\satish\\AppData\\Roaming\\jupyter\\nbextensions\\snippets_menu\\thumbnail.png\n",
      "[I 12:11:23 InstallContribNbextensionsApp] Up to date: C:\\Users\\satish\\AppData\\Roaming\\jupyter\\nbextensions\\snippets_menu\\snippets_submenus_python\\astropy.js\n",
      "[I 12:11:23 InstallContribNbextensionsApp] Up to date: C:\\Users\\satish\\AppData\\Roaming\\jupyter\\nbextensions\\snippets_menu\\snippets_submenus_python\\h5py.js\n",
      "[I 12:11:23 InstallContribNbextensionsApp] Up to date: C:\\Users\\satish\\AppData\\Roaming\\jupyter\\nbextensions\\snippets_menu\\snippets_submenus_python\\matplotlib.js\n",
      "[I 12:11:23 InstallContribNbextensionsApp] Up to date: C:\\Users\\satish\\AppData\\Roaming\\jupyter\\nbextensions\\snippets_menu\\snippets_submenus_python\\numba.js\n",
      "[I 12:11:23 InstallContribNbextensionsApp] Up to date: C:\\Users\\satish\\AppData\\Roaming\\jupyter\\nbextensions\\snippets_menu\\snippets_submenus_python\\numpy.js\n",
      "[I 12:11:23 InstallContribNbextensionsApp] Up to date: C:\\Users\\satish\\AppData\\Roaming\\jupyter\\nbextensions\\snippets_menu\\snippets_submenus_python\\numpy_polynomial.js\n",
      "[I 12:11:23 InstallContribNbextensionsApp] Up to date: C:\\Users\\satish\\AppData\\Roaming\\jupyter\\nbextensions\\snippets_menu\\snippets_submenus_python\\numpy_ufuncs.js\n",
      "[I 12:11:23 InstallContribNbextensionsApp] Up to date: C:\\Users\\satish\\AppData\\Roaming\\jupyter\\nbextensions\\snippets_menu\\snippets_submenus_python\\pandas.js\n",
      "[I 12:11:23 InstallContribNbextensionsApp] Up to date: C:\\Users\\satish\\AppData\\Roaming\\jupyter\\nbextensions\\snippets_menu\\snippets_submenus_python\\python.js\n",
      "[I 12:11:23 InstallContribNbextensionsApp] Up to date: C:\\Users\\satish\\AppData\\Roaming\\jupyter\\nbextensions\\snippets_menu\\snippets_submenus_python\\python_regex.js\n",
      "[I 12:11:23 InstallContribNbextensionsApp] Up to date: C:\\Users\\satish\\AppData\\Roaming\\jupyter\\nbextensions\\snippets_menu\\snippets_submenus_python\\scipy.js\n",
      "[I 12:11:23 InstallContribNbextensionsApp] Up to date: C:\\Users\\satish\\AppData\\Roaming\\jupyter\\nbextensions\\snippets_menu\\snippets_submenus_python\\scipy_constants.js\n",
      "[I 12:11:23 InstallContribNbextensionsApp] Up to date: C:\\Users\\satish\\AppData\\Roaming\\jupyter\\nbextensions\\snippets_menu\\snippets_submenus_python\\scipy_special.js\n",
      "[I 12:11:23 InstallContribNbextensionsApp] Up to date: C:\\Users\\satish\\AppData\\Roaming\\jupyter\\nbextensions\\snippets_menu\\snippets_submenus_python\\sympy.js\n",
      "[I 12:11:23 InstallContribNbextensionsApp] Up to date: C:\\Users\\satish\\AppData\\Roaming\\jupyter\\nbextensions\\snippets_menu\\snippets_submenus_python\\sympy_assumptions.js\n",
      "[I 12:11:23 InstallContribNbextensionsApp] Up to date: C:\\Users\\satish\\AppData\\Roaming\\jupyter\\nbextensions\\snippets_menu\\snippets_submenus_python\\sympy_functions.js\n",
      "[I 12:11:23 InstallContribNbextensionsApp] - Validating: ok\n",
      "[I 12:11:23 InstallContribNbextensionsApp] Installing c:\\users\\satish\\anaconda3\\lib\\site-packages\\jupyter_contrib_nbextensions\\nbextensions\\spellchecker -> spellchecker\n",
      "[I 12:11:23 InstallContribNbextensionsApp] Up to date: C:\\Users\\satish\\AppData\\Roaming\\jupyter\\nbextensions\\spellchecker\\config.yaml\n",
      "[I 12:11:23 InstallContribNbextensionsApp] Up to date: C:\\Users\\satish\\AppData\\Roaming\\jupyter\\nbextensions\\spellchecker\\download_new_dict.py\n",
      "[I 12:11:23 InstallContribNbextensionsApp] Up to date: C:\\Users\\satish\\AppData\\Roaming\\jupyter\\nbextensions\\spellchecker\\main.css\n",
      "[I 12:11:23 InstallContribNbextensionsApp] Up to date: C:\\Users\\satish\\AppData\\Roaming\\jupyter\\nbextensions\\spellchecker\\main.js\n",
      "[I 12:11:23 InstallContribNbextensionsApp] Up to date: C:\\Users\\satish\\AppData\\Roaming\\jupyter\\nbextensions\\spellchecker\\README.md\n",
      "[I 12:11:23 InstallContribNbextensionsApp] Up to date: C:\\Users\\satish\\AppData\\Roaming\\jupyter\\nbextensions\\spellchecker\\screenshot.png\n",
      "[I 12:11:23 InstallContribNbextensionsApp] Up to date: C:\\Users\\satish\\AppData\\Roaming\\jupyter\\nbextensions\\spellchecker\\typo\\LICENSE.txt\n",
      "[I 12:11:23 InstallContribNbextensionsApp] Up to date: C:\\Users\\satish\\AppData\\Roaming\\jupyter\\nbextensions\\spellchecker\\typo\\typo.js\n",
      "[I 12:11:23 InstallContribNbextensionsApp] Up to date: C:\\Users\\satish\\AppData\\Roaming\\jupyter\\nbextensions\\spellchecker\\__pycache__\\download_new_dict.cpython-38.pyc\n",
      "[I 12:11:23 InstallContribNbextensionsApp] - Validating: ok\n",
      "[I 12:11:23 InstallContribNbextensionsApp] Installing c:\\users\\satish\\anaconda3\\lib\\site-packages\\jupyter_contrib_nbextensions\\nbextensions\\splitcell -> splitcell\n",
      "[I 12:11:23 InstallContribNbextensionsApp] Up to date: C:\\Users\\satish\\AppData\\Roaming\\jupyter\\nbextensions\\splitcell\\icon.png\n",
      "[I 12:11:23 InstallContribNbextensionsApp] Up to date: C:\\Users\\satish\\AppData\\Roaming\\jupyter\\nbextensions\\splitcell\\readme.md\n",
      "[I 12:11:23 InstallContribNbextensionsApp] Up to date: C:\\Users\\satish\\AppData\\Roaming\\jupyter\\nbextensions\\splitcell\\splitcell.js\n",
      "[I 12:11:23 InstallContribNbextensionsApp] Up to date: C:\\Users\\satish\\AppData\\Roaming\\jupyter\\nbextensions\\splitcell\\splitcell.yaml\n",
      "[I 12:11:23 InstallContribNbextensionsApp] - Validating: ok\n",
      "[I 12:11:23 InstallContribNbextensionsApp] Installing c:\\users\\satish\\anaconda3\\lib\\site-packages\\jupyter_contrib_nbextensions\\nbextensions\\table_beautifier -> table_beautifier\n",
      "[I 12:11:23 InstallContribNbextensionsApp] Up to date: C:\\Users\\satish\\AppData\\Roaming\\jupyter\\nbextensions\\table_beautifier\\main.css\n",
      "[I 12:11:23 InstallContribNbextensionsApp] Up to date: C:\\Users\\satish\\AppData\\Roaming\\jupyter\\nbextensions\\table_beautifier\\main.js\n",
      "[I 12:11:23 InstallContribNbextensionsApp] Up to date: C:\\Users\\satish\\AppData\\Roaming\\jupyter\\nbextensions\\table_beautifier\\README.md\n",
      "[I 12:11:23 InstallContribNbextensionsApp] Up to date: C:\\Users\\satish\\AppData\\Roaming\\jupyter\\nbextensions\\table_beautifier\\table_beautifier.yaml\n",
      "[I 12:11:23 InstallContribNbextensionsApp] - Validating: ok\n",
      "[I 12:11:23 InstallContribNbextensionsApp] Installing c:\\users\\satish\\anaconda3\\lib\\site-packages\\jupyter_contrib_nbextensions\\nbextensions\\toc2 -> toc2\n",
      "[I 12:11:23 InstallContribNbextensionsApp] Up to date: C:\\Users\\satish\\AppData\\Roaming\\jupyter\\nbextensions\\toc2\\demo.gif\n",
      "[I 12:11:23 InstallContribNbextensionsApp] Up to date: C:\\Users\\satish\\AppData\\Roaming\\jupyter\\nbextensions\\toc2\\demo2.gif\n",
      "[I 12:11:23 InstallContribNbextensionsApp] Up to date: C:\\Users\\satish\\AppData\\Roaming\\jupyter\\nbextensions\\toc2\\demo3.gif\n",
      "[I 12:11:23 InstallContribNbextensionsApp] Up to date: C:\\Users\\satish\\AppData\\Roaming\\jupyter\\nbextensions\\toc2\\demo_dark.png\n",
      "[I 12:11:23 InstallContribNbextensionsApp] Up to date: C:\\Users\\satish\\AppData\\Roaming\\jupyter\\nbextensions\\toc2\\icon.png\n",
      "[I 12:11:23 InstallContribNbextensionsApp] Up to date: C:\\Users\\satish\\AppData\\Roaming\\jupyter\\nbextensions\\toc2\\image.png\n",
      "[I 12:11:23 InstallContribNbextensionsApp] Up to date: C:\\Users\\satish\\AppData\\Roaming\\jupyter\\nbextensions\\toc2\\main.css\n",
      "[I 12:11:23 InstallContribNbextensionsApp] Up to date: C:\\Users\\satish\\AppData\\Roaming\\jupyter\\nbextensions\\toc2\\main.js\n",
      "[I 12:11:23 InstallContribNbextensionsApp] Up to date: C:\\Users\\satish\\AppData\\Roaming\\jupyter\\nbextensions\\toc2\\README.md\n",
      "[I 12:11:23 InstallContribNbextensionsApp] Up to date: C:\\Users\\satish\\AppData\\Roaming\\jupyter\\nbextensions\\toc2\\toc2.js\n",
      "[I 12:11:23 InstallContribNbextensionsApp] Up to date: C:\\Users\\satish\\AppData\\Roaming\\jupyter\\nbextensions\\toc2\\toc2.yaml\n",
      "[I 12:11:23 InstallContribNbextensionsApp] - Validating: ok\n",
      "[I 12:11:23 InstallContribNbextensionsApp] Installing c:\\users\\satish\\anaconda3\\lib\\site-packages\\jupyter_contrib_nbextensions\\nbextensions\\toggle_all_line_numbers -> toggle_all_line_numbers\n",
      "[I 12:11:23 InstallContribNbextensionsApp] Up to date: C:\\Users\\satish\\AppData\\Roaming\\jupyter\\nbextensions\\toggle_all_line_numbers\\icon.png\n",
      "[I 12:11:23 InstallContribNbextensionsApp] Up to date: C:\\Users\\satish\\AppData\\Roaming\\jupyter\\nbextensions\\toggle_all_line_numbers\\main.js\n",
      "[I 12:11:23 InstallContribNbextensionsApp] Up to date: C:\\Users\\satish\\AppData\\Roaming\\jupyter\\nbextensions\\toggle_all_line_numbers\\main.yaml\n",
      "[I 12:11:23 InstallContribNbextensionsApp] Up to date: C:\\Users\\satish\\AppData\\Roaming\\jupyter\\nbextensions\\toggle_all_line_numbers\\readme.md\n",
      "[I 12:11:23 InstallContribNbextensionsApp] - Validating: ok\n",
      "[I 12:11:23 InstallContribNbextensionsApp] Installing c:\\users\\satish\\anaconda3\\lib\\site-packages\\jupyter_contrib_nbextensions\\nbextensions\\tree-filter -> tree-filter\n",
      "[I 12:11:23 InstallContribNbextensionsApp] Up to date: C:\\Users\\satish\\AppData\\Roaming\\jupyter\\nbextensions\\tree-filter\\demo.gif\n",
      "[I 12:11:23 InstallContribNbextensionsApp] Up to date: C:\\Users\\satish\\AppData\\Roaming\\jupyter\\nbextensions\\tree-filter\\index.js\n",
      "[I 12:11:23 InstallContribNbextensionsApp] Up to date: C:\\Users\\satish\\AppData\\Roaming\\jupyter\\nbextensions\\tree-filter\\readme.md\n",
      "[I 12:11:23 InstallContribNbextensionsApp] Up to date: C:\\Users\\satish\\AppData\\Roaming\\jupyter\\nbextensions\\tree-filter\\tree-filter.yaml\n",
      "[I 12:11:23 InstallContribNbextensionsApp] - Validating: ok\n",
      "[I 12:11:23 InstallContribNbextensionsApp] Installing c:\\users\\satish\\anaconda3\\lib\\site-packages\\jupyter_contrib_nbextensions\\nbextensions\\varInspector -> varInspector\n",
      "[I 12:11:23 InstallContribNbextensionsApp] Up to date: C:\\Users\\satish\\AppData\\Roaming\\jupyter\\nbextensions\\varInspector\\demo.gif\n",
      "[I 12:11:23 InstallContribNbextensionsApp] Up to date: C:\\Users\\satish\\AppData\\Roaming\\jupyter\\nbextensions\\varInspector\\icon.png\n",
      "[I 12:11:23 InstallContribNbextensionsApp] Up to date: C:\\Users\\satish\\AppData\\Roaming\\jupyter\\nbextensions\\varInspector\\jquery.tablesorter.min.js\n",
      "[I 12:11:23 InstallContribNbextensionsApp] Up to date: C:\\Users\\satish\\AppData\\Roaming\\jupyter\\nbextensions\\varInspector\\main.css\n",
      "[I 12:11:23 InstallContribNbextensionsApp] Up to date: C:\\Users\\satish\\AppData\\Roaming\\jupyter\\nbextensions\\varInspector\\main.js\n",
      "[I 12:11:23 InstallContribNbextensionsApp] Up to date: C:\\Users\\satish\\AppData\\Roaming\\jupyter\\nbextensions\\varInspector\\README.md\n",
      "[I 12:11:23 InstallContribNbextensionsApp] Up to date: C:\\Users\\satish\\AppData\\Roaming\\jupyter\\nbextensions\\varInspector\\tablesorter_LICENSE.txt\n",
      "[I 12:11:23 InstallContribNbextensionsApp] Up to date: C:\\Users\\satish\\AppData\\Roaming\\jupyter\\nbextensions\\varInspector\\varInspector.yaml\n",
      "[I 12:11:23 InstallContribNbextensionsApp] Up to date: C:\\Users\\satish\\AppData\\Roaming\\jupyter\\nbextensions\\varInspector\\var_list.py\n",
      "[I 12:11:23 InstallContribNbextensionsApp] Up to date: C:\\Users\\satish\\AppData\\Roaming\\jupyter\\nbextensions\\varInspector\\var_list.r\n",
      "[I 12:11:23 InstallContribNbextensionsApp] Up to date: C:\\Users\\satish\\AppData\\Roaming\\jupyter\\nbextensions\\varInspector\\__pycache__\\var_list.cpython-38.pyc\n",
      "[I 12:11:23 InstallContribNbextensionsApp] - Validating: ok\n",
      "[I 12:11:23 InstallContribNbextensionsApp] Installing c:\\users\\satish\\anaconda3\\lib\\site-packages\\jupyter_contrib_nbextensions\\nbextensions\\zenmode -> zenmode\n",
      "[I 12:11:23 InstallContribNbextensionsApp] Up to date: C:\\Users\\satish\\AppData\\Roaming\\jupyter\\nbextensions\\zenmode\\main.css\n",
      "[I 12:11:23 InstallContribNbextensionsApp] Up to date: C:\\Users\\satish\\AppData\\Roaming\\jupyter\\nbextensions\\zenmode\\main.js\n",
      "[I 12:11:23 InstallContribNbextensionsApp] Up to date: C:\\Users\\satish\\AppData\\Roaming\\jupyter\\nbextensions\\zenmode\\README.md\n",
      "[I 12:11:23 InstallContribNbextensionsApp] Up to date: C:\\Users\\satish\\AppData\\Roaming\\jupyter\\nbextensions\\zenmode\\zenmode.yaml\n",
      "[I 12:11:23 InstallContribNbextensionsApp] Up to date: C:\\Users\\satish\\AppData\\Roaming\\jupyter\\nbextensions\\zenmode\\images\\back1.jpg\n",
      "[I 12:11:23 InstallContribNbextensionsApp] Up to date: C:\\Users\\satish\\AppData\\Roaming\\jupyter\\nbextensions\\zenmode\\images\\back11.jpg\n",
      "[I 12:11:23 InstallContribNbextensionsApp] Up to date: C:\\Users\\satish\\AppData\\Roaming\\jupyter\\nbextensions\\zenmode\\images\\back12.jpg\n",
      "[I 12:11:23 InstallContribNbextensionsApp] Up to date: C:\\Users\\satish\\AppData\\Roaming\\jupyter\\nbextensions\\zenmode\\images\\back2.jpg\n",
      "[I 12:11:23 InstallContribNbextensionsApp] Up to date: C:\\Users\\satish\\AppData\\Roaming\\jupyter\\nbextensions\\zenmode\\images\\back21.jpg\n",
      "[I 12:11:23 InstallContribNbextensionsApp] Up to date: C:\\Users\\satish\\AppData\\Roaming\\jupyter\\nbextensions\\zenmode\\images\\back22.jpg\n",
      "[I 12:11:23 InstallContribNbextensionsApp] Up to date: C:\\Users\\satish\\AppData\\Roaming\\jupyter\\nbextensions\\zenmode\\images\\back3.jpg\n",
      "[I 12:11:23 InstallContribNbextensionsApp] Up to date: C:\\Users\\satish\\AppData\\Roaming\\jupyter\\nbextensions\\zenmode\\images\\ipynblogo0.png\n",
      "[I 12:11:23 InstallContribNbextensionsApp] Up to date: C:\\Users\\satish\\AppData\\Roaming\\jupyter\\nbextensions\\zenmode\\images\\ipynblogo1.png\n",
      "[I 12:11:23 InstallContribNbextensionsApp] - Validating: ok\n",
      "[I 12:11:23 InstallContribNbextensionsApp] Installing c:\\users\\satish\\anaconda3\\lib\\site-packages\\jupyter_highlight_selected_word\\static\\highlight_selected_word -> highlight_selected_word\n",
      "[I 12:11:23 InstallContribNbextensionsApp] Up to date: C:\\Users\\satish\\AppData\\Roaming\\jupyter\\nbextensions\\highlight_selected_word\\configurator.yaml\n",
      "[I 12:11:23 InstallContribNbextensionsApp] Up to date: C:\\Users\\satish\\AppData\\Roaming\\jupyter\\nbextensions\\highlight_selected_word\\main.js\n",
      "[I 12:11:23 InstallContribNbextensionsApp] Up to date: C:\\Users\\satish\\AppData\\Roaming\\jupyter\\nbextensions\\highlight_selected_word\\README.md\n",
      "[I 12:11:23 InstallContribNbextensionsApp] - Validating: ok\n",
      "[I 12:11:23 InstallContribNbextensionsApp] Installing c:\\users\\satish\\anaconda3\\lib\\site-packages\\latex_envs\\static -> latex_envs\n",
      "[I 12:11:23 InstallContribNbextensionsApp] Up to date: C:\\Users\\satish\\AppData\\Roaming\\jupyter\\nbextensions\\latex_envs\\bibInNb4.js\n",
      "[I 12:11:23 InstallContribNbextensionsApp] Up to date: C:\\Users\\satish\\AppData\\Roaming\\jupyter\\nbextensions\\latex_envs\\bibtex2.js\n",
      "[I 12:11:23 InstallContribNbextensionsApp] Up to date: C:\\Users\\satish\\AppData\\Roaming\\jupyter\\nbextensions\\latex_envs\\configuration_toolbar.png\n",
      "[I 12:11:23 InstallContribNbextensionsApp] Up to date: C:\\Users\\satish\\AppData\\Roaming\\jupyter\\nbextensions\\latex_envs\\envsLatex.js\n",
      "[I 12:11:23 InstallContribNbextensionsApp] Up to date: C:\\Users\\satish\\AppData\\Roaming\\jupyter\\nbextensions\\latex_envs\\envsLatex.json\n",
      "[I 12:11:23 InstallContribNbextensionsApp] Up to date: C:\\Users\\satish\\AppData\\Roaming\\jupyter\\nbextensions\\latex_envs\\example.png\n",
      "[I 12:11:23 InstallContribNbextensionsApp] Up to date: C:\\Users\\satish\\AppData\\Roaming\\jupyter\\nbextensions\\latex_envs\\example_user_envs.json\n",
      "[I 12:11:23 InstallContribNbextensionsApp] Up to date: C:\\Users\\satish\\AppData\\Roaming\\jupyter\\nbextensions\\latex_envs\\icon.png\n",
      "[I 12:11:23 InstallContribNbextensionsApp] Up to date: C:\\Users\\satish\\AppData\\Roaming\\jupyter\\nbextensions\\latex_envs\\initNb.js\n",
      "[I 12:11:23 InstallContribNbextensionsApp] Up to date: C:\\Users\\satish\\AppData\\Roaming\\jupyter\\nbextensions\\latex_envs\\latex_envs.css\n",
      "[I 12:11:23 InstallContribNbextensionsApp] Up to date: C:\\Users\\satish\\AppData\\Roaming\\jupyter\\nbextensions\\latex_envs\\latex_envs.js\n",
      "[I 12:11:23 InstallContribNbextensionsApp] Up to date: C:\\Users\\satish\\AppData\\Roaming\\jupyter\\nbextensions\\latex_envs\\latex_envs.yaml\n",
      "[I 12:11:23 InstallContribNbextensionsApp] Up to date: C:\\Users\\satish\\AppData\\Roaming\\jupyter\\nbextensions\\latex_envs\\main_toolbar.png\n",
      "[I 12:11:23 InstallContribNbextensionsApp] Up to date: C:\\Users\\satish\\AppData\\Roaming\\jupyter\\nbextensions\\latex_envs\\README.md\n",
      "[I 12:11:23 InstallContribNbextensionsApp] Up to date: C:\\Users\\satish\\AppData\\Roaming\\jupyter\\nbextensions\\latex_envs\\thmsInNb4.js\n",
      "[I 12:11:23 InstallContribNbextensionsApp] Up to date: C:\\Users\\satish\\AppData\\Roaming\\jupyter\\nbextensions\\latex_envs\\doc\\biblio_ipython.bib\n",
      "[I 12:11:23 InstallContribNbextensionsApp] Up to date: C:\\Users\\satish\\AppData\\Roaming\\jupyter\\nbextensions\\latex_envs\\doc\\configuration_toolbar.png\n",
      "[I 12:11:23 InstallContribNbextensionsApp] Up to date: C:\\Users\\satish\\AppData\\Roaming\\jupyter\\nbextensions\\latex_envs\\doc\\config_toolbar.png\n",
      "[I 12:11:23 InstallContribNbextensionsApp] Up to date: C:\\Users\\satish\\AppData\\Roaming\\jupyter\\nbextensions\\latex_envs\\doc\\documentation.pdf\n",
      "[I 12:11:23 InstallContribNbextensionsApp] Up to date: C:\\Users\\satish\\AppData\\Roaming\\jupyter\\nbextensions\\latex_envs\\doc\\documentation.tex\n",
      "[I 12:11:23 InstallContribNbextensionsApp] Up to date: C:\\Users\\satish\\AppData\\Roaming\\jupyter\\nbextensions\\latex_envs\\doc\\example.png\n",
      "[I 12:11:23 InstallContribNbextensionsApp] Up to date: C:\\Users\\satish\\AppData\\Roaming\\jupyter\\nbextensions\\latex_envs\\doc\\header.tex\n",
      "[I 12:11:23 InstallContribNbextensionsApp] Up to date: C:\\Users\\satish\\AppData\\Roaming\\jupyter\\nbextensions\\latex_envs\\doc\\IEEEtran.bst\n",
      "[I 12:11:23 InstallContribNbextensionsApp] Up to date: C:\\Users\\satish\\AppData\\Roaming\\jupyter\\nbextensions\\latex_envs\\doc\\LaTeX_envs_menu.png\n",
      "[I 12:11:23 InstallContribNbextensionsApp] Up to date: C:\\Users\\satish\\AppData\\Roaming\\jupyter\\nbextensions\\latex_envs\\doc\\latex_env_doc.html\n",
      "[I 12:11:23 InstallContribNbextensionsApp] Up to date: C:\\Users\\satish\\AppData\\Roaming\\jupyter\\nbextensions\\latex_envs\\doc\\latex_env_doc.ipynb\n",
      "[I 12:11:23 InstallContribNbextensionsApp] Up to date: C:\\Users\\satish\\AppData\\Roaming\\jupyter\\nbextensions\\latex_envs\\doc\\latex_env_doc.tex\n",
      "[I 12:11:23 InstallContribNbextensionsApp] Up to date: C:\\Users\\satish\\AppData\\Roaming\\jupyter\\nbextensions\\latex_envs\\doc\\main_toolbar.png\n",
      "[I 12:11:23 InstallContribNbextensionsApp] Up to date: C:\\Users\\satish\\AppData\\Roaming\\jupyter\\nbextensions\\latex_envs\\doc\\README.md\n",
      "[I 12:11:23 InstallContribNbextensionsApp] Up to date: C:\\Users\\satish\\AppData\\Roaming\\jupyter\\nbextensions\\latex_envs\\doc\\Toggles.png\n",
      "[I 12:11:23 InstallContribNbextensionsApp] Up to date: C:\\Users\\satish\\AppData\\Roaming\\jupyter\\nbextensions\\latex_envs\\doc\\.ipynb_checkpoints\\latex_env_doc-checkpoint.ipynb\n",
      "[I 12:11:23 InstallContribNbextensionsApp] Up to date: C:\\Users\\satish\\AppData\\Roaming\\jupyter\\nbextensions\\latex_envs\\doc\\latex_env_doc_files\\latex_env_doc_23_2.png\n",
      "[I 12:11:23 InstallContribNbextensionsApp] Up to date: C:\\Users\\satish\\AppData\\Roaming\\jupyter\\nbextensions\\latex_envs\\doc\\latex_env_doc_files\\latex_env_doc_24_2.png\n",
      "[I 12:11:23 InstallContribNbextensionsApp] Up to date: C:\\Users\\satish\\AppData\\Roaming\\jupyter\\nbextensions\\latex_envs\\doc\\latex_env_doc_files\\latex_env_doc_26_2.png\n",
      "[I 12:11:23 InstallContribNbextensionsApp] Up to date: C:\\Users\\satish\\AppData\\Roaming\\jupyter\\nbextensions\\latex_envs\\doc\\latex_env_doc_files\\latex_env_doc_27_2.png\n",
      "[I 12:11:23 InstallContribNbextensionsApp] Up to date: C:\\Users\\satish\\AppData\\Roaming\\jupyter\\nbextensions\\latex_envs\\doc\\latex_env_doc_files\\latex_env_doc_41_0.png\n",
      "[I 12:11:23 InstallContribNbextensionsApp] Up to date: C:\\Users\\satish\\AppData\\Roaming\\jupyter\\nbextensions\\latex_envs\\doc\\latex_env_doc_files\\latex_env_doc_42_0.png\n",
      "[I 12:11:23 InstallContribNbextensionsApp] Up to date: C:\\Users\\satish\\AppData\\Roaming\\jupyter\\nbextensions\\latex_envs\\doc\\latex_env_doc_files\\latex_env_doc_43_0.png\n",
      "[I 12:11:23 InstallContribNbextensionsApp] Up to date: C:\\Users\\satish\\AppData\\Roaming\\jupyter\\nbextensions\\latex_envs\\doc\\latex_env_doc_files\\latex_env_doc_44_0.png\n",
      "[I 12:11:23 InstallContribNbextensionsApp] Up to date: C:\\Users\\satish\\AppData\\Roaming\\jupyter\\nbextensions\\latex_envs\\doc\\latex_env_doc_files\\latex_env_doc_45_0.png\n",
      "[I 12:11:23 InstallContribNbextensionsApp] Up to date: C:\\Users\\satish\\AppData\\Roaming\\jupyter\\nbextensions\\latex_envs\\doc\\latex_env_doc_files\\latex_env_doc_46_0.png\n",
      "[I 12:11:23 InstallContribNbextensionsApp] Up to date: C:\\Users\\satish\\AppData\\Roaming\\jupyter\\nbextensions\\latex_envs\\doc\\latex_env_doc_files\\latex_env_doc_47_0.png\n",
      "[I 12:11:23 InstallContribNbextensionsApp] Up to date: C:\\Users\\satish\\AppData\\Roaming\\jupyter\\nbextensions\\latex_envs\\doc\\latex_env_doc_files\\latex_env_doc_48_0.png\n",
      "[I 12:11:23 InstallContribNbextensionsApp] Up to date: C:\\Users\\satish\\AppData\\Roaming\\jupyter\\nbextensions\\latex_envs\\doc\\latex_env_doc_files\\latex_env_doc_49_0.png\n",
      "[I 12:11:23 InstallContribNbextensionsApp] Up to date: C:\\Users\\satish\\AppData\\Roaming\\jupyter\\nbextensions\\latex_envs\\doc\\latex_env_doc_files\\latex_env_doc_50_0.png\n",
      "[I 12:11:23 InstallContribNbextensionsApp] Up to date: C:\\Users\\satish\\AppData\\Roaming\\jupyter\\nbextensions\\latex_envs\\doc\\latex_env_doc_files\\latex_env_doc_51_0.png\n",
      "[I 12:11:23 InstallContribNbextensionsApp] Up to date: C:\\Users\\satish\\AppData\\Roaming\\jupyter\\nbextensions\\latex_envs\\doc\\latex_env_doc_files\\latex_env_doc_52_0.png\n",
      "[I 12:11:23 InstallContribNbextensionsApp] - Validating: ok\n",
      "[I 12:11:23 InstallContribNbextensionsApp] Installing jupyter_contrib_nbextensions items to config in C:\\Users\\satish\\.jupyter\n",
      "Enabling: jupyter_nbextensions_configurator\n",
      "- Writing config: C:\\Users\\satish\\.jupyter\n",
      "    - Validating...\n",
      "      jupyter_nbextensions_configurator 0.4.1 ok\n",
      "Enabling notebook nbextension nbextensions_configurator/config_menu/main...\n",
      "Enabling tree nbextension nbextensions_configurator/tree_tab/main...\n",
      "[I 12:11:23 InstallContribNbextensionsApp] Enabling notebook extension contrib_nbextensions_help_item/main...\n",
      "[I 12:11:23 InstallContribNbextensionsApp]       - Validating: ok\n",
      "[I 12:11:23 InstallContribNbextensionsApp] - Editing config: C:\\Users\\satish\\.jupyter\\jupyter_nbconvert_config.json\n",
      "[I 12:11:23 InstallContribNbextensionsApp] --  Configuring nbconvert template path\n",
      "[I 12:11:23 InstallContribNbextensionsApp] --  Configuring nbconvert preprocessors\n",
      "[I 12:11:23 InstallContribNbextensionsApp] - Writing config: C:\\Users\\satish\\.jupyter\\jupyter_nbconvert_config.json\n",
      "[I 12:11:23 InstallContribNbextensionsApp] --  Writing updated config file C:\\Users\\satish\\.jupyter\\jupyter_nbconvert_config.json\n"
     ]
    }
   ],
   "source": [
    "!jupyter contrib nbextension install --user"
   ]
  },
  {
   "cell_type": "code",
   "execution_count": 5,
   "metadata": {},
   "outputs": [],
   "source": [
    "import numpy as np\n",
    "import pandas as pd"
   ]
  },
  {
   "cell_type": "code",
   "execution_count": 7,
   "metadata": {},
   "outputs": [],
   "source": [
    "df=pd.read_csv(\"Garbage1.csv\")"
   ]
  },
  {
   "cell_type": "code",
   "execution_count": 8,
   "metadata": {},
   "outputs": [
    {
     "data": {
      "text/html": [
       "<div>\n",
       "<style scoped>\n",
       "    .dataframe tbody tr th:only-of-type {\n",
       "        vertical-align: middle;\n",
       "    }\n",
       "\n",
       "    .dataframe tbody tr th {\n",
       "        vertical-align: top;\n",
       "    }\n",
       "\n",
       "    .dataframe thead th {\n",
       "        text-align: right;\n",
       "    }\n",
       "</style>\n",
       "<table border=\"1\" class=\"dataframe\">\n",
       "  <thead>\n",
       "    <tr style=\"text-align: right;\">\n",
       "      <th></th>\n",
       "      <th>binno</th>\n",
       "      <th>region</th>\n",
       "      <th>lat</th>\n",
       "      <th>long</th>\n",
       "      <th>percentage</th>\n",
       "      <th>status</th>\n",
       "      <th>clean _time</th>\n",
       "      <th>full_time</th>\n",
       "    </tr>\n",
       "  </thead>\n",
       "  <tbody>\n",
       "    <tr>\n",
       "      <th>0</th>\n",
       "      <td>1</td>\n",
       "      <td>45</td>\n",
       "      <td>87.9</td>\n",
       "      <td>86.0</td>\n",
       "      <td>56</td>\n",
       "      <td>5</td>\n",
       "      <td>132</td>\n",
       "      <td>753</td>\n",
       "    </tr>\n",
       "    <tr>\n",
       "      <th>1</th>\n",
       "      <td>2</td>\n",
       "      <td>78</td>\n",
       "      <td>84.0</td>\n",
       "      <td>50.9</td>\n",
       "      <td>89</td>\n",
       "      <td>1</td>\n",
       "      <td>235</td>\n",
       "      <td>88</td>\n",
       "    </tr>\n",
       "    <tr>\n",
       "      <th>2</th>\n",
       "      <td>3</td>\n",
       "      <td>23</td>\n",
       "      <td>56.0</td>\n",
       "      <td>12.0</td>\n",
       "      <td>78</td>\n",
       "      <td>9</td>\n",
       "      <td>214</td>\n",
       "      <td>975</td>\n",
       "    </tr>\n",
       "    <tr>\n",
       "      <th>3</th>\n",
       "      <td>4</td>\n",
       "      <td>12</td>\n",
       "      <td>67.0</td>\n",
       "      <td>93.0</td>\n",
       "      <td>30</td>\n",
       "      <td>3</td>\n",
       "      <td>134</td>\n",
       "      <td>865</td>\n",
       "    </tr>\n",
       "    <tr>\n",
       "      <th>4</th>\n",
       "      <td>5</td>\n",
       "      <td>13</td>\n",
       "      <td>78.0</td>\n",
       "      <td>97.0</td>\n",
       "      <td>35</td>\n",
       "      <td>8</td>\n",
       "      <td>36</td>\n",
       "      <td>998</td>\n",
       "    </tr>\n",
       "  </tbody>\n",
       "</table>\n",
       "</div>"
      ],
      "text/plain": [
       "   binno  region   lat  long  percentage  status  clean _time  full_time\n",
       "0      1      45  87.9  86.0          56       5          132        753\n",
       "1      2      78  84.0  50.9          89       1          235         88\n",
       "2      3      23  56.0  12.0          78       9          214        975\n",
       "3      4      12  67.0  93.0          30       3          134        865\n",
       "4      5      13  78.0  97.0          35       8           36        998"
      ]
     },
     "execution_count": 8,
     "metadata": {},
     "output_type": "execute_result"
    }
   ],
   "source": [
    "df.head()"
   ]
  },
  {
   "cell_type": "code",
   "execution_count": 9,
   "metadata": {},
   "outputs": [
    {
     "data": {
      "text/html": [
       "<div>\n",
       "<style scoped>\n",
       "    .dataframe tbody tr th:only-of-type {\n",
       "        vertical-align: middle;\n",
       "    }\n",
       "\n",
       "    .dataframe tbody tr th {\n",
       "        vertical-align: top;\n",
       "    }\n",
       "\n",
       "    .dataframe thead th {\n",
       "        text-align: right;\n",
       "    }\n",
       "</style>\n",
       "<table border=\"1\" class=\"dataframe\">\n",
       "  <thead>\n",
       "    <tr style=\"text-align: right;\">\n",
       "      <th></th>\n",
       "      <th>binno</th>\n",
       "      <th>region</th>\n",
       "      <th>lat</th>\n",
       "      <th>long</th>\n",
       "      <th>percentage</th>\n",
       "      <th>status</th>\n",
       "      <th>clean _time</th>\n",
       "      <th>full_time</th>\n",
       "    </tr>\n",
       "  </thead>\n",
       "  <tbody>\n",
       "    <tr>\n",
       "      <th>13</th>\n",
       "      <td>2</td>\n",
       "      <td>78</td>\n",
       "      <td>84.0</td>\n",
       "      <td>50.9</td>\n",
       "      <td>89</td>\n",
       "      <td>1</td>\n",
       "      <td>235</td>\n",
       "      <td>88</td>\n",
       "    </tr>\n",
       "    <tr>\n",
       "      <th>14</th>\n",
       "      <td>3</td>\n",
       "      <td>23</td>\n",
       "      <td>56.0</td>\n",
       "      <td>12.0</td>\n",
       "      <td>78</td>\n",
       "      <td>9</td>\n",
       "      <td>214</td>\n",
       "      <td>975</td>\n",
       "    </tr>\n",
       "    <tr>\n",
       "      <th>15</th>\n",
       "      <td>4</td>\n",
       "      <td>12</td>\n",
       "      <td>67.0</td>\n",
       "      <td>93.0</td>\n",
       "      <td>30</td>\n",
       "      <td>3</td>\n",
       "      <td>134</td>\n",
       "      <td>865</td>\n",
       "    </tr>\n",
       "    <tr>\n",
       "      <th>16</th>\n",
       "      <td>5</td>\n",
       "      <td>13</td>\n",
       "      <td>78.0</td>\n",
       "      <td>97.0</td>\n",
       "      <td>35</td>\n",
       "      <td>8</td>\n",
       "      <td>36</td>\n",
       "      <td>998</td>\n",
       "    </tr>\n",
       "    <tr>\n",
       "      <th>17</th>\n",
       "      <td>6</td>\n",
       "      <td>7</td>\n",
       "      <td>35.0</td>\n",
       "      <td>12.0</td>\n",
       "      <td>89</td>\n",
       "      <td>8</td>\n",
       "      <td>135</td>\n",
       "      <td>579</td>\n",
       "    </tr>\n",
       "  </tbody>\n",
       "</table>\n",
       "</div>"
      ],
      "text/plain": [
       "    binno  region   lat  long  percentage  status  clean _time  full_time\n",
       "13      2      78  84.0  50.9          89       1          235         88\n",
       "14      3      23  56.0  12.0          78       9          214        975\n",
       "15      4      12  67.0  93.0          30       3          134        865\n",
       "16      5      13  78.0  97.0          35       8           36        998\n",
       "17      6       7  35.0  12.0          89       8          135        579"
      ]
     },
     "execution_count": 9,
     "metadata": {},
     "output_type": "execute_result"
    }
   ],
   "source": [
    "df.tail()"
   ]
  },
  {
   "cell_type": "code",
   "execution_count": 10,
   "metadata": {},
   "outputs": [
    {
     "data": {
      "text/html": [
       "<div>\n",
       "<style scoped>\n",
       "    .dataframe tbody tr th:only-of-type {\n",
       "        vertical-align: middle;\n",
       "    }\n",
       "\n",
       "    .dataframe tbody tr th {\n",
       "        vertical-align: top;\n",
       "    }\n",
       "\n",
       "    .dataframe thead th {\n",
       "        text-align: right;\n",
       "    }\n",
       "</style>\n",
       "<table border=\"1\" class=\"dataframe\">\n",
       "  <thead>\n",
       "    <tr style=\"text-align: right;\">\n",
       "      <th></th>\n",
       "      <th>binno</th>\n",
       "      <th>region</th>\n",
       "      <th>lat</th>\n",
       "      <th>long</th>\n",
       "      <th>percentage</th>\n",
       "      <th>status</th>\n",
       "      <th>clean _time</th>\n",
       "      <th>full_time</th>\n",
       "    </tr>\n",
       "  </thead>\n",
       "  <tbody>\n",
       "    <tr>\n",
       "      <th>0</th>\n",
       "      <td>1</td>\n",
       "      <td>45</td>\n",
       "      <td>87.9</td>\n",
       "      <td>86.0</td>\n",
       "      <td>56</td>\n",
       "      <td>5</td>\n",
       "      <td>132</td>\n",
       "      <td>753</td>\n",
       "    </tr>\n",
       "    <tr>\n",
       "      <th>1</th>\n",
       "      <td>2</td>\n",
       "      <td>78</td>\n",
       "      <td>84.0</td>\n",
       "      <td>50.9</td>\n",
       "      <td>89</td>\n",
       "      <td>1</td>\n",
       "      <td>235</td>\n",
       "      <td>88</td>\n",
       "    </tr>\n",
       "    <tr>\n",
       "      <th>2</th>\n",
       "      <td>3</td>\n",
       "      <td>23</td>\n",
       "      <td>56.0</td>\n",
       "      <td>12.0</td>\n",
       "      <td>78</td>\n",
       "      <td>9</td>\n",
       "      <td>214</td>\n",
       "      <td>975</td>\n",
       "    </tr>\n",
       "    <tr>\n",
       "      <th>3</th>\n",
       "      <td>4</td>\n",
       "      <td>12</td>\n",
       "      <td>67.0</td>\n",
       "      <td>93.0</td>\n",
       "      <td>30</td>\n",
       "      <td>3</td>\n",
       "      <td>134</td>\n",
       "      <td>865</td>\n",
       "    </tr>\n",
       "    <tr>\n",
       "      <th>4</th>\n",
       "      <td>5</td>\n",
       "      <td>13</td>\n",
       "      <td>78.0</td>\n",
       "      <td>97.0</td>\n",
       "      <td>35</td>\n",
       "      <td>8</td>\n",
       "      <td>36</td>\n",
       "      <td>998</td>\n",
       "    </tr>\n",
       "    <tr>\n",
       "      <th>5</th>\n",
       "      <td>6</td>\n",
       "      <td>7</td>\n",
       "      <td>35.0</td>\n",
       "      <td>12.0</td>\n",
       "      <td>89</td>\n",
       "      <td>8</td>\n",
       "      <td>135</td>\n",
       "      <td>579</td>\n",
       "    </tr>\n",
       "    <tr>\n",
       "      <th>6</th>\n",
       "      <td>1</td>\n",
       "      <td>45</td>\n",
       "      <td>87.9</td>\n",
       "      <td>86.0</td>\n",
       "      <td>56</td>\n",
       "      <td>5</td>\n",
       "      <td>132</td>\n",
       "      <td>753</td>\n",
       "    </tr>\n",
       "  </tbody>\n",
       "</table>\n",
       "</div>"
      ],
      "text/plain": [
       "   binno  region   lat  long  percentage  status  clean _time  full_time\n",
       "0      1      45  87.9  86.0          56       5          132        753\n",
       "1      2      78  84.0  50.9          89       1          235         88\n",
       "2      3      23  56.0  12.0          78       9          214        975\n",
       "3      4      12  67.0  93.0          30       3          134        865\n",
       "4      5      13  78.0  97.0          35       8           36        998\n",
       "5      6       7  35.0  12.0          89       8          135        579\n",
       "6      1      45  87.9  86.0          56       5          132        753"
      ]
     },
     "execution_count": 10,
     "metadata": {},
     "output_type": "execute_result"
    }
   ],
   "source": [
    "df.head(7)"
   ]
  },
  {
   "cell_type": "markdown",
   "metadata": {},
   "source": []
  },
  {
   "cell_type": "markdown",
   "metadata": {},
   "source": [
    "# DATA FRAMES ATTRIBUTES"
   ]
  },
  {
   "cell_type": "code",
   "execution_count": 11,
   "metadata": {},
   "outputs": [
    {
     "data": {
      "text/html": [
       "<div>\n",
       "<style scoped>\n",
       "    .dataframe tbody tr th:only-of-type {\n",
       "        vertical-align: middle;\n",
       "    }\n",
       "\n",
       "    .dataframe tbody tr th {\n",
       "        vertical-align: top;\n",
       "    }\n",
       "\n",
       "    .dataframe thead th {\n",
       "        text-align: right;\n",
       "    }\n",
       "</style>\n",
       "<table border=\"1\" class=\"dataframe\">\n",
       "  <thead>\n",
       "    <tr style=\"text-align: right;\">\n",
       "      <th></th>\n",
       "      <th>binno</th>\n",
       "      <th>region</th>\n",
       "      <th>lat</th>\n",
       "      <th>long</th>\n",
       "      <th>percentage</th>\n",
       "      <th>status</th>\n",
       "      <th>clean _time</th>\n",
       "      <th>full_time</th>\n",
       "    </tr>\n",
       "  </thead>\n",
       "  <tbody>\n",
       "    <tr>\n",
       "      <th>0</th>\n",
       "      <td>1</td>\n",
       "      <td>45</td>\n",
       "      <td>87.9</td>\n",
       "      <td>86.0</td>\n",
       "      <td>56</td>\n",
       "      <td>5</td>\n",
       "      <td>132</td>\n",
       "      <td>753</td>\n",
       "    </tr>\n",
       "    <tr>\n",
       "      <th>1</th>\n",
       "      <td>2</td>\n",
       "      <td>78</td>\n",
       "      <td>84.0</td>\n",
       "      <td>50.9</td>\n",
       "      <td>89</td>\n",
       "      <td>1</td>\n",
       "      <td>235</td>\n",
       "      <td>88</td>\n",
       "    </tr>\n",
       "    <tr>\n",
       "      <th>2</th>\n",
       "      <td>3</td>\n",
       "      <td>23</td>\n",
       "      <td>56.0</td>\n",
       "      <td>12.0</td>\n",
       "      <td>78</td>\n",
       "      <td>9</td>\n",
       "      <td>214</td>\n",
       "      <td>975</td>\n",
       "    </tr>\n",
       "    <tr>\n",
       "      <th>3</th>\n",
       "      <td>4</td>\n",
       "      <td>12</td>\n",
       "      <td>67.0</td>\n",
       "      <td>93.0</td>\n",
       "      <td>30</td>\n",
       "      <td>3</td>\n",
       "      <td>134</td>\n",
       "      <td>865</td>\n",
       "    </tr>\n",
       "    <tr>\n",
       "      <th>4</th>\n",
       "      <td>5</td>\n",
       "      <td>13</td>\n",
       "      <td>78.0</td>\n",
       "      <td>97.0</td>\n",
       "      <td>35</td>\n",
       "      <td>8</td>\n",
       "      <td>36</td>\n",
       "      <td>998</td>\n",
       "    </tr>\n",
       "  </tbody>\n",
       "</table>\n",
       "</div>"
      ],
      "text/plain": [
       "   binno  region   lat  long  percentage  status  clean _time  full_time\n",
       "0      1      45  87.9  86.0          56       5          132        753\n",
       "1      2      78  84.0  50.9          89       1          235         88\n",
       "2      3      23  56.0  12.0          78       9          214        975\n",
       "3      4      12  67.0  93.0          30       3          134        865\n",
       "4      5      13  78.0  97.0          35       8           36        998"
      ]
     },
     "execution_count": 11,
     "metadata": {},
     "output_type": "execute_result"
    }
   ],
   "source": [
    "df.head()"
   ]
  },
  {
   "cell_type": "code",
   "execution_count": 12,
   "metadata": {},
   "outputs": [
    {
     "data": {
      "text/html": [
       "<div>\n",
       "<style scoped>\n",
       "    .dataframe tbody tr th:only-of-type {\n",
       "        vertical-align: middle;\n",
       "    }\n",
       "\n",
       "    .dataframe tbody tr th {\n",
       "        vertical-align: top;\n",
       "    }\n",
       "\n",
       "    .dataframe thead th {\n",
       "        text-align: right;\n",
       "    }\n",
       "</style>\n",
       "<table border=\"1\" class=\"dataframe\">\n",
       "  <thead>\n",
       "    <tr style=\"text-align: right;\">\n",
       "      <th></th>\n",
       "      <th>binno</th>\n",
       "      <th>region</th>\n",
       "      <th>lat</th>\n",
       "      <th>long</th>\n",
       "      <th>percentage</th>\n",
       "      <th>status</th>\n",
       "      <th>clean _time</th>\n",
       "      <th>full_time</th>\n",
       "    </tr>\n",
       "  </thead>\n",
       "  <tbody>\n",
       "    <tr>\n",
       "      <th>13</th>\n",
       "      <td>2</td>\n",
       "      <td>78</td>\n",
       "      <td>84.0</td>\n",
       "      <td>50.9</td>\n",
       "      <td>89</td>\n",
       "      <td>1</td>\n",
       "      <td>235</td>\n",
       "      <td>88</td>\n",
       "    </tr>\n",
       "    <tr>\n",
       "      <th>14</th>\n",
       "      <td>3</td>\n",
       "      <td>23</td>\n",
       "      <td>56.0</td>\n",
       "      <td>12.0</td>\n",
       "      <td>78</td>\n",
       "      <td>9</td>\n",
       "      <td>214</td>\n",
       "      <td>975</td>\n",
       "    </tr>\n",
       "    <tr>\n",
       "      <th>15</th>\n",
       "      <td>4</td>\n",
       "      <td>12</td>\n",
       "      <td>67.0</td>\n",
       "      <td>93.0</td>\n",
       "      <td>30</td>\n",
       "      <td>3</td>\n",
       "      <td>134</td>\n",
       "      <td>865</td>\n",
       "    </tr>\n",
       "    <tr>\n",
       "      <th>16</th>\n",
       "      <td>5</td>\n",
       "      <td>13</td>\n",
       "      <td>78.0</td>\n",
       "      <td>97.0</td>\n",
       "      <td>35</td>\n",
       "      <td>8</td>\n",
       "      <td>36</td>\n",
       "      <td>998</td>\n",
       "    </tr>\n",
       "    <tr>\n",
       "      <th>17</th>\n",
       "      <td>6</td>\n",
       "      <td>7</td>\n",
       "      <td>35.0</td>\n",
       "      <td>12.0</td>\n",
       "      <td>89</td>\n",
       "      <td>8</td>\n",
       "      <td>135</td>\n",
       "      <td>579</td>\n",
       "    </tr>\n",
       "  </tbody>\n",
       "</table>\n",
       "</div>"
      ],
      "text/plain": [
       "    binno  region   lat  long  percentage  status  clean _time  full_time\n",
       "13      2      78  84.0  50.9          89       1          235         88\n",
       "14      3      23  56.0  12.0          78       9          214        975\n",
       "15      4      12  67.0  93.0          30       3          134        865\n",
       "16      5      13  78.0  97.0          35       8           36        998\n",
       "17      6       7  35.0  12.0          89       8          135        579"
      ]
     },
     "execution_count": 12,
     "metadata": {},
     "output_type": "execute_result"
    }
   ],
   "source": [
    "df.tail()"
   ]
  },
  {
   "cell_type": "code",
   "execution_count": 13,
   "metadata": {},
   "outputs": [
    {
     "data": {
      "text/html": [
       "<div>\n",
       "<style scoped>\n",
       "    .dataframe tbody tr th:only-of-type {\n",
       "        vertical-align: middle;\n",
       "    }\n",
       "\n",
       "    .dataframe tbody tr th {\n",
       "        vertical-align: top;\n",
       "    }\n",
       "\n",
       "    .dataframe thead th {\n",
       "        text-align: right;\n",
       "    }\n",
       "</style>\n",
       "<table border=\"1\" class=\"dataframe\">\n",
       "  <thead>\n",
       "    <tr style=\"text-align: right;\">\n",
       "      <th></th>\n",
       "      <th>binno</th>\n",
       "      <th>region</th>\n",
       "      <th>lat</th>\n",
       "      <th>long</th>\n",
       "      <th>percentage</th>\n",
       "      <th>status</th>\n",
       "      <th>clean _time</th>\n",
       "      <th>full_time</th>\n",
       "    </tr>\n",
       "  </thead>\n",
       "  <tbody>\n",
       "    <tr>\n",
       "      <th>count</th>\n",
       "      <td>18.000000</td>\n",
       "      <td>18.000000</td>\n",
       "      <td>18.000000</td>\n",
       "      <td>18.000000</td>\n",
       "      <td>18.000000</td>\n",
       "      <td>18.000000</td>\n",
       "      <td>18.000000</td>\n",
       "      <td>18.000000</td>\n",
       "    </tr>\n",
       "    <tr>\n",
       "      <th>mean</th>\n",
       "      <td>3.500000</td>\n",
       "      <td>29.666667</td>\n",
       "      <td>67.983333</td>\n",
       "      <td>58.483333</td>\n",
       "      <td>62.833333</td>\n",
       "      <td>5.666667</td>\n",
       "      <td>147.666667</td>\n",
       "      <td>709.666667</td>\n",
       "    </tr>\n",
       "    <tr>\n",
       "      <th>std</th>\n",
       "      <td>1.757338</td>\n",
       "      <td>25.619386</td>\n",
       "      <td>18.720899</td>\n",
       "      <td>37.126988</td>\n",
       "      <td>24.848364</td>\n",
       "      <td>3.009788</td>\n",
       "      <td>66.539683</td>\n",
       "      <td>320.776814</td>\n",
       "    </tr>\n",
       "    <tr>\n",
       "      <th>min</th>\n",
       "      <td>1.000000</td>\n",
       "      <td>7.000000</td>\n",
       "      <td>35.000000</td>\n",
       "      <td>12.000000</td>\n",
       "      <td>30.000000</td>\n",
       "      <td>1.000000</td>\n",
       "      <td>36.000000</td>\n",
       "      <td>88.000000</td>\n",
       "    </tr>\n",
       "    <tr>\n",
       "      <th>25%</th>\n",
       "      <td>2.000000</td>\n",
       "      <td>12.000000</td>\n",
       "      <td>56.000000</td>\n",
       "      <td>12.000000</td>\n",
       "      <td>35.000000</td>\n",
       "      <td>3.000000</td>\n",
       "      <td>132.000000</td>\n",
       "      <td>579.000000</td>\n",
       "    </tr>\n",
       "    <tr>\n",
       "      <th>50%</th>\n",
       "      <td>3.500000</td>\n",
       "      <td>18.000000</td>\n",
       "      <td>72.500000</td>\n",
       "      <td>68.450000</td>\n",
       "      <td>67.000000</td>\n",
       "      <td>6.500000</td>\n",
       "      <td>134.500000</td>\n",
       "      <td>809.000000</td>\n",
       "    </tr>\n",
       "    <tr>\n",
       "      <th>75%</th>\n",
       "      <td>5.000000</td>\n",
       "      <td>45.000000</td>\n",
       "      <td>84.000000</td>\n",
       "      <td>93.000000</td>\n",
       "      <td>89.000000</td>\n",
       "      <td>8.000000</td>\n",
       "      <td>214.000000</td>\n",
       "      <td>975.000000</td>\n",
       "    </tr>\n",
       "    <tr>\n",
       "      <th>max</th>\n",
       "      <td>6.000000</td>\n",
       "      <td>78.000000</td>\n",
       "      <td>87.900000</td>\n",
       "      <td>97.000000</td>\n",
       "      <td>89.000000</td>\n",
       "      <td>9.000000</td>\n",
       "      <td>235.000000</td>\n",
       "      <td>998.000000</td>\n",
       "    </tr>\n",
       "  </tbody>\n",
       "</table>\n",
       "</div>"
      ],
      "text/plain": [
       "           binno     region        lat       long  percentage     status  \\\n",
       "count  18.000000  18.000000  18.000000  18.000000   18.000000  18.000000   \n",
       "mean    3.500000  29.666667  67.983333  58.483333   62.833333   5.666667   \n",
       "std     1.757338  25.619386  18.720899  37.126988   24.848364   3.009788   \n",
       "min     1.000000   7.000000  35.000000  12.000000   30.000000   1.000000   \n",
       "25%     2.000000  12.000000  56.000000  12.000000   35.000000   3.000000   \n",
       "50%     3.500000  18.000000  72.500000  68.450000   67.000000   6.500000   \n",
       "75%     5.000000  45.000000  84.000000  93.000000   89.000000   8.000000   \n",
       "max     6.000000  78.000000  87.900000  97.000000   89.000000   9.000000   \n",
       "\n",
       "       clean _time   full_time  \n",
       "count    18.000000   18.000000  \n",
       "mean    147.666667  709.666667  \n",
       "std      66.539683  320.776814  \n",
       "min      36.000000   88.000000  \n",
       "25%     132.000000  579.000000  \n",
       "50%     134.500000  809.000000  \n",
       "75%     214.000000  975.000000  \n",
       "max     235.000000  998.000000  "
      ]
     },
     "execution_count": 13,
     "metadata": {},
     "output_type": "execute_result"
    }
   ],
   "source": [
    "df.describe()"
   ]
  },
  {
   "cell_type": "code",
   "execution_count": 14,
   "metadata": {},
   "outputs": [
    {
     "data": {
      "text/plain": [
       "binno            6.0\n",
       "region          78.0\n",
       "lat             87.9\n",
       "long            97.0\n",
       "percentage      89.0\n",
       "status           9.0\n",
       "clean _time    235.0\n",
       "full_time      998.0\n",
       "dtype: float64"
      ]
     },
     "execution_count": 14,
     "metadata": {},
     "output_type": "execute_result"
    }
   ],
   "source": [
    "df.max()"
   ]
  },
  {
   "cell_type": "code",
   "execution_count": 15,
   "metadata": {},
   "outputs": [
    {
     "data": {
      "text/plain": [
       "binno           1.0\n",
       "region          7.0\n",
       "lat            35.0\n",
       "long           12.0\n",
       "percentage     30.0\n",
       "status          1.0\n",
       "clean _time    36.0\n",
       "full_time      88.0\n",
       "dtype: float64"
      ]
     },
     "execution_count": 15,
     "metadata": {},
     "output_type": "execute_result"
    }
   ],
   "source": [
    "df.min()"
   ]
  },
  {
   "cell_type": "code",
   "execution_count": 17,
   "metadata": {},
   "outputs": [
    {
     "data": {
      "text/plain": [
       "29.666666666666668"
      ]
     },
     "execution_count": 17,
     "metadata": {},
     "output_type": "execute_result"
    }
   ],
   "source": [
    "df.region.mean()"
   ]
  },
  {
   "cell_type": "code",
   "execution_count": 20,
   "metadata": {},
   "outputs": [
    {
     "data": {
      "text/plain": [
       "809.0"
      ]
     },
     "execution_count": 20,
     "metadata": {},
     "output_type": "execute_result"
    }
   ],
   "source": [
    "df.full_time.median()"
   ]
  },
  {
   "cell_type": "code",
   "execution_count": 21,
   "metadata": {},
   "outputs": [
    {
     "data": {
      "text/plain": [
       "binno            1.757338\n",
       "region          25.619386\n",
       "lat             18.720899\n",
       "long            37.126988\n",
       "percentage      24.848364\n",
       "status           3.009788\n",
       "clean _time     66.539683\n",
       "full_time      320.776814\n",
       "dtype: float64"
      ]
     },
     "execution_count": 21,
     "metadata": {},
     "output_type": "execute_result"
    }
   ],
   "source": [
    "df.std()"
   ]
  },
  {
   "cell_type": "code",
   "execution_count": 22,
   "metadata": {},
   "outputs": [
    {
     "data": {
      "text/html": [
       "<div>\n",
       "<style scoped>\n",
       "    .dataframe tbody tr th:only-of-type {\n",
       "        vertical-align: middle;\n",
       "    }\n",
       "\n",
       "    .dataframe tbody tr th {\n",
       "        vertical-align: top;\n",
       "    }\n",
       "\n",
       "    .dataframe thead th {\n",
       "        text-align: right;\n",
       "    }\n",
       "</style>\n",
       "<table border=\"1\" class=\"dataframe\">\n",
       "  <thead>\n",
       "    <tr style=\"text-align: right;\">\n",
       "      <th></th>\n",
       "      <th>binno</th>\n",
       "      <th>region</th>\n",
       "      <th>lat</th>\n",
       "      <th>long</th>\n",
       "      <th>percentage</th>\n",
       "      <th>status</th>\n",
       "      <th>clean _time</th>\n",
       "      <th>full_time</th>\n",
       "    </tr>\n",
       "  </thead>\n",
       "  <tbody>\n",
       "    <tr>\n",
       "      <th>6</th>\n",
       "      <td>1</td>\n",
       "      <td>45</td>\n",
       "      <td>87.9</td>\n",
       "      <td>86.0</td>\n",
       "      <td>56</td>\n",
       "      <td>5</td>\n",
       "      <td>132</td>\n",
       "      <td>753</td>\n",
       "    </tr>\n",
       "  </tbody>\n",
       "</table>\n",
       "</div>"
      ],
      "text/plain": [
       "   binno  region   lat  long  percentage  status  clean _time  full_time\n",
       "6      1      45  87.9  86.0          56       5          132        753"
      ]
     },
     "execution_count": 22,
     "metadata": {},
     "output_type": "execute_result"
    }
   ],
   "source": [
    "df.sample()"
   ]
  },
  {
   "cell_type": "code",
   "execution_count": 24,
   "metadata": {},
   "outputs": [
    {
     "data": {
      "text/html": [
       "<div>\n",
       "<style scoped>\n",
       "    .dataframe tbody tr th:only-of-type {\n",
       "        vertical-align: middle;\n",
       "    }\n",
       "\n",
       "    .dataframe tbody tr th {\n",
       "        vertical-align: top;\n",
       "    }\n",
       "\n",
       "    .dataframe thead th {\n",
       "        text-align: right;\n",
       "    }\n",
       "</style>\n",
       "<table border=\"1\" class=\"dataframe\">\n",
       "  <thead>\n",
       "    <tr style=\"text-align: right;\">\n",
       "      <th></th>\n",
       "      <th>binno</th>\n",
       "      <th>region</th>\n",
       "      <th>lat</th>\n",
       "      <th>long</th>\n",
       "      <th>percentage</th>\n",
       "      <th>status</th>\n",
       "      <th>clean _time</th>\n",
       "      <th>full_time</th>\n",
       "    </tr>\n",
       "  </thead>\n",
       "  <tbody>\n",
       "    <tr>\n",
       "      <th>0</th>\n",
       "      <td>1</td>\n",
       "      <td>45</td>\n",
       "      <td>87.9</td>\n",
       "      <td>86.0</td>\n",
       "      <td>56</td>\n",
       "      <td>5</td>\n",
       "      <td>132</td>\n",
       "      <td>753</td>\n",
       "    </tr>\n",
       "    <tr>\n",
       "      <th>1</th>\n",
       "      <td>2</td>\n",
       "      <td>78</td>\n",
       "      <td>84.0</td>\n",
       "      <td>50.9</td>\n",
       "      <td>89</td>\n",
       "      <td>1</td>\n",
       "      <td>235</td>\n",
       "      <td>88</td>\n",
       "    </tr>\n",
       "    <tr>\n",
       "      <th>2</th>\n",
       "      <td>3</td>\n",
       "      <td>23</td>\n",
       "      <td>56.0</td>\n",
       "      <td>12.0</td>\n",
       "      <td>78</td>\n",
       "      <td>9</td>\n",
       "      <td>214</td>\n",
       "      <td>975</td>\n",
       "    </tr>\n",
       "    <tr>\n",
       "      <th>3</th>\n",
       "      <td>4</td>\n",
       "      <td>12</td>\n",
       "      <td>67.0</td>\n",
       "      <td>93.0</td>\n",
       "      <td>30</td>\n",
       "      <td>3</td>\n",
       "      <td>134</td>\n",
       "      <td>865</td>\n",
       "    </tr>\n",
       "    <tr>\n",
       "      <th>4</th>\n",
       "      <td>5</td>\n",
       "      <td>13</td>\n",
       "      <td>78.0</td>\n",
       "      <td>97.0</td>\n",
       "      <td>35</td>\n",
       "      <td>8</td>\n",
       "      <td>36</td>\n",
       "      <td>998</td>\n",
       "    </tr>\n",
       "    <tr>\n",
       "      <th>5</th>\n",
       "      <td>6</td>\n",
       "      <td>7</td>\n",
       "      <td>35.0</td>\n",
       "      <td>12.0</td>\n",
       "      <td>89</td>\n",
       "      <td>8</td>\n",
       "      <td>135</td>\n",
       "      <td>579</td>\n",
       "    </tr>\n",
       "    <tr>\n",
       "      <th>6</th>\n",
       "      <td>1</td>\n",
       "      <td>45</td>\n",
       "      <td>87.9</td>\n",
       "      <td>86.0</td>\n",
       "      <td>56</td>\n",
       "      <td>5</td>\n",
       "      <td>132</td>\n",
       "      <td>753</td>\n",
       "    </tr>\n",
       "    <tr>\n",
       "      <th>7</th>\n",
       "      <td>2</td>\n",
       "      <td>78</td>\n",
       "      <td>84.0</td>\n",
       "      <td>50.9</td>\n",
       "      <td>89</td>\n",
       "      <td>1</td>\n",
       "      <td>235</td>\n",
       "      <td>88</td>\n",
       "    </tr>\n",
       "    <tr>\n",
       "      <th>8</th>\n",
       "      <td>3</td>\n",
       "      <td>23</td>\n",
       "      <td>56.0</td>\n",
       "      <td>12.0</td>\n",
       "      <td>78</td>\n",
       "      <td>9</td>\n",
       "      <td>214</td>\n",
       "      <td>975</td>\n",
       "    </tr>\n",
       "    <tr>\n",
       "      <th>9</th>\n",
       "      <td>4</td>\n",
       "      <td>12</td>\n",
       "      <td>67.0</td>\n",
       "      <td>93.0</td>\n",
       "      <td>30</td>\n",
       "      <td>3</td>\n",
       "      <td>134</td>\n",
       "      <td>865</td>\n",
       "    </tr>\n",
       "    <tr>\n",
       "      <th>10</th>\n",
       "      <td>5</td>\n",
       "      <td>13</td>\n",
       "      <td>78.0</td>\n",
       "      <td>97.0</td>\n",
       "      <td>35</td>\n",
       "      <td>8</td>\n",
       "      <td>36</td>\n",
       "      <td>998</td>\n",
       "    </tr>\n",
       "    <tr>\n",
       "      <th>11</th>\n",
       "      <td>6</td>\n",
       "      <td>7</td>\n",
       "      <td>35.0</td>\n",
       "      <td>12.0</td>\n",
       "      <td>89</td>\n",
       "      <td>8</td>\n",
       "      <td>135</td>\n",
       "      <td>579</td>\n",
       "    </tr>\n",
       "    <tr>\n",
       "      <th>12</th>\n",
       "      <td>1</td>\n",
       "      <td>45</td>\n",
       "      <td>87.9</td>\n",
       "      <td>86.0</td>\n",
       "      <td>56</td>\n",
       "      <td>5</td>\n",
       "      <td>132</td>\n",
       "      <td>753</td>\n",
       "    </tr>\n",
       "    <tr>\n",
       "      <th>13</th>\n",
       "      <td>2</td>\n",
       "      <td>78</td>\n",
       "      <td>84.0</td>\n",
       "      <td>50.9</td>\n",
       "      <td>89</td>\n",
       "      <td>1</td>\n",
       "      <td>235</td>\n",
       "      <td>88</td>\n",
       "    </tr>\n",
       "    <tr>\n",
       "      <th>14</th>\n",
       "      <td>3</td>\n",
       "      <td>23</td>\n",
       "      <td>56.0</td>\n",
       "      <td>12.0</td>\n",
       "      <td>78</td>\n",
       "      <td>9</td>\n",
       "      <td>214</td>\n",
       "      <td>975</td>\n",
       "    </tr>\n",
       "    <tr>\n",
       "      <th>15</th>\n",
       "      <td>4</td>\n",
       "      <td>12</td>\n",
       "      <td>67.0</td>\n",
       "      <td>93.0</td>\n",
       "      <td>30</td>\n",
       "      <td>3</td>\n",
       "      <td>134</td>\n",
       "      <td>865</td>\n",
       "    </tr>\n",
       "    <tr>\n",
       "      <th>16</th>\n",
       "      <td>5</td>\n",
       "      <td>13</td>\n",
       "      <td>78.0</td>\n",
       "      <td>97.0</td>\n",
       "      <td>35</td>\n",
       "      <td>8</td>\n",
       "      <td>36</td>\n",
       "      <td>998</td>\n",
       "    </tr>\n",
       "    <tr>\n",
       "      <th>17</th>\n",
       "      <td>6</td>\n",
       "      <td>7</td>\n",
       "      <td>35.0</td>\n",
       "      <td>12.0</td>\n",
       "      <td>89</td>\n",
       "      <td>8</td>\n",
       "      <td>135</td>\n",
       "      <td>579</td>\n",
       "    </tr>\n",
       "  </tbody>\n",
       "</table>\n",
       "</div>"
      ],
      "text/plain": [
       "    binno  region   lat  long  percentage  status  clean _time  full_time\n",
       "0       1      45  87.9  86.0          56       5          132        753\n",
       "1       2      78  84.0  50.9          89       1          235         88\n",
       "2       3      23  56.0  12.0          78       9          214        975\n",
       "3       4      12  67.0  93.0          30       3          134        865\n",
       "4       5      13  78.0  97.0          35       8           36        998\n",
       "5       6       7  35.0  12.0          89       8          135        579\n",
       "6       1      45  87.9  86.0          56       5          132        753\n",
       "7       2      78  84.0  50.9          89       1          235         88\n",
       "8       3      23  56.0  12.0          78       9          214        975\n",
       "9       4      12  67.0  93.0          30       3          134        865\n",
       "10      5      13  78.0  97.0          35       8           36        998\n",
       "11      6       7  35.0  12.0          89       8          135        579\n",
       "12      1      45  87.9  86.0          56       5          132        753\n",
       "13      2      78  84.0  50.9          89       1          235         88\n",
       "14      3      23  56.0  12.0          78       9          214        975\n",
       "15      4      12  67.0  93.0          30       3          134        865\n",
       "16      5      13  78.0  97.0          35       8           36        998\n",
       "17      6       7  35.0  12.0          89       8          135        579"
      ]
     },
     "execution_count": 24,
     "metadata": {},
     "output_type": "execute_result"
    }
   ],
   "source": [
    "df.dropna()\n",
    "#drops all the records that are empty"
   ]
  },
  {
   "cell_type": "code",
   "execution_count": 25,
   "metadata": {},
   "outputs": [
    {
     "data": {
      "text/html": [
       "<div>\n",
       "<style scoped>\n",
       "    .dataframe tbody tr th:only-of-type {\n",
       "        vertical-align: middle;\n",
       "    }\n",
       "\n",
       "    .dataframe tbody tr th {\n",
       "        vertical-align: top;\n",
       "    }\n",
       "\n",
       "    .dataframe thead th {\n",
       "        text-align: right;\n",
       "    }\n",
       "</style>\n",
       "<table border=\"1\" class=\"dataframe\">\n",
       "  <thead>\n",
       "    <tr style=\"text-align: right;\">\n",
       "      <th></th>\n",
       "      <th>lat</th>\n",
       "    </tr>\n",
       "    <tr>\n",
       "      <th>region</th>\n",
       "      <th></th>\n",
       "    </tr>\n",
       "  </thead>\n",
       "  <tbody>\n",
       "    <tr>\n",
       "      <th>7</th>\n",
       "      <td>35.0</td>\n",
       "    </tr>\n",
       "    <tr>\n",
       "      <th>12</th>\n",
       "      <td>67.0</td>\n",
       "    </tr>\n",
       "    <tr>\n",
       "      <th>13</th>\n",
       "      <td>78.0</td>\n",
       "    </tr>\n",
       "    <tr>\n",
       "      <th>23</th>\n",
       "      <td>56.0</td>\n",
       "    </tr>\n",
       "    <tr>\n",
       "      <th>45</th>\n",
       "      <td>87.9</td>\n",
       "    </tr>\n",
       "    <tr>\n",
       "      <th>78</th>\n",
       "      <td>84.0</td>\n",
       "    </tr>\n",
       "  </tbody>\n",
       "</table>\n",
       "</div>"
      ],
      "text/plain": [
       "         lat\n",
       "region      \n",
       "7       35.0\n",
       "12      67.0\n",
       "13      78.0\n",
       "23      56.0\n",
       "45      87.9\n",
       "78      84.0"
      ]
     },
     "execution_count": 25,
     "metadata": {},
     "output_type": "execute_result"
    }
   ],
   "source": [
    "df.groupby('region')[['lat']].mean()"
   ]
  },
  {
   "cell_type": "code",
   "execution_count": 30,
   "metadata": {},
   "outputs": [
    {
     "data": {
      "text/html": [
       "<div>\n",
       "<style scoped>\n",
       "    .dataframe tbody tr th:only-of-type {\n",
       "        vertical-align: middle;\n",
       "    }\n",
       "\n",
       "    .dataframe tbody tr th {\n",
       "        vertical-align: top;\n",
       "    }\n",
       "\n",
       "    .dataframe thead th {\n",
       "        text-align: right;\n",
       "    }\n",
       "</style>\n",
       "<table border=\"1\" class=\"dataframe\">\n",
       "  <thead>\n",
       "    <tr style=\"text-align: right;\">\n",
       "      <th></th>\n",
       "      <th>binno</th>\n",
       "      <th>region</th>\n",
       "      <th>lat</th>\n",
       "      <th>long</th>\n",
       "      <th>percentage</th>\n",
       "      <th>status</th>\n",
       "      <th>clean _time</th>\n",
       "      <th>full_time</th>\n",
       "    </tr>\n",
       "  </thead>\n",
       "  <tbody>\n",
       "  </tbody>\n",
       "</table>\n",
       "</div>"
      ],
      "text/plain": [
       "Empty DataFrame\n",
       "Columns: [binno, region, lat, long, percentage, status, clean _time, full_time]\n",
       "Index: []"
      ]
     },
     "execution_count": 30,
     "metadata": {},
     "output_type": "execute_result"
    }
   ],
   "source": [
    "df1=df[df['full_time']>1000]\n",
    "df1"
   ]
  },
  {
   "cell_type": "code",
   "execution_count": 32,
   "metadata": {},
   "outputs": [
    {
     "data": {
      "text/html": [
       "<div>\n",
       "<style scoped>\n",
       "    .dataframe tbody tr th:only-of-type {\n",
       "        vertical-align: middle;\n",
       "    }\n",
       "\n",
       "    .dataframe tbody tr th {\n",
       "        vertical-align: top;\n",
       "    }\n",
       "\n",
       "    .dataframe thead th {\n",
       "        text-align: right;\n",
       "    }\n",
       "</style>\n",
       "<table border=\"1\" class=\"dataframe\">\n",
       "  <thead>\n",
       "    <tr style=\"text-align: right;\">\n",
       "      <th></th>\n",
       "      <th>binno</th>\n",
       "      <th>region</th>\n",
       "    </tr>\n",
       "  </thead>\n",
       "  <tbody>\n",
       "    <tr>\n",
       "      <th>0</th>\n",
       "      <td>1</td>\n",
       "      <td>45</td>\n",
       "    </tr>\n",
       "    <tr>\n",
       "      <th>1</th>\n",
       "      <td>2</td>\n",
       "      <td>78</td>\n",
       "    </tr>\n",
       "    <tr>\n",
       "      <th>2</th>\n",
       "      <td>3</td>\n",
       "      <td>23</td>\n",
       "    </tr>\n",
       "    <tr>\n",
       "      <th>3</th>\n",
       "      <td>4</td>\n",
       "      <td>12</td>\n",
       "    </tr>\n",
       "    <tr>\n",
       "      <th>4</th>\n",
       "      <td>5</td>\n",
       "      <td>13</td>\n",
       "    </tr>\n",
       "    <tr>\n",
       "      <th>5</th>\n",
       "      <td>6</td>\n",
       "      <td>7</td>\n",
       "    </tr>\n",
       "    <tr>\n",
       "      <th>6</th>\n",
       "      <td>1</td>\n",
       "      <td>45</td>\n",
       "    </tr>\n",
       "    <tr>\n",
       "      <th>7</th>\n",
       "      <td>2</td>\n",
       "      <td>78</td>\n",
       "    </tr>\n",
       "    <tr>\n",
       "      <th>8</th>\n",
       "      <td>3</td>\n",
       "      <td>23</td>\n",
       "    </tr>\n",
       "    <tr>\n",
       "      <th>9</th>\n",
       "      <td>4</td>\n",
       "      <td>12</td>\n",
       "    </tr>\n",
       "    <tr>\n",
       "      <th>10</th>\n",
       "      <td>5</td>\n",
       "      <td>13</td>\n",
       "    </tr>\n",
       "    <tr>\n",
       "      <th>11</th>\n",
       "      <td>6</td>\n",
       "      <td>7</td>\n",
       "    </tr>\n",
       "    <tr>\n",
       "      <th>12</th>\n",
       "      <td>1</td>\n",
       "      <td>45</td>\n",
       "    </tr>\n",
       "    <tr>\n",
       "      <th>13</th>\n",
       "      <td>2</td>\n",
       "      <td>78</td>\n",
       "    </tr>\n",
       "    <tr>\n",
       "      <th>14</th>\n",
       "      <td>3</td>\n",
       "      <td>23</td>\n",
       "    </tr>\n",
       "    <tr>\n",
       "      <th>15</th>\n",
       "      <td>4</td>\n",
       "      <td>12</td>\n",
       "    </tr>\n",
       "    <tr>\n",
       "      <th>16</th>\n",
       "      <td>5</td>\n",
       "      <td>13</td>\n",
       "    </tr>\n",
       "    <tr>\n",
       "      <th>17</th>\n",
       "      <td>6</td>\n",
       "      <td>7</td>\n",
       "    </tr>\n",
       "  </tbody>\n",
       "</table>\n",
       "</div>"
      ],
      "text/plain": [
       "    binno  region\n",
       "0       1      45\n",
       "1       2      78\n",
       "2       3      23\n",
       "3       4      12\n",
       "4       5      13\n",
       "5       6       7\n",
       "6       1      45\n",
       "7       2      78\n",
       "8       3      23\n",
       "9       4      12\n",
       "10      5      13\n",
       "11      6       7\n",
       "12      1      45\n",
       "13      2      78\n",
       "14      3      23\n",
       "15      4      12\n",
       "16      5      13\n",
       "17      6       7"
      ]
     },
     "execution_count": 32,
     "metadata": {},
     "output_type": "execute_result"
    }
   ],
   "source": [
    "df[['binno','region']]"
   ]
  },
  {
   "cell_type": "code",
   "execution_count": 33,
   "metadata": {},
   "outputs": [
    {
     "data": {
      "text/plain": [
       "binno            1.0\n",
       "region          45.0\n",
       "lat             87.9\n",
       "long            86.0\n",
       "percentage      56.0\n",
       "status           5.0\n",
       "clean _time    132.0\n",
       "full_time      753.0\n",
       "Name: 0, dtype: float64"
      ]
     },
     "execution_count": 33,
     "metadata": {},
     "output_type": "execute_result"
    }
   ],
   "source": [
    "df.iloc[0]"
   ]
  },
  {
   "cell_type": "code",
   "execution_count": 34,
   "metadata": {},
   "outputs": [
    {
     "data": {
      "text/plain": [
       "binno            4.0\n",
       "region          12.0\n",
       "lat             67.0\n",
       "long            93.0\n",
       "percentage      30.0\n",
       "status           3.0\n",
       "clean _time    134.0\n",
       "full_time      865.0\n",
       "Name: 3, dtype: float64"
      ]
     },
     "execution_count": 34,
     "metadata": {},
     "output_type": "execute_result"
    }
   ],
   "source": [
    "df.iloc[3]"
   ]
  },
  {
   "cell_type": "code",
   "execution_count": 35,
   "metadata": {},
   "outputs": [
    {
     "data": {
      "text/plain": [
       "binno            6.0\n",
       "region           7.0\n",
       "lat             35.0\n",
       "long            12.0\n",
       "percentage      89.0\n",
       "status           8.0\n",
       "clean _time    135.0\n",
       "full_time      579.0\n",
       "Name: 17, dtype: float64"
      ]
     },
     "execution_count": 35,
     "metadata": {},
     "output_type": "execute_result"
    }
   ],
   "source": [
    "df.iloc[-1]"
   ]
  },
  {
   "cell_type": "code",
   "execution_count": 36,
   "metadata": {},
   "outputs": [
    {
     "data": {
      "text/plain": [
       "0     753\n",
       "1      88\n",
       "2     975\n",
       "3     865\n",
       "4     998\n",
       "5     579\n",
       "6     753\n",
       "7      88\n",
       "8     975\n",
       "9     865\n",
       "10    998\n",
       "11    579\n",
       "12    753\n",
       "13     88\n",
       "14    975\n",
       "15    865\n",
       "16    998\n",
       "17    579\n",
       "Name: full_time, dtype: int64"
      ]
     },
     "execution_count": 36,
     "metadata": {},
     "output_type": "execute_result"
    }
   ],
   "source": [
    "df.iloc[:,-1]"
   ]
  },
  {
   "cell_type": "code",
   "execution_count": 37,
   "metadata": {},
   "outputs": [
    {
     "data": {
      "text/plain": [
       "0    86.0\n",
       "Name: long, dtype: float64"
      ]
     },
     "execution_count": 37,
     "metadata": {},
     "output_type": "execute_result"
    }
   ],
   "source": [
    "df.iloc[:1,3]"
   ]
  },
  {
   "cell_type": "code",
   "execution_count": 38,
   "metadata": {},
   "outputs": [
    {
     "data": {
      "text/html": [
       "<div>\n",
       "<style scoped>\n",
       "    .dataframe tbody tr th:only-of-type {\n",
       "        vertical-align: middle;\n",
       "    }\n",
       "\n",
       "    .dataframe tbody tr th {\n",
       "        vertical-align: top;\n",
       "    }\n",
       "\n",
       "    .dataframe thead th {\n",
       "        text-align: right;\n",
       "    }\n",
       "</style>\n",
       "<table border=\"1\" class=\"dataframe\">\n",
       "  <thead>\n",
       "    <tr style=\"text-align: right;\">\n",
       "      <th></th>\n",
       "      <th>region</th>\n",
       "      <th>long</th>\n",
       "    </tr>\n",
       "  </thead>\n",
       "  <tbody>\n",
       "    <tr>\n",
       "      <th>0</th>\n",
       "      <td>45</td>\n",
       "      <td>86.0</td>\n",
       "    </tr>\n",
       "    <tr>\n",
       "      <th>5</th>\n",
       "      <td>7</td>\n",
       "      <td>12.0</td>\n",
       "    </tr>\n",
       "  </tbody>\n",
       "</table>\n",
       "</div>"
      ],
      "text/plain": [
       "   region  long\n",
       "0      45  86.0\n",
       "5       7  12.0"
      ]
     },
     "execution_count": 38,
     "metadata": {},
     "output_type": "execute_result"
    }
   ],
   "source": [
    "df.iloc[[0,5],[1,3]]"
   ]
  },
  {
   "cell_type": "code",
   "execution_count": 39,
   "metadata": {},
   "outputs": [
    {
     "data": {
      "text/html": [
       "<div>\n",
       "<style scoped>\n",
       "    .dataframe tbody tr th:only-of-type {\n",
       "        vertical-align: middle;\n",
       "    }\n",
       "\n",
       "    .dataframe tbody tr th {\n",
       "        vertical-align: top;\n",
       "    }\n",
       "\n",
       "    .dataframe thead th {\n",
       "        text-align: right;\n",
       "    }\n",
       "</style>\n",
       "<table border=\"1\" class=\"dataframe\">\n",
       "  <thead>\n",
       "    <tr style=\"text-align: right;\">\n",
       "      <th></th>\n",
       "      <th>binno</th>\n",
       "      <th>region</th>\n",
       "      <th>lat</th>\n",
       "      <th>long</th>\n",
       "      <th>percentage</th>\n",
       "      <th>status</th>\n",
       "      <th>clean _time</th>\n",
       "      <th>full_time</th>\n",
       "    </tr>\n",
       "  </thead>\n",
       "  <tbody>\n",
       "    <tr>\n",
       "      <th>1</th>\n",
       "      <td>2</td>\n",
       "      <td>78</td>\n",
       "      <td>84.0</td>\n",
       "      <td>50.9</td>\n",
       "      <td>89</td>\n",
       "      <td>1</td>\n",
       "      <td>235</td>\n",
       "      <td>88</td>\n",
       "    </tr>\n",
       "    <tr>\n",
       "      <th>2</th>\n",
       "      <td>3</td>\n",
       "      <td>23</td>\n",
       "      <td>56.0</td>\n",
       "      <td>12.0</td>\n",
       "      <td>78</td>\n",
       "      <td>9</td>\n",
       "      <td>214</td>\n",
       "      <td>975</td>\n",
       "    </tr>\n",
       "  </tbody>\n",
       "</table>\n",
       "</div>"
      ],
      "text/plain": [
       "   binno  region   lat  long  percentage  status  clean _time  full_time\n",
       "1      2      78  84.0  50.9          89       1          235         88\n",
       "2      3      23  56.0  12.0          78       9          214        975"
      ]
     },
     "execution_count": 39,
     "metadata": {},
     "output_type": "execute_result"
    }
   ],
   "source": [
    "df.iloc[1:3]"
   ]
  },
  {
   "cell_type": "markdown",
   "metadata": {},
   "source": [
    "\n"
   ]
  },
  {
   "cell_type": "markdown",
   "metadata": {},
   "source": [
    "# GRAPHICS"
   ]
  },
  {
   "cell_type": "code",
   "execution_count": 40,
   "metadata": {},
   "outputs": [],
   "source": [
    "import matplotlib.pyplot as plt\n",
    "%matplotlib inline"
   ]
  },
  {
   "cell_type": "code",
   "execution_count": 41,
   "metadata": {},
   "outputs": [],
   "source": [
    "x=[1,2,3,4,5]\n",
    "y=[4,5,6,7,8]"
   ]
  },
  {
   "cell_type": "code",
   "execution_count": 60,
   "metadata": {},
   "outputs": [
    {
     "data": {
      "text/plain": [
       "Text(0.5, 1, 'sales')"
      ]
     },
     "execution_count": 60,
     "metadata": {},
     "output_type": "execute_result"
    },
    {
     "data": {
      "image/png": "[encoded data removed]",
      "text/plain": [
       "<Figure size 288x288 with 1 Axes>"
      ]
     },
     "metadata": {
      "needs_background": "light"
     },
     "output_type": "display_data"
    }
   ],
   "source": [
    "fig=plt.figure(figsize=(4,4))\n",
    "plt.plot(x,y)\n",
    "plt.xlim(0,10)\n",
    "plt.ylim(1,10)\n",
    "plt.xlabel('x-axis')\n",
    "plt.ylabel('y-axis')\n",
    "plt.title('Sample')\n",
    "plt.suptitle('sales',size=20,y=1)"
   ]
  },
  {
   "cell_type": "code",
   "execution_count": 62,
   "metadata": {},
   "outputs": [
    {
     "data": {
      "text/plain": [
       "array([4., 4.])"
      ]
     },
     "execution_count": 62,
     "metadata": {},
     "output_type": "execute_result"
    }
   ],
   "source": [
    "fig.get_size_inches()"
   ]
  },
  {
   "cell_type": "code",
   "execution_count": 63,
   "metadata": {},
   "outputs": [],
   "source": [
    "fig.set_size_inches(2,3)"
   ]
  },
  {
   "cell_type": "code",
   "execution_count": 64,
   "metadata": {},
   "outputs": [
    {
     "data": {
      "image/png": "[encoded data removed]",
      "text/plain": [
       "<Figure size 144x216 with 1 Axes>"
      ]
     },
     "execution_count": 64,
     "metadata": {},
     "output_type": "execute_result"
    }
   ],
   "source": [
    "fig"
   ]
  },
  {
   "cell_type": "code",
   "execution_count": 66,
   "metadata": {},
   "outputs": [
    {
     "data": {
      "image/png": "[encoded data removed]",
      "text/plain": [
       "<Figure size 432x288 with 2 Axes>"
      ]
     },
     "metadata": {
      "needs_background": "light"
     },
     "output_type": "display_data"
    }
   ],
   "source": [
    "fig,ax=plt.subplots(nrows=2,ncols=1)"
   ]
  },
  {
   "cell_type": "code",
   "execution_count": 67,
   "metadata": {},
   "outputs": [
    {
     "data": {
      "image/png": "[encoded data removed]",
      "text/plain": [
       "<Figure size 432x288 with 8 Axes>"
      ]
     },
     "metadata": {
      "needs_background": "light"
     },
     "output_type": "display_data"
    }
   ],
   "source": [
    "fig,ax=plt.subplots(2,4)"
   ]
  },
  {
   "cell_type": "code",
   "execution_count": 68,
   "metadata": {},
   "outputs": [],
   "source": [
    "gb=pd.read_csv('Garbage1.csv')"
   ]
  },
  {
   "cell_type": "code",
   "execution_count": 69,
   "metadata": {},
   "outputs": [
    {
     "data": {
      "text/html": [
       "<div>\n",
       "<style scoped>\n",
       "    .dataframe tbody tr th:only-of-type {\n",
       "        vertical-align: middle;\n",
       "    }\n",
       "\n",
       "    .dataframe tbody tr th {\n",
       "        vertical-align: top;\n",
       "    }\n",
       "\n",
       "    .dataframe thead th {\n",
       "        text-align: right;\n",
       "    }\n",
       "</style>\n",
       "<table border=\"1\" class=\"dataframe\">\n",
       "  <thead>\n",
       "    <tr style=\"text-align: right;\">\n",
       "      <th></th>\n",
       "      <th>binno</th>\n",
       "      <th>region</th>\n",
       "      <th>lat</th>\n",
       "      <th>long</th>\n",
       "      <th>percentage</th>\n",
       "      <th>status</th>\n",
       "      <th>clean _time</th>\n",
       "      <th>full_time</th>\n",
       "    </tr>\n",
       "  </thead>\n",
       "  <tbody>\n",
       "    <tr>\n",
       "      <th>0</th>\n",
       "      <td>1</td>\n",
       "      <td>45</td>\n",
       "      <td>87.9</td>\n",
       "      <td>86.0</td>\n",
       "      <td>56</td>\n",
       "      <td>5</td>\n",
       "      <td>132</td>\n",
       "      <td>753</td>\n",
       "    </tr>\n",
       "    <tr>\n",
       "      <th>1</th>\n",
       "      <td>2</td>\n",
       "      <td>78</td>\n",
       "      <td>84.0</td>\n",
       "      <td>50.9</td>\n",
       "      <td>89</td>\n",
       "      <td>1</td>\n",
       "      <td>235</td>\n",
       "      <td>88</td>\n",
       "    </tr>\n",
       "    <tr>\n",
       "      <th>2</th>\n",
       "      <td>3</td>\n",
       "      <td>23</td>\n",
       "      <td>56.0</td>\n",
       "      <td>12.0</td>\n",
       "      <td>78</td>\n",
       "      <td>9</td>\n",
       "      <td>214</td>\n",
       "      <td>975</td>\n",
       "    </tr>\n",
       "    <tr>\n",
       "      <th>3</th>\n",
       "      <td>4</td>\n",
       "      <td>12</td>\n",
       "      <td>67.0</td>\n",
       "      <td>93.0</td>\n",
       "      <td>30</td>\n",
       "      <td>3</td>\n",
       "      <td>134</td>\n",
       "      <td>865</td>\n",
       "    </tr>\n",
       "    <tr>\n",
       "      <th>4</th>\n",
       "      <td>5</td>\n",
       "      <td>13</td>\n",
       "      <td>78.0</td>\n",
       "      <td>97.0</td>\n",
       "      <td>35</td>\n",
       "      <td>8</td>\n",
       "      <td>36</td>\n",
       "      <td>998</td>\n",
       "    </tr>\n",
       "    <tr>\n",
       "      <th>5</th>\n",
       "      <td>6</td>\n",
       "      <td>7</td>\n",
       "      <td>35.0</td>\n",
       "      <td>12.0</td>\n",
       "      <td>89</td>\n",
       "      <td>8</td>\n",
       "      <td>135</td>\n",
       "      <td>579</td>\n",
       "    </tr>\n",
       "    <tr>\n",
       "      <th>6</th>\n",
       "      <td>1</td>\n",
       "      <td>45</td>\n",
       "      <td>87.9</td>\n",
       "      <td>86.0</td>\n",
       "      <td>56</td>\n",
       "      <td>5</td>\n",
       "      <td>132</td>\n",
       "      <td>753</td>\n",
       "    </tr>\n",
       "    <tr>\n",
       "      <th>7</th>\n",
       "      <td>2</td>\n",
       "      <td>78</td>\n",
       "      <td>84.0</td>\n",
       "      <td>50.9</td>\n",
       "      <td>89</td>\n",
       "      <td>1</td>\n",
       "      <td>235</td>\n",
       "      <td>88</td>\n",
       "    </tr>\n",
       "    <tr>\n",
       "      <th>8</th>\n",
       "      <td>3</td>\n",
       "      <td>23</td>\n",
       "      <td>56.0</td>\n",
       "      <td>12.0</td>\n",
       "      <td>78</td>\n",
       "      <td>9</td>\n",
       "      <td>214</td>\n",
       "      <td>975</td>\n",
       "    </tr>\n",
       "    <tr>\n",
       "      <th>9</th>\n",
       "      <td>4</td>\n",
       "      <td>12</td>\n",
       "      <td>67.0</td>\n",
       "      <td>93.0</td>\n",
       "      <td>30</td>\n",
       "      <td>3</td>\n",
       "      <td>134</td>\n",
       "      <td>865</td>\n",
       "    </tr>\n",
       "    <tr>\n",
       "      <th>10</th>\n",
       "      <td>5</td>\n",
       "      <td>13</td>\n",
       "      <td>78.0</td>\n",
       "      <td>97.0</td>\n",
       "      <td>35</td>\n",
       "      <td>8</td>\n",
       "      <td>36</td>\n",
       "      <td>998</td>\n",
       "    </tr>\n",
       "    <tr>\n",
       "      <th>11</th>\n",
       "      <td>6</td>\n",
       "      <td>7</td>\n",
       "      <td>35.0</td>\n",
       "      <td>12.0</td>\n",
       "      <td>89</td>\n",
       "      <td>8</td>\n",
       "      <td>135</td>\n",
       "      <td>579</td>\n",
       "    </tr>\n",
       "    <tr>\n",
       "      <th>12</th>\n",
       "      <td>1</td>\n",
       "      <td>45</td>\n",
       "      <td>87.9</td>\n",
       "      <td>86.0</td>\n",
       "      <td>56</td>\n",
       "      <td>5</td>\n",
       "      <td>132</td>\n",
       "      <td>753</td>\n",
       "    </tr>\n",
       "    <tr>\n",
       "      <th>13</th>\n",
       "      <td>2</td>\n",
       "      <td>78</td>\n",
       "      <td>84.0</td>\n",
       "      <td>50.9</td>\n",
       "      <td>89</td>\n",
       "      <td>1</td>\n",
       "      <td>235</td>\n",
       "      <td>88</td>\n",
       "    </tr>\n",
       "    <tr>\n",
       "      <th>14</th>\n",
       "      <td>3</td>\n",
       "      <td>23</td>\n",
       "      <td>56.0</td>\n",
       "      <td>12.0</td>\n",
       "      <td>78</td>\n",
       "      <td>9</td>\n",
       "      <td>214</td>\n",
       "      <td>975</td>\n",
       "    </tr>\n",
       "    <tr>\n",
       "      <th>15</th>\n",
       "      <td>4</td>\n",
       "      <td>12</td>\n",
       "      <td>67.0</td>\n",
       "      <td>93.0</td>\n",
       "      <td>30</td>\n",
       "      <td>3</td>\n",
       "      <td>134</td>\n",
       "      <td>865</td>\n",
       "    </tr>\n",
       "    <tr>\n",
       "      <th>16</th>\n",
       "      <td>5</td>\n",
       "      <td>13</td>\n",
       "      <td>78.0</td>\n",
       "      <td>97.0</td>\n",
       "      <td>35</td>\n",
       "      <td>8</td>\n",
       "      <td>36</td>\n",
       "      <td>998</td>\n",
       "    </tr>\n",
       "    <tr>\n",
       "      <th>17</th>\n",
       "      <td>6</td>\n",
       "      <td>7</td>\n",
       "      <td>35.0</td>\n",
       "      <td>12.0</td>\n",
       "      <td>89</td>\n",
       "      <td>8</td>\n",
       "      <td>135</td>\n",
       "      <td>579</td>\n",
       "    </tr>\n",
       "  </tbody>\n",
       "</table>\n",
       "</div>"
      ],
      "text/plain": [
       "    binno  region   lat  long  percentage  status  clean _time  full_time\n",
       "0       1      45  87.9  86.0          56       5          132        753\n",
       "1       2      78  84.0  50.9          89       1          235         88\n",
       "2       3      23  56.0  12.0          78       9          214        975\n",
       "3       4      12  67.0  93.0          30       3          134        865\n",
       "4       5      13  78.0  97.0          35       8           36        998\n",
       "5       6       7  35.0  12.0          89       8          135        579\n",
       "6       1      45  87.9  86.0          56       5          132        753\n",
       "7       2      78  84.0  50.9          89       1          235         88\n",
       "8       3      23  56.0  12.0          78       9          214        975\n",
       "9       4      12  67.0  93.0          30       3          134        865\n",
       "10      5      13  78.0  97.0          35       8           36        998\n",
       "11      6       7  35.0  12.0          89       8          135        579\n",
       "12      1      45  87.9  86.0          56       5          132        753\n",
       "13      2      78  84.0  50.9          89       1          235         88\n",
       "14      3      23  56.0  12.0          78       9          214        975\n",
       "15      4      12  67.0  93.0          30       3          134        865\n",
       "16      5      13  78.0  97.0          35       8           36        998\n",
       "17      6       7  35.0  12.0          89       8          135        579"
      ]
     },
     "execution_count": 69,
     "metadata": {},
     "output_type": "execute_result"
    }
   ],
   "source": [
    "gb"
   ]
  },
  {
   "cell_type": "code",
   "execution_count": 70,
   "metadata": {},
   "outputs": [
    {
     "data": {
      "text/plain": [
       "Index(['binno', 'region', 'lat', 'long', 'percentage', 'status', 'clean _time',\n",
       "       'full_time'],\n",
       "      dtype='object')"
      ]
     },
     "execution_count": 70,
     "metadata": {},
     "output_type": "execute_result"
    }
   ],
   "source": [
    "gb.columns"
   ]
  },
  {
   "cell_type": "code",
   "execution_count": 72,
   "metadata": {},
   "outputs": [
    {
     "data": {
      "text/plain": [
       "(18, 8)"
      ]
     },
     "execution_count": 72,
     "metadata": {},
     "output_type": "execute_result"
    }
   ],
   "source": [
    "gb.shape"
   ]
  },
  {
   "cell_type": "code",
   "execution_count": 73,
   "metadata": {},
   "outputs": [
    {
     "data": {
      "text/plain": [
       "<AxesSubplot:xlabel='lat'>"
      ]
     },
     "execution_count": 73,
     "metadata": {},
     "output_type": "execute_result"
    },
    {
     "data": {
      "image/png": "[encoded data removed]",
      "text/plain": [
       "<Figure size 432x288 with 1 Axes>"
      ]
     },
     "metadata": {
      "needs_background": "light"
     },
     "output_type": "display_data"
    }
   ],
   "source": [
    "pd.crosstab(gb.lat,gb.binno).plot(kind='bar')"
   ]
  },
  {
   "cell_type": "code",
   "execution_count": 75,
   "metadata": {},
   "outputs": [
    {
     "data": {
      "text/plain": [
       "<AxesSubplot:>"
      ]
     },
     "execution_count": 75,
     "metadata": {},
     "output_type": "execute_result"
    },
    {
     "data": {
      "image/png": "[encoded data removed]",
      "text/plain": [
       "<Figure size 432x288 with 1 Axes>"
      ]
     },
     "metadata": {
      "needs_background": "light"
     },
     "output_type": "display_data"
    }
   ],
   "source": [
    "gb['full_time'].value_counts()\n",
    "gb.lat.value_counts().plot(kind='bar')"
   ]
  },
  {
   "cell_type": "markdown",
   "metadata": {},
   "source": [
    "## SEABORN"
   ]
  },
  {
   "cell_type": "code",
   "execution_count": 80,
   "metadata": {},
   "outputs": [
    {
     "data": {
      "text/plain": [
       "<AxesSubplot:xlabel='binno', ylabel='full_time'>"
      ]
     },
     "execution_count": 80,
     "metadata": {},
     "output_type": "execute_result"
    },
    {
     "data": {
      "image/png": "[encoded data removed]",
      "text/plain": [
       "<Figure size 432x288 with 1 Axes>"
      ]
     },
     "metadata": {
      "needs_background": "light"
     },
     "output_type": "display_data"
    }
   ],
   "source": [
    "import seaborn as sns\n",
    "sns.boxplot(x='binno',y='full_time',data=gb)"
   ]
  },
  {
   "cell_type": "code",
   "execution_count": 83,
   "metadata": {},
   "outputs": [
    {
     "data": {
      "text/plain": [
       "<seaborn.axisgrid.PairGrid at 0x1c982696d90>"
      ]
     },
     "execution_count": 83,
     "metadata": {},
     "output_type": "execute_result"
    },
    {
     "data": {
      "image/png": "[encoded data removed]",
      "text/plain": [
       "<Figure size 1440x1440 with 72 Axes>"
      ]
     },
     "metadata": {
      "needs_background": "light"
     },
     "output_type": "display_data"
    }
   ],
   "source": [
    "#doubt\n",
    "sns.pairplot(gb.iloc[:0:4])"
   ]
  },
  {
   "cell_type": "code",
   "execution_count": 84,
   "metadata": {},
   "outputs": [
    {
     "data": {
      "text/plain": [
       "<matplotlib.collections.PathCollection at 0x1c9857e07c0>"
      ]
     },
     "execution_count": 84,
     "metadata": {},
     "output_type": "execute_result"
    },
    {
     "data": {
      "image/png": "[encoded data removed]",
      "text/plain": [
       "<Figure size 432x288 with 1 Axes>"
      ]
     },
     "metadata": {
      "needs_background": "light"
     },
     "output_type": "display_data"
    }
   ],
   "source": [
    "plt.scatter(gb.lat,gb.binno)"
   ]
  },
  {
   "cell_type": "code",
   "execution_count": 89,
   "metadata": {},
   "outputs": [
    {
     "data": {
      "text/plain": [
       "(array([3., 0., 0., 0., 0., 3., 0., 3., 3., 6.]),\n",
       " array([ 88., 179., 270., 361., 452., 543., 634., 725., 816., 907., 998.]),\n",
       " <BarContainer object of 10 artists>)"
      ]
     },
     "execution_count": 89,
     "metadata": {},
     "output_type": "execute_result"
    },
    {
     "data": {
      "image/png": "[encoded data removed]",
      "text/plain": [
       "<Figure size 432x288 with 1 Axes>"
      ]
     },
     "metadata": {
      "needs_background": "light"
     },
     "output_type": "display_data"
    }
   ],
   "source": [
    "#wrong output\n",
    "plt.hist(gb['full_time'])"
   ]
  },
  {
   "cell_type": "code",
   "execution_count": 90,
   "metadata": {},
   "outputs": [
    {
     "data": {
      "text/plain": [
       "(array([3., 0., 0., 3., 0., 0., 3., 0., 3., 6.]),\n",
       " array([35.  , 40.29, 45.58, 50.87, 56.16, 61.45, 66.74, 72.03, 77.32,\n",
       "        82.61, 87.9 ]),\n",
       " <BarContainer object of 10 artists>)"
      ]
     },
     "execution_count": 90,
     "metadata": {},
     "output_type": "execute_result"
    },
    {
     "data": {
      "image/png": "[encoded data removed]",
      "text/plain": [
       "<Figure size 432x288 with 1 Axes>"
      ]
     },
     "metadata": {
      "needs_background": "light"
     },
     "output_type": "display_data"
    }
   ],
   "source": [
    "plt.hist(gb['lat'],facecolor='peru',edgecolor='red')"
   ]
  },
  {
   "cell_type": "code",
   "execution_count": 91,
   "metadata": {},
   "outputs": [
    {
     "data": {
      "text/plain": [
       "{'whiskers': [<matplotlib.lines.Line2D at 0x1c98561d0d0>,\n",
       "  <matplotlib.lines.Line2D at 0x1c98561db20>],\n",
       " 'caps': [<matplotlib.lines.Line2D at 0x1c985625190>,\n",
       "  <matplotlib.lines.Line2D at 0x1c985625eb0>],\n",
       " 'boxes': [<matplotlib.lines.Line2D at 0x1c98560fa90>],\n",
       " 'medians': [<matplotlib.lines.Line2D at 0x1c98562e6d0>],\n",
       " 'fliers': [<matplotlib.lines.Line2D at 0x1c98562e610>],\n",
       " 'means': []}"
      ]
     },
     "execution_count": 91,
     "metadata": {},
     "output_type": "execute_result"
    },
    {
     "data": {
      "image/png": "[encoded data removed]",
      "text/plain": [
       "<Figure size 432x288 with 1 Axes>"
      ]
     },
     "metadata": {
      "needs_background": "light"
     },
     "output_type": "display_data"
    }
   ],
   "source": [
    "plt.boxplot(gb['full_time'],vert=True)"
   ]
  },
  {
   "cell_type": "code",
   "execution_count": 94,
   "metadata": {},
   "outputs": [
    {
     "ename": "NameError",
     "evalue": "name 'xlabel' is not defined",
     "output_type": "error",
     "traceback": [
      "\u001b[1;31m---------------------------------------------------------------------------\u001b[0m",
      "\u001b[1;31mNameError\u001b[0m                                 Traceback (most recent call last)",
      "\u001b[1;32m<ipython-input-94-444522c0e6d6>\u001b[0m in \u001b[0;36m<module>\u001b[1;34m\u001b[0m\n\u001b[1;32m----> 1\u001b[1;33m \u001b[0mplt\u001b[0m\u001b[1;33m.\u001b[0m\u001b[0mboxplot\u001b[0m\u001b[1;33m(\u001b[0m\u001b[0mgb\u001b[0m\u001b[1;33m[\u001b[0m\u001b[1;34m'full_time'\u001b[0m\u001b[1;33m]\u001b[0m\u001b[1;33m,\u001b[0m\u001b[0mvert\u001b[0m\u001b[1;33m=\u001b[0m\u001b[1;32mFalse\u001b[0m\u001b[1;33m)\u001b[0m\u001b[1;33m;\u001b[0m\u001b[0mplt\u001b[0m\u001b[1;33m.\u001b[0m\u001b[0mylabel\u001b[0m\u001b[1;33m(\u001b[0m\u001b[1;34m'binno'\u001b[0m\u001b[1;33m)\u001b[0m\u001b[1;33m;\u001b[0m\u001b[0mxlabel\u001b[0m\u001b[1;33m(\u001b[0m\u001b[1;34m'lat'\u001b[0m\u001b[1;33m)\u001b[0m\u001b[1;33m;\u001b[0m\u001b[1;33m\u001b[0m\u001b[1;33m\u001b[0m\u001b[0m\n\u001b[0m",
      "\u001b[1;31mNameError\u001b[0m: name 'xlabel' is not defined"
     ]
    },
    {
     "data": {
      "image/png": "[encoded data removed]",
      "text/plain": [
       "<Figure size 432x288 with 1 Axes>"
      ]
     },
     "metadata": {
      "needs_background": "light"
     },
     "output_type": "display_data"
    }
   ],
   "source": [
    "plt.boxplot(gb['full_time'],vert=False);plt.ylabel('binno');xlabel('lat');"
   ]
  },
  {
   "cell_type": "code",
   "execution_count": 95,
   "metadata": {},
   "outputs": [
    {
     "data": {
      "text/plain": [
       "{'bodies': [<matplotlib.collections.PolyCollection at 0x1c983c35220>],\n",
       " 'cmaxes': <matplotlib.collections.LineCollection at 0x1c983c35040>,\n",
       " 'cmins': <matplotlib.collections.LineCollection at 0x1c983c350a0>,\n",
       " 'cbars': <matplotlib.collections.LineCollection at 0x1c983c356d0>}"
      ]
     },
     "execution_count": 95,
     "metadata": {},
     "output_type": "execute_result"
    },
    {
     "data": {
      "image/png": "[encoded data removed]",
      "text/plain": [
       "<Figure size 432x288 with 1 Axes>"
      ]
     },
     "metadata": {
      "needs_background": "light"
     },
     "output_type": "display_data"
    }
   ],
   "source": [
    "plt.violinplot(gb['full_time'])"
   ]
  },
  {
   "cell_type": "code",
   "execution_count": null,
   "metadata": {},
   "outputs": [],
   "source": []
  }
 ],
 "metadata": {
  "kernelspec": {
   "display_name": "Python 3",
   "language": "python",
   "name": "python3"
  },
  "language_info": {
   "codemirror_mode": {
    "name": "ipython",
    "version": 3
   },
   "file_extension": ".py",
   "mimetype": "text/x-python",
   "name": "python",
   "nbconvert_exporter": "python",
   "pygments_lexer": "ipython3",
   "version": "3.8.5"
  }
 },
 "nbformat": 4,
 "nbformat_minor": 4
}
